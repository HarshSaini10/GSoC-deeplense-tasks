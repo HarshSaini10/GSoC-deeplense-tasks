{
 "cells": [
  {
   "cell_type": "code",
   "execution_count": null,
   "id": "7efc0a5f-b0ba-408f-a94d-5f7b359d0728",
   "metadata": {
    "execution": {
     "iopub.execute_input": "2025-04-01T11:22:07.740343Z",
     "iopub.status.busy": "2025-04-01T11:22:07.740059Z",
     "iopub.status.idle": "2025-04-01T11:22:15.788246Z",
     "shell.execute_reply": "2025-04-01T11:22:15.787532Z",
     "shell.execute_reply.started": "2025-04-01T11:22:07.740322Z"
    },
    "trusted": true
   },
   "outputs": [
    {
     "name": "stderr",
     "output_type": "stream",
     "text": [
      "/usr/local/lib/python3.10/dist-packages/albumentations/__init__.py:24: UserWarning: A new version of Albumentations is available: 2.0.5 (you have 1.4.20). Upgrade using: pip install -U albumentations. To disable automatic update checks, set the environment variable NO_ALBUMENTATIONS_UPDATE to 1.\n",
      "  check_for_updates()\n"
     ]
    }
   ],
   "source": [
    "import h5py as h5\n",
    "import numpy as np\n",
    "import pandas as pd\n",
    "import polars as pl\n",
    "import matplotlib.pyplot as plt\n",
    "import torch\n",
    "import torch.nn as nn\n",
    "import torch.nn.functional as F\n",
    "import torch.optim as optim\n",
    "from torch.utils.data import DataLoader\n",
    "import torchvision.models as models\n",
    "import albumentations as A\n",
    "from albumentations.pytorch import ToTensorV2\n",
    "import os\n",
    "import csv\n",
    "import h5py\n",
    "from torchvision.models import resnet18\n",
    "from torch.optim.lr_scheduler import StepLR\n",
    "from tqdm import tqdm\n",
    "from sklearn.metrics import roc_auc_score\n",
    "from sklearn.model_selection import train_test_split\n",
    "from datasets import load_dataset\n",
    "from PIL import Image\n",
    "device = 'cuda' if torch.cuda.is_available() else 'cpu'\n",
    "import warnings \n",
    "warnings.filterwarnings(\"ignore\")"
   ]
  },
  {
   "cell_type": "code",
   "execution_count": 2,
   "id": "9429dff5-ca79-4222-a1aa-9757f5f4602f",
   "metadata": {
    "execution": {
     "iopub.execute_input": "2025-04-01T11:22:15.789616Z",
     "iopub.status.busy": "2025-04-01T11:22:15.789230Z",
     "iopub.status.idle": "2025-04-01T11:22:16.040520Z",
     "shell.execute_reply": "2025-04-01T11:22:16.039730Z",
     "shell.execute_reply.started": "2025-04-01T11:22:15.789585Z"
    },
    "trusted": true
   },
   "outputs": [],
   "source": [
    "train_path = \"/kaggle/input/deeplense-task1/dataset/train\"\n",
    "train_imgs = {}\n",
    "for cat in os.listdir(train_path):\n",
    "    sub_path = os.path.join(train_path,cat)\n",
    "    imgs = []\n",
    "    for img_path in os.listdir(sub_path):\n",
    "        imgs.append(os.path.join(sub_path,img_path))\n",
    "    train_imgs[cat] = imgs"
   ]
  },
  {
   "cell_type": "code",
   "execution_count": 3,
   "id": "80116091-e4f0-419c-926c-6af36515c4a8",
   "metadata": {
    "execution": {
     "iopub.execute_input": "2025-04-01T11:22:16.042389Z",
     "iopub.status.busy": "2025-04-01T11:22:16.042169Z",
     "iopub.status.idle": "2025-04-01T11:22:16.162237Z",
     "shell.execute_reply": "2025-04-01T11:22:16.161482Z",
     "shell.execute_reply.started": "2025-04-01T11:22:16.042371Z"
    },
    "trusted": true
   },
   "outputs": [],
   "source": [
    "val_path = \"/kaggle/input/deeplense-task1/dataset/val\"\n",
    "val_imgs = {}\n",
    "for cat in os.listdir(val_path):\n",
    "    sub_path = os.path.join(val_path,cat)\n",
    "    imgs = []\n",
    "    for img_path in os.listdir(sub_path):\n",
    "        imgs.append(os.path.join(sub_path,img_path))\n",
    "    val_imgs[cat] = imgs"
   ]
  },
  {
   "cell_type": "code",
   "execution_count": 4,
   "id": "a03b89e2-4d20-499f-881b-526260e76dea",
   "metadata": {
    "execution": {
     "iopub.execute_input": "2025-04-01T11:22:16.163701Z",
     "iopub.status.busy": "2025-04-01T11:22:16.163402Z",
     "iopub.status.idle": "2025-04-01T11:22:16.173891Z",
     "shell.execute_reply": "2025-04-01T11:22:16.173080Z",
     "shell.execute_reply.started": "2025-04-01T11:22:16.163672Z"
    },
    "trusted": true
   },
   "outputs": [],
   "source": [
    "train_rows = [(img_path, label) for label, img_paths in train_imgs.items() for img_path in img_paths]\n",
    "val_rows = [(img_path, label) for label, img_paths in val_imgs.items() for img_path in img_paths]"
   ]
  },
  {
   "cell_type": "code",
   "execution_count": 5,
   "id": "47c005ff-8b31-4af1-aefa-be395156f8de",
   "metadata": {
    "execution": {
     "iopub.execute_input": "2025-04-01T11:22:16.174911Z",
     "iopub.status.busy": "2025-04-01T11:22:16.174723Z",
     "iopub.status.idle": "2025-04-01T11:22:16.196506Z",
     "shell.execute_reply": "2025-04-01T11:22:16.195733Z",
     "shell.execute_reply.started": "2025-04-01T11:22:16.174895Z"
    },
    "trusted": true
   },
   "outputs": [],
   "source": [
    "df_train = pd.DataFrame(train_rows, columns = ['img_path','label'])\n",
    "df_val = pd.DataFrame(val_rows, columns = ['img_path','label'])"
   ]
  },
  {
   "cell_type": "code",
   "execution_count": 6,
   "id": "f8e0a1fd-cbc3-4d18-8088-8c572c46586b",
   "metadata": {
    "execution": {
     "iopub.execute_input": "2025-04-01T11:22:16.197536Z",
     "iopub.status.busy": "2025-04-01T11:22:16.197319Z",
     "iopub.status.idle": "2025-04-01T11:22:16.215466Z",
     "shell.execute_reply": "2025-04-01T11:22:16.214801Z",
     "shell.execute_reply.started": "2025-04-01T11:22:16.197519Z"
    },
    "trusted": true
   },
   "outputs": [],
   "source": [
    "df_train['label'] = df_train['label'].map({'no':0, 'sphere':1, 'vort':2})\n",
    "df_val['label'] = df_val['label'].map({'no':0, 'sphere':1, 'vort':2})"
   ]
  },
  {
   "cell_type": "code",
   "execution_count": 7,
   "id": "93eb5713-d672-4be9-9f68-77ca22aac1a4",
   "metadata": {
    "execution": {
     "iopub.execute_input": "2025-04-01T11:22:16.216624Z",
     "iopub.status.busy": "2025-04-01T11:22:16.216317Z",
     "iopub.status.idle": "2025-04-01T11:22:16.222107Z",
     "shell.execute_reply": "2025-04-01T11:22:16.221418Z",
     "shell.execute_reply.started": "2025-04-01T11:22:16.216592Z"
    },
    "trusted": true
   },
   "outputs": [],
   "source": [
    "class Dataset(nn.Module):\n",
    "    def __init__(self,data,transform = None, train = True):\n",
    "        self.data = data\n",
    "        self.imgs = [np.load(img_path) for img_path in self.data['img_path']]\n",
    "        self.y = torch.tensor(self.data['label'], dtype = torch.long)\n",
    "        self.transform = transform\n",
    "        self.train = train\n",
    "\n",
    "    def __len__(self):\n",
    "        return len(self.data)\n",
    "\n",
    "    def __getitem__(self, idx):\n",
    "        img = self.imgs[idx].squeeze()[:,:,np.newaxis]\n",
    "        label = self.y[idx]\n",
    "        img = np.tile(img,(1,1,3))\n",
    "        if self.transform != None:\n",
    "            img = self.transform(image = img)[\"image\"]\n",
    "\n",
    "        return img, label"
   ]
  },
  {
   "cell_type": "code",
   "execution_count": 8,
   "id": "f1a898f2-47a9-464e-865d-8109957ef338",
   "metadata": {
    "execution": {
     "iopub.execute_input": "2025-04-01T11:22:16.224210Z",
     "iopub.status.busy": "2025-04-01T11:22:16.224011Z",
     "iopub.status.idle": "2025-04-01T11:22:16.242340Z",
     "shell.execute_reply": "2025-04-01T11:22:16.241747Z",
     "shell.execute_reply.started": "2025-04-01T11:22:16.224194Z"
    },
    "trusted": true
   },
   "outputs": [],
   "source": [
    "train_transform = A.Compose([\n",
    "    # A.RandomRotate90(p=0.5),\n",
    "    # A.HorizontalFlip(p=0.5),\n",
    "    # A.VerticalFlip(p=0.5),\n",
    "    # A.ShiftScaleRotate(shift_limit=0.0625, scale_limit=0.1, rotate_limit=45, p=0.5),\n",
    "    # A.Normalize(mean=(0.485, 0.456, 0.406), \n",
    "    #             std=(0.229, 0.224, 0.225)),\n",
    "    # A.Resize(28,28),\n",
    "    ToTensorV2()\n",
    "])\n",
    "\n",
    "val_transform = A.Compose([\n",
    "    # A.Resize(28,28),\n",
    "    ToTensorV2()\n",
    "])"
   ]
  },
  {
   "cell_type": "code",
   "execution_count": 9,
   "id": "463b3777-9471-4f33-a9ba-37d5cf50771b",
   "metadata": {
    "execution": {
     "iopub.execute_input": "2025-04-01T11:22:16.243357Z",
     "iopub.status.busy": "2025-04-01T11:22:16.243143Z",
     "iopub.status.idle": "2025-04-01T11:26:49.094988Z",
     "shell.execute_reply": "2025-04-01T11:26:49.094260Z",
     "shell.execute_reply.started": "2025-04-01T11:22:16.243333Z"
    },
    "trusted": true
   },
   "outputs": [],
   "source": [
    "train_dataset = Dataset(df_train, train_transform)\n",
    "val_dataset = Dataset(df_val, val_transform)"
   ]
  },
  {
   "cell_type": "code",
   "execution_count": 10,
   "id": "07847dcd-b791-449a-b304-1be851fdd861",
   "metadata": {
    "execution": {
     "iopub.execute_input": "2025-04-01T11:26:49.095979Z",
     "iopub.status.busy": "2025-04-01T11:26:49.095770Z",
     "iopub.status.idle": "2025-04-01T11:26:49.100069Z",
     "shell.execute_reply": "2025-04-01T11:26:49.099239Z",
     "shell.execute_reply.started": "2025-04-01T11:26:49.095961Z"
    },
    "trusted": true
   },
   "outputs": [],
   "source": [
    "train_loader = DataLoader(train_dataset, batch_size = 32, shuffle = True, num_workers = 0)\n",
    "val_loader = DataLoader(val_dataset, batch_size = 32, shuffle = False, num_workers = 0)"
   ]
  },
  {
   "cell_type": "code",
   "execution_count": null,
   "id": "ae4b3cd1-e0cc-4365-bdc6-ee4b540dcf01",
   "metadata": {
    "execution": {
     "iopub.execute_input": "2025-04-01T11:26:49.101456Z",
     "iopub.status.busy": "2025-04-01T11:26:49.101218Z",
     "iopub.status.idle": "2025-04-01T11:26:51.570105Z",
     "shell.execute_reply": "2025-04-01T11:26:51.569425Z",
     "shell.execute_reply.started": "2025-04-01T11:26:49.101437Z"
    },
    "trusted": true
   },
   "outputs": [],
   "source": [
    "class AuxPoissonCNN(nn.Module):\n",
    "    def __init__(self, num_classes=3):\n",
    "        super(AuxPoissonCNN, self).__init__()\n",
    "        self.shared = nn.Sequential(\n",
    "            nn.Conv2d(3, 32, kernel_size=3, padding=1), \n",
    "            nn.ReLU(),\n",
    "            nn.MaxPool2d(2),\n",
    "            nn.Conv2d(32, 64, kernel_size=3, padding=1),\n",
    "            nn.ReLU(),\n",
    "            nn.MaxPool2d(2)\n",
    "        )\n",
    "        self.classifier = nn.Sequential(\n",
    "            nn.Flatten(),\n",
    "            nn.Linear(64 * 37 * 37, 256), \n",
    "            nn.ReLU(),\n",
    "            nn.Linear(256, num_classes)\n",
    "        )\n",
    "\n",
    "        self.potential_head = nn.Sequential(\n",
    "            nn.Conv2d(64, 32, kernel_size=3, padding=1),\n",
    "            nn.ReLU(),\n",
    "            nn.Conv2d(32, 1, kernel_size=3, padding=1) \n",
    "        )\n",
    "    \n",
    "    def forward(self, x):\n",
    "        features = self.shared(x)\n",
    "        class_out = self.classifier(features)\n",
    "        potential = self.potential_head(features)\n",
    "        return class_out, potential\n",
    "\n",
    "def poisson_loss(potential, source):\n",
    "    source_gray = source.mean(dim=1, keepdim=True)\n",
    "    laplace_kernel = torch.tensor([[0, 1, 0],\n",
    "                                   [1, -4, 1],\n",
    "                                   [0, 1, 0]], dtype=torch.float32, device=potential.device).unsqueeze(0).unsqueeze(0)\n",
    "    laplacian_phi = F.conv2d(potential, laplace_kernel, padding=1)\n",
    "    target = 2 * source_gray\n",
    "    return F.mse_loss(laplacian_phi, target)\n",
    "\n",
    "def get_pretrained_model(model_name, num_classes=3, pretrained=True):\n",
    "    if model_name.lower() == 'auxpoissoncnn':\n",
    "        model = AuxPoissonCNN(num_classes=num_classes)\n",
    "        return model\n",
    "    else:\n",
    "        try:\n",
    "            model = timm.create_model(model_name, pretrained=pretrained, num_classes=num_classes)\n",
    "            return model\n",
    "        except Exception as e:\n",
    "            raise ValueError(f\"Error creating model '{model_name}' with timm: {e}\")\n",
    "\n",
    "def train_aux_poisson(model_name, train_dataloader, val_dataloader, num_epochs=10, device='cuda', lambda_poisson=0.1):\n",
    "    model = get_pretrained_model(model_name, num_classes=3, pretrained=True)\n",
    "    model = model.to(device)\n",
    "    optimizer = optim.Adam(model.parameters(), lr=1e-3)\n",
    "    criterion = nn.CrossEntropyLoss()\n",
    "    is_aux_model = hasattr(model, 'potential_head')\n",
    "    \n",
    "    for epoch in range(num_epochs):\n",
    "        model.train()\n",
    "        total_loss = 0.0\n",
    "        correct = 0\n",
    "        total = 0\n",
    "        \n",
    "        epoch_true = []\n",
    "        epoch_preds = []\n",
    "        \n",
    "        for images, labels in tqdm(train_dataloader, desc=f\"Epoch {epoch+1}/{num_epochs} [Train]\"):\n",
    "            images = images.float().to(device)\n",
    "            labels = labels.to(device)\n",
    "            optimizer.zero_grad()\n",
    "            \n",
    "            if is_aux_model:\n",
    "                outputs, potential = model(images)\n",
    "                cls_loss = criterion(outputs, labels)\n",
    "                aux_loss = poisson_loss(potential, images)\n",
    "                loss = cls_loss + lambda_poisson * aux_loss\n",
    "                preds = F.softmax(outputs, dim=1)\n",
    "            else:\n",
    "                outputs = model(images)\n",
    "                loss = criterion(outputs, labels)\n",
    "                preds = F.softmax(outputs, dim=1)\n",
    "            \n",
    "            loss.backward()\n",
    "            optimizer.step()\n",
    "            \n",
    "            total_loss += loss.item() * images.size(0)\n",
    "            total += labels.size(0)\n",
    "            _, predicted = (outputs.max(1) if is_aux_model else torch.max(outputs, 1))\n",
    "            correct += predicted.eq(labels).sum().item()\n",
    "\n",
    "            epoch_true.extend(labels.cpu().numpy())\n",
    "            epoch_preds.extend(preds.cpu().detach().numpy())\n",
    "   \n",
    "            del images, labels, outputs, preds\n",
    "            if is_aux_model:\n",
    "                del potential, cls_loss, aux_loss\n",
    "        \n",
    "        try:\n",
    "            auc = roc_auc_score(epoch_true, epoch_preds, multi_class='ovr')\n",
    "        except Exception as e:\n",
    "            auc = float('nan')\n",
    "            print(\"AUC calculation error:\", e)\n",
    "        \n",
    "        print(f\"Epoch {epoch+1}: Train Loss {total_loss/total:.4f}, Train Acc {correct/total:.4f}, Train AUC {auc:.4f}\")\n",
    "        \n",
    "        model.eval()\n",
    "        val_loss = 0.0\n",
    "        val_correct = 0\n",
    "        total_val = 0\n",
    "        val_true = []\n",
    "        val_preds = []\n",
    "        with torch.no_grad():\n",
    "            for images, labels in tqdm(val_dataloader, desc=f\"Epoch {epoch+1}/{num_epochs} [Val]\"):\n",
    "                images = images.float().to(device)\n",
    "                labels = labels.to(device)\n",
    "                if is_aux_model:\n",
    "                    outputs, potential = model(images)\n",
    "                    cls_loss = criterion(outputs, labels)\n",
    "                    aux_loss = poisson_loss(potential, images)\n",
    "                    loss = cls_loss + lambda_poisson * aux_loss\n",
    "                    preds = F.softmax(outputs, dim=1)\n",
    "                else:\n",
    "                    outputs = model(images)\n",
    "                    loss = criterion(outputs, labels)\n",
    "                    preds = F.softmax(outputs, dim=1)\n",
    "                val_loss += loss.item() * images.size(0)\n",
    "                total_val += labels.size(0)\n",
    "                _, predicted = (outputs.max(1) if is_aux_model else torch.max(outputs, 1))\n",
    "                val_correct += predicted.eq(labels).sum().item()\n",
    "                val_true.extend(labels.cpu().numpy())\n",
    "                val_preds.extend(preds.cpu().detach().numpy())\n",
    "                \n",
    "                del images, labels, outputs, preds\n",
    "                if is_aux_model:\n",
    "                    del potential, cls_loss, aux_loss\n",
    "        \n",
    "        try:\n",
    "            val_auc = roc_auc_score(val_true, val_preds, multi_class='ovr')\n",
    "        except Exception as e:\n",
    "            val_auc = float('nan')\n",
    "            print(\"Validation AUC calculation error:\", e)\n",
    "        \n",
    "        print(f\"Epoch {epoch+1}: Val Loss {val_loss/total_val:.4f}, Val Acc {val_correct/total_val:.4f}, Val AUC {val_auc:.4f}\")\n",
    "    return model"
   ]
  },
  {
   "cell_type": "code",
   "execution_count": 15,
   "id": "1a464258-3c91-44f8-9caa-4a2736957e46",
   "metadata": {
    "execution": {
     "iopub.execute_input": "2025-04-01T08:45:17.990760Z",
     "iopub.status.busy": "2025-04-01T08:45:17.990447Z",
     "iopub.status.idle": "2025-04-01T08:58:32.648068Z",
     "shell.execute_reply": "2025-04-01T08:58:32.647084Z",
     "shell.execute_reply.started": "2025-04-01T08:45:17.990736Z"
    },
    "trusted": true
   },
   "outputs": [
    {
     "data": {
      "application/vnd.jupyter.widget-view+json": {
       "model_id": "b673b485e84f47838710f23ff6404028",
       "version_major": 2,
       "version_minor": 0
      },
      "text/plain": [
       "model.safetensors:   0%|          | 0.00/21.4M [00:00<?, ?B/s]"
      ]
     },
     "metadata": {},
     "output_type": "display_data"
    },
    {
     "name": "stderr",
     "output_type": "stream",
     "text": [
      "Epoch 1/10 [Train]: 100%|██████████| 938/938 [01:14<00:00, 12.64it/s]\n"
     ]
    },
    {
     "name": "stdout",
     "output_type": "stream",
     "text": [
      "Epoch 1: Train Loss 1.1217, Train Acc 0.4668, Train AUC 0.6568\n"
     ]
    },
    {
     "name": "stderr",
     "output_type": "stream",
     "text": [
      "Epoch 1/10 [Val]: 100%|██████████| 235/235 [00:06<00:00, 36.36it/s]\n"
     ]
    },
    {
     "name": "stdout",
     "output_type": "stream",
     "text": [
      "Epoch 1: Val Loss 0.9137, Val Acc 0.5800, Val AUC 0.8024\n"
     ]
    },
    {
     "name": "stderr",
     "output_type": "stream",
     "text": [
      "Epoch 2/10 [Train]: 100%|██████████| 938/938 [01:12<00:00, 12.87it/s]\n"
     ]
    },
    {
     "name": "stdout",
     "output_type": "stream",
     "text": [
      "Epoch 2: Train Loss 0.6442, Train Acc 0.7227, Train AUC 0.8790\n"
     ]
    },
    {
     "name": "stderr",
     "output_type": "stream",
     "text": [
      "Epoch 2/10 [Val]: 100%|██████████| 235/235 [00:06<00:00, 38.82it/s]\n"
     ]
    },
    {
     "name": "stdout",
     "output_type": "stream",
     "text": [
      "Epoch 2: Val Loss 0.6278, Val Acc 0.7397, Val AUC 0.9182\n"
     ]
    },
    {
     "name": "stderr",
     "output_type": "stream",
     "text": [
      "Epoch 3/10 [Train]: 100%|██████████| 938/938 [01:12<00:00, 12.88it/s]\n"
     ]
    },
    {
     "name": "stdout",
     "output_type": "stream",
     "text": [
      "Epoch 3: Train Loss 0.4305, Train Acc 0.8318, Train AUC 0.9459\n"
     ]
    },
    {
     "name": "stderr",
     "output_type": "stream",
     "text": [
      "Epoch 3/10 [Val]: 100%|██████████| 235/235 [00:06<00:00, 35.07it/s]\n"
     ]
    },
    {
     "name": "stdout",
     "output_type": "stream",
     "text": [
      "Epoch 3: Val Loss 0.4043, Val Acc 0.8551, Val AUC 0.9619\n"
     ]
    },
    {
     "name": "stderr",
     "output_type": "stream",
     "text": [
      "Epoch 4/10 [Train]: 100%|██████████| 938/938 [01:12<00:00, 12.92it/s]\n"
     ]
    },
    {
     "name": "stdout",
     "output_type": "stream",
     "text": [
      "Epoch 4: Train Loss 0.3360, Train Acc 0.8738, Train AUC 0.9665\n"
     ]
    },
    {
     "name": "stderr",
     "output_type": "stream",
     "text": [
      "Epoch 4/10 [Val]: 100%|██████████| 235/235 [00:05<00:00, 40.21it/s]\n"
     ]
    },
    {
     "name": "stdout",
     "output_type": "stream",
     "text": [
      "Epoch 4: Val Loss 0.3542, Val Acc 0.8669, Val AUC 0.9674\n"
     ]
    },
    {
     "name": "stderr",
     "output_type": "stream",
     "text": [
      "Epoch 5/10 [Train]: 100%|██████████| 938/938 [01:12<00:00, 12.87it/s]\n"
     ]
    },
    {
     "name": "stdout",
     "output_type": "stream",
     "text": [
      "Epoch 5: Train Loss 0.2790, Train Acc 0.8957, Train AUC 0.9764\n"
     ]
    },
    {
     "name": "stderr",
     "output_type": "stream",
     "text": [
      "Epoch 5/10 [Val]: 100%|██████████| 235/235 [00:07<00:00, 33.56it/s]\n"
     ]
    },
    {
     "name": "stdout",
     "output_type": "stream",
     "text": [
      "Epoch 5: Val Loss 0.2955, Val Acc 0.8896, Val AUC 0.9761\n"
     ]
    },
    {
     "name": "stderr",
     "output_type": "stream",
     "text": [
      "Epoch 6/10 [Train]: 100%|██████████| 938/938 [01:12<00:00, 12.91it/s]\n"
     ]
    },
    {
     "name": "stdout",
     "output_type": "stream",
     "text": [
      "Epoch 6: Train Loss 0.2447, Train Acc 0.9104, Train AUC 0.9817\n"
     ]
    },
    {
     "name": "stderr",
     "output_type": "stream",
     "text": [
      "Epoch 6/10 [Val]: 100%|██████████| 235/235 [00:05<00:00, 40.08it/s]\n"
     ]
    },
    {
     "name": "stdout",
     "output_type": "stream",
     "text": [
      "Epoch 6: Val Loss 0.3266, Val Acc 0.8855, Val AUC 0.9739\n"
     ]
    },
    {
     "name": "stderr",
     "output_type": "stream",
     "text": [
      "Epoch 7/10 [Train]: 100%|██████████| 938/938 [01:12<00:00, 12.89it/s]\n"
     ]
    },
    {
     "name": "stdout",
     "output_type": "stream",
     "text": [
      "Epoch 7: Train Loss 0.2152, Train Acc 0.9229, Train AUC 0.9855\n"
     ]
    },
    {
     "name": "stderr",
     "output_type": "stream",
     "text": [
      "Epoch 7/10 [Val]: 100%|██████████| 235/235 [00:06<00:00, 34.25it/s]\n"
     ]
    },
    {
     "name": "stdout",
     "output_type": "stream",
     "text": [
      "Epoch 7: Val Loss 0.2776, Val Acc 0.9013, Val AUC 0.9810\n"
     ]
    },
    {
     "name": "stderr",
     "output_type": "stream",
     "text": [
      "Epoch 8/10 [Train]: 100%|██████████| 938/938 [01:12<00:00, 12.88it/s]\n"
     ]
    },
    {
     "name": "stdout",
     "output_type": "stream",
     "text": [
      "Epoch 8: Train Loss 0.1946, Train Acc 0.9318, Train AUC 0.9879\n"
     ]
    },
    {
     "name": "stderr",
     "output_type": "stream",
     "text": [
      "Epoch 8/10 [Val]: 100%|██████████| 235/235 [00:05<00:00, 39.49it/s]\n"
     ]
    },
    {
     "name": "stdout",
     "output_type": "stream",
     "text": [
      "Epoch 8: Val Loss 0.2462, Val Acc 0.9147, Val AUC 0.9815\n"
     ]
    },
    {
     "name": "stderr",
     "output_type": "stream",
     "text": [
      "Epoch 9/10 [Train]: 100%|██████████| 938/938 [01:13<00:00, 12.81it/s]\n"
     ]
    },
    {
     "name": "stdout",
     "output_type": "stream",
     "text": [
      "Epoch 9: Train Loss 0.1724, Train Acc 0.9374, Train AUC 0.9906\n"
     ]
    },
    {
     "name": "stderr",
     "output_type": "stream",
     "text": [
      "Epoch 9/10 [Val]: 100%|██████████| 235/235 [00:06<00:00, 35.53it/s]\n"
     ]
    },
    {
     "name": "stdout",
     "output_type": "stream",
     "text": [
      "Epoch 9: Val Loss 0.2198, Val Acc 0.9203, Val AUC 0.9845\n"
     ]
    },
    {
     "name": "stderr",
     "output_type": "stream",
     "text": [
      "Epoch 10/10 [Train]: 100%|██████████| 938/938 [01:12<00:00, 12.86it/s]\n"
     ]
    },
    {
     "name": "stdout",
     "output_type": "stream",
     "text": [
      "Epoch 10: Train Loss 0.1563, Train Acc 0.9439, Train AUC 0.9923\n"
     ]
    },
    {
     "name": "stderr",
     "output_type": "stream",
     "text": [
      "Epoch 10/10 [Val]: 100%|██████████| 235/235 [00:05<00:00, 39.99it/s]"
     ]
    },
    {
     "name": "stdout",
     "output_type": "stream",
     "text": [
      "Epoch 10: Val Loss 0.2297, Val Acc 0.9203, Val AUC 0.9852\n"
     ]
    },
    {
     "name": "stderr",
     "output_type": "stream",
     "text": [
      "\n"
     ]
    }
   ],
   "source": [
    "train_aux_poisson('efficientnet_b0', train_loader, val_loader)"
   ]
  },
  {
   "cell_type": "code",
   "execution_count": 19,
   "id": "008b2584-66c6-4a68-91e3-fc067dad37db",
   "metadata": {
    "execution": {
     "iopub.execute_input": "2025-04-01T09:02:16.398332Z",
     "iopub.status.busy": "2025-04-01T09:02:16.397999Z",
     "iopub.status.idle": "2025-04-01T09:20:07.076756Z",
     "shell.execute_reply": "2025-04-01T09:20:07.075867Z",
     "shell.execute_reply.started": "2025-04-01T09:02:16.398306Z"
    },
    "trusted": true
   },
   "outputs": [
    {
     "name": "stderr",
     "output_type": "stream",
     "text": [
      "Epoch 1/10 [Train]: 100%|██████████| 938/938 [01:39<00:00,  9.42it/s]\n"
     ]
    },
    {
     "name": "stdout",
     "output_type": "stream",
     "text": [
      "Epoch 1: Train Loss 1.1766, Train Acc 0.3516, Train AUC 0.5249\n"
     ]
    },
    {
     "name": "stderr",
     "output_type": "stream",
     "text": [
      "Epoch 1/10 [Val]: 100%|██████████| 235/235 [00:07<00:00, 30.52it/s]\n"
     ]
    },
    {
     "name": "stdout",
     "output_type": "stream",
     "text": [
      "Epoch 1: Val Loss 1.4142, Val Acc 0.3333, Val AUC 0.5676\n"
     ]
    },
    {
     "name": "stderr",
     "output_type": "stream",
     "text": [
      "Epoch 2/10 [Train]: 100%|██████████| 938/938 [01:39<00:00,  9.40it/s]\n"
     ]
    },
    {
     "name": "stdout",
     "output_type": "stream",
     "text": [
      "Epoch 2: Train Loss 1.0401, Train Acc 0.4384, Train AUC 0.6310\n"
     ]
    },
    {
     "name": "stderr",
     "output_type": "stream",
     "text": [
      "Epoch 2/10 [Val]: 100%|██████████| 235/235 [00:07<00:00, 31.49it/s]\n"
     ]
    },
    {
     "name": "stdout",
     "output_type": "stream",
     "text": [
      "Epoch 2: Val Loss 0.9814, Val Acc 0.4401, Val AUC 0.7629\n"
     ]
    },
    {
     "name": "stderr",
     "output_type": "stream",
     "text": [
      "Epoch 3/10 [Train]: 100%|██████████| 938/938 [01:39<00:00,  9.39it/s]\n"
     ]
    },
    {
     "name": "stdout",
     "output_type": "stream",
     "text": [
      "Epoch 3: Train Loss 0.5741, Train Acc 0.7605, Train AUC 0.9061\n"
     ]
    },
    {
     "name": "stderr",
     "output_type": "stream",
     "text": [
      "Epoch 3/10 [Val]: 100%|██████████| 235/235 [00:07<00:00, 31.50it/s]\n"
     ]
    },
    {
     "name": "stdout",
     "output_type": "stream",
     "text": [
      "Epoch 3: Val Loss 0.5570, Val Acc 0.7691, Val AUC 0.9380\n"
     ]
    },
    {
     "name": "stderr",
     "output_type": "stream",
     "text": [
      "Epoch 4/10 [Train]: 100%|██████████| 938/938 [01:39<00:00,  9.39it/s]\n"
     ]
    },
    {
     "name": "stdout",
     "output_type": "stream",
     "text": [
      "Epoch 4: Train Loss 0.3660, Train Acc 0.8627, Train AUC 0.9601\n"
     ]
    },
    {
     "name": "stderr",
     "output_type": "stream",
     "text": [
      "Epoch 4/10 [Val]: 100%|██████████| 235/235 [00:07<00:00, 31.46it/s]\n"
     ]
    },
    {
     "name": "stdout",
     "output_type": "stream",
     "text": [
      "Epoch 4: Val Loss 0.3960, Val Acc 0.8556, Val AUC 0.9572\n"
     ]
    },
    {
     "name": "stderr",
     "output_type": "stream",
     "text": [
      "Epoch 5/10 [Train]: 100%|██████████| 938/938 [01:39<00:00,  9.41it/s]\n"
     ]
    },
    {
     "name": "stdout",
     "output_type": "stream",
     "text": [
      "Epoch 5: Train Loss 0.3138, Train Acc 0.8849, Train AUC 0.9701\n"
     ]
    },
    {
     "name": "stderr",
     "output_type": "stream",
     "text": [
      "Epoch 5/10 [Val]: 100%|██████████| 235/235 [00:07<00:00, 31.66it/s]\n"
     ]
    },
    {
     "name": "stdout",
     "output_type": "stream",
     "text": [
      "Epoch 5: Val Loss 0.2983, Val Acc 0.8896, Val AUC 0.9734\n"
     ]
    },
    {
     "name": "stderr",
     "output_type": "stream",
     "text": [
      "Epoch 6/10 [Train]: 100%|██████████| 938/938 [01:39<00:00,  9.40it/s]\n"
     ]
    },
    {
     "name": "stdout",
     "output_type": "stream",
     "text": [
      "Epoch 6: Train Loss 0.2871, Train Acc 0.8958, Train AUC 0.9746\n"
     ]
    },
    {
     "name": "stderr",
     "output_type": "stream",
     "text": [
      "Epoch 6/10 [Val]: 100%|██████████| 235/235 [00:07<00:00, 31.01it/s]\n"
     ]
    },
    {
     "name": "stdout",
     "output_type": "stream",
     "text": [
      "Epoch 6: Val Loss 0.3594, Val Acc 0.8676, Val AUC 0.9685\n"
     ]
    },
    {
     "name": "stderr",
     "output_type": "stream",
     "text": [
      "Epoch 7/10 [Train]: 100%|██████████| 938/938 [01:39<00:00,  9.41it/s]\n"
     ]
    },
    {
     "name": "stdout",
     "output_type": "stream",
     "text": [
      "Epoch 7: Train Loss 0.2606, Train Acc 0.9053, Train AUC 0.9790\n"
     ]
    },
    {
     "name": "stderr",
     "output_type": "stream",
     "text": [
      "Epoch 7/10 [Val]: 100%|██████████| 235/235 [00:07<00:00, 31.74it/s]\n"
     ]
    },
    {
     "name": "stdout",
     "output_type": "stream",
     "text": [
      "Epoch 7: Val Loss 0.3512, Val Acc 0.8771, Val AUC 0.9702\n"
     ]
    },
    {
     "name": "stderr",
     "output_type": "stream",
     "text": [
      "Epoch 8/10 [Train]: 100%|██████████| 938/938 [01:39<00:00,  9.39it/s]\n"
     ]
    },
    {
     "name": "stdout",
     "output_type": "stream",
     "text": [
      "Epoch 8: Train Loss 0.2343, Train Acc 0.9155, Train AUC 0.9823\n"
     ]
    },
    {
     "name": "stderr",
     "output_type": "stream",
     "text": [
      "Epoch 8/10 [Val]: 100%|██████████| 235/235 [00:07<00:00, 31.52it/s]\n"
     ]
    },
    {
     "name": "stdout",
     "output_type": "stream",
     "text": [
      "Epoch 8: Val Loss 0.2878, Val Acc 0.9107, Val AUC 0.9824\n"
     ]
    },
    {
     "name": "stderr",
     "output_type": "stream",
     "text": [
      "Epoch 9/10 [Train]: 100%|██████████| 938/938 [01:38<00:00,  9.50it/s]\n"
     ]
    },
    {
     "name": "stdout",
     "output_type": "stream",
     "text": [
      "Epoch 9: Train Loss 0.2134, Train Acc 0.9248, Train AUC 0.9852\n"
     ]
    },
    {
     "name": "stderr",
     "output_type": "stream",
     "text": [
      "Epoch 9/10 [Val]: 100%|██████████| 235/235 [00:07<00:00, 32.47it/s]\n"
     ]
    },
    {
     "name": "stdout",
     "output_type": "stream",
     "text": [
      "Epoch 9: Val Loss 0.2839, Val Acc 0.9008, Val AUC 0.9786\n"
     ]
    },
    {
     "name": "stderr",
     "output_type": "stream",
     "text": [
      "Epoch 10/10 [Train]: 100%|██████████| 938/938 [01:38<00:00,  9.55it/s]\n"
     ]
    },
    {
     "name": "stdout",
     "output_type": "stream",
     "text": [
      "Epoch 10: Train Loss 0.1979, Train Acc 0.9301, Train AUC 0.9871\n"
     ]
    },
    {
     "name": "stderr",
     "output_type": "stream",
     "text": [
      "Epoch 10/10 [Val]: 100%|██████████| 235/235 [00:07<00:00, 33.41it/s]"
     ]
    },
    {
     "name": "stdout",
     "output_type": "stream",
     "text": [
      "Epoch 10: Val Loss 0.4230, Val Acc 0.8865, Val AUC 0.9787\n"
     ]
    },
    {
     "name": "stderr",
     "output_type": "stream",
     "text": [
      "\n"
     ]
    }
   ],
   "source": [
    "model = train_aux_poisson('efficientnet_b1', train_loader, val_loader)"
   ]
  },
  {
   "cell_type": "code",
   "execution_count": 20,
   "id": "14d4c87f-1e96-43ce-8529-f3a08693d5c1",
   "metadata": {
    "execution": {
     "iopub.execute_input": "2025-04-01T09:21:04.384396Z",
     "iopub.status.busy": "2025-04-01T09:21:04.384107Z",
     "iopub.status.idle": "2025-04-01T09:21:04.466567Z",
     "shell.execute_reply": "2025-04-01T09:21:04.465635Z",
     "shell.execute_reply.started": "2025-04-01T09:21:04.384373Z"
    },
    "trusted": true
   },
   "outputs": [],
   "source": [
    "torch.save({'model_state_dict':model.state_dict()},'effnet_b1_poisson_loss.pth')"
   ]
  },
  {
   "cell_type": "code",
   "execution_count": 12,
   "id": "fb76d643-fd48-4472-87ce-30cf8681f1a9",
   "metadata": {
    "execution": {
     "iopub.execute_input": "2025-04-01T11:26:51.571114Z",
     "iopub.status.busy": "2025-04-01T11:26:51.570895Z",
     "iopub.status.idle": "2025-04-01T11:34:48.585066Z",
     "shell.execute_reply": "2025-04-01T11:34:48.584350Z",
     "shell.execute_reply.started": "2025-04-01T11:26:51.571095Z"
    },
    "trusted": true
   },
   "outputs": [
    {
     "data": {
      "application/vnd.jupyter.widget-view+json": {
       "model_id": "244c9e1fca80477ba1345347ac1d3e72",
       "version_major": 2,
       "version_minor": 0
      },
      "text/plain": [
       "model.safetensors:   0%|          | 0.00/46.8M [00:00<?, ?B/s]"
      ]
     },
     "metadata": {},
     "output_type": "display_data"
    },
    {
     "name": "stderr",
     "output_type": "stream",
     "text": [
      "Epoch 1/10 [Train]: 100%|██████████| 938/938 [00:45<00:00, 20.84it/s]\n"
     ]
    },
    {
     "name": "stdout",
     "output_type": "stream",
     "text": [
      "Epoch 1: Train Loss 0.9885, Train Acc 0.4526, Train AUC 0.6664\n"
     ]
    },
    {
     "name": "stderr",
     "output_type": "stream",
     "text": [
      "Epoch 1/10 [Val]: 100%|██████████| 235/235 [00:04<00:00, 51.78it/s]\n"
     ]
    },
    {
     "name": "stdout",
     "output_type": "stream",
     "text": [
      "Epoch 1: Val Loss 0.7437, Val Acc 0.6535, Val AUC 0.8388\n"
     ]
    },
    {
     "name": "stderr",
     "output_type": "stream",
     "text": [
      "Epoch 2/10 [Train]: 100%|██████████| 938/938 [00:39<00:00, 23.49it/s]\n"
     ]
    },
    {
     "name": "stdout",
     "output_type": "stream",
     "text": [
      "Epoch 2: Train Loss 0.5549, Train Acc 0.7658, Train AUC 0.9094\n"
     ]
    },
    {
     "name": "stderr",
     "output_type": "stream",
     "text": [
      "Epoch 2/10 [Val]: 100%|██████████| 235/235 [00:04<00:00, 53.47it/s]\n"
     ]
    },
    {
     "name": "stdout",
     "output_type": "stream",
     "text": [
      "Epoch 2: Val Loss 0.4103, Val Acc 0.8333, Val AUC 0.9521\n"
     ]
    },
    {
     "name": "stderr",
     "output_type": "stream",
     "text": [
      "Epoch 3/10 [Train]: 100%|██████████| 938/938 [00:40<00:00, 23.27it/s]\n"
     ]
    },
    {
     "name": "stdout",
     "output_type": "stream",
     "text": [
      "Epoch 3: Train Loss 0.3843, Train Acc 0.8493, Train AUC 0.9561\n"
     ]
    },
    {
     "name": "stderr",
     "output_type": "stream",
     "text": [
      "Epoch 3/10 [Val]: 100%|██████████| 235/235 [00:04<00:00, 50.67it/s]\n"
     ]
    },
    {
     "name": "stdout",
     "output_type": "stream",
     "text": [
      "Epoch 3: Val Loss 0.3725, Val Acc 0.8529, Val AUC 0.9628\n"
     ]
    },
    {
     "name": "stderr",
     "output_type": "stream",
     "text": [
      "Epoch 4/10 [Train]: 100%|██████████| 938/938 [00:39<00:00, 23.52it/s]\n"
     ]
    },
    {
     "name": "stdout",
     "output_type": "stream",
     "text": [
      "Epoch 4: Train Loss 0.3155, Train Acc 0.8793, Train AUC 0.9699\n"
     ]
    },
    {
     "name": "stderr",
     "output_type": "stream",
     "text": [
      "Epoch 4/10 [Val]: 100%|██████████| 235/235 [00:04<00:00, 52.08it/s]\n"
     ]
    },
    {
     "name": "stdout",
     "output_type": "stream",
     "text": [
      "Epoch 4: Val Loss 0.3805, Val Acc 0.8525, Val AUC 0.9685\n"
     ]
    },
    {
     "name": "stderr",
     "output_type": "stream",
     "text": [
      "Epoch 5/10 [Train]: 100%|██████████| 938/938 [00:44<00:00, 21.19it/s]\n"
     ]
    },
    {
     "name": "stdout",
     "output_type": "stream",
     "text": [
      "Epoch 5: Train Loss 0.2661, Train Acc 0.8993, Train AUC 0.9782\n"
     ]
    },
    {
     "name": "stderr",
     "output_type": "stream",
     "text": [
      "Epoch 5/10 [Val]: 100%|██████████| 235/235 [00:04<00:00, 53.22it/s]\n"
     ]
    },
    {
     "name": "stdout",
     "output_type": "stream",
     "text": [
      "Epoch 5: Val Loss 0.2911, Val Acc 0.8897, Val AUC 0.9740\n"
     ]
    },
    {
     "name": "stderr",
     "output_type": "stream",
     "text": [
      "Epoch 6/10 [Train]: 100%|██████████| 938/938 [00:44<00:00, 21.09it/s]\n"
     ]
    },
    {
     "name": "stdout",
     "output_type": "stream",
     "text": [
      "Epoch 6: Train Loss 0.2273, Train Acc 0.9150, Train AUC 0.9835\n"
     ]
    },
    {
     "name": "stderr",
     "output_type": "stream",
     "text": [
      "Epoch 6/10 [Val]: 100%|██████████| 235/235 [00:04<00:00, 52.00it/s]\n"
     ]
    },
    {
     "name": "stdout",
     "output_type": "stream",
     "text": [
      "Epoch 6: Val Loss 0.2488, Val Acc 0.9053, Val AUC 0.9806\n"
     ]
    },
    {
     "name": "stderr",
     "output_type": "stream",
     "text": [
      "Epoch 7/10 [Train]: 100%|██████████| 938/938 [00:44<00:00, 21.27it/s]\n"
     ]
    },
    {
     "name": "stdout",
     "output_type": "stream",
     "text": [
      "Epoch 7: Train Loss 0.2014, Train Acc 0.9274, Train AUC 0.9868\n"
     ]
    },
    {
     "name": "stderr",
     "output_type": "stream",
     "text": [
      "Epoch 7/10 [Val]: 100%|██████████| 235/235 [00:04<00:00, 50.20it/s]\n"
     ]
    },
    {
     "name": "stdout",
     "output_type": "stream",
     "text": [
      "Epoch 7: Val Loss 0.3311, Val Acc 0.8848, Val AUC 0.9736\n"
     ]
    },
    {
     "name": "stderr",
     "output_type": "stream",
     "text": [
      "Epoch 8/10 [Train]: 100%|██████████| 938/938 [00:43<00:00, 21.38it/s]\n"
     ]
    },
    {
     "name": "stdout",
     "output_type": "stream",
     "text": [
      "Epoch 8: Train Loss 0.1785, Train Acc 0.9356, Train AUC 0.9896\n"
     ]
    },
    {
     "name": "stderr",
     "output_type": "stream",
     "text": [
      "Epoch 8/10 [Val]: 100%|██████████| 235/235 [00:04<00:00, 52.45it/s]\n"
     ]
    },
    {
     "name": "stdout",
     "output_type": "stream",
     "text": [
      "Epoch 8: Val Loss 0.2919, Val Acc 0.8995, Val AUC 0.9806\n"
     ]
    },
    {
     "name": "stderr",
     "output_type": "stream",
     "text": [
      "Epoch 9/10 [Train]: 100%|██████████| 938/938 [00:44<00:00, 21.16it/s]\n"
     ]
    },
    {
     "name": "stdout",
     "output_type": "stream",
     "text": [
      "Epoch 9: Train Loss 0.1604, Train Acc 0.9420, Train AUC 0.9914\n"
     ]
    },
    {
     "name": "stderr",
     "output_type": "stream",
     "text": [
      "Epoch 9/10 [Val]: 100%|██████████| 235/235 [00:04<00:00, 50.70it/s]\n"
     ]
    },
    {
     "name": "stdout",
     "output_type": "stream",
     "text": [
      "Epoch 9: Val Loss 0.2763, Val Acc 0.9059, Val AUC 0.9811\n"
     ]
    },
    {
     "name": "stderr",
     "output_type": "stream",
     "text": [
      "Epoch 10/10 [Train]: 100%|██████████| 938/938 [00:44<00:00, 21.31it/s]\n"
     ]
    },
    {
     "name": "stdout",
     "output_type": "stream",
     "text": [
      "Epoch 10: Train Loss 0.1442, Train Acc 0.9471, Train AUC 0.9931\n"
     ]
    },
    {
     "name": "stderr",
     "output_type": "stream",
     "text": [
      "Epoch 10/10 [Val]: 100%|██████████| 235/235 [00:04<00:00, 52.54it/s]\n"
     ]
    },
    {
     "name": "stdout",
     "output_type": "stream",
     "text": [
      "Epoch 10: Val Loss 0.2479, Val Acc 0.9139, Val AUC 0.9829\n"
     ]
    }
   ],
   "source": [
    "model = train_aux_poisson('resnet18', train_loader, val_loader)"
   ]
  },
  {
   "cell_type": "code",
   "execution_count": 13,
   "id": "5387ebb8-c2c0-4d22-8dfb-5c7bb5e667ee",
   "metadata": {
    "execution": {
     "iopub.execute_input": "2025-04-01T11:35:12.730283Z",
     "iopub.status.busy": "2025-04-01T11:35:12.729975Z",
     "iopub.status.idle": "2025-04-01T11:35:12.802622Z",
     "shell.execute_reply": "2025-04-01T11:35:12.801746Z",
     "shell.execute_reply.started": "2025-04-01T11:35:12.730260Z"
    },
    "trusted": true
   },
   "outputs": [],
   "source": [
    "torch.save({'model_state_dict':model.state_dict()},'resnet18_poisson_loss.pth')"
   ]
  },
  {
   "cell_type": "code",
   "execution_count": 17,
   "id": "7f7fccb2-5eaf-49f4-9f02-90215793cced",
   "metadata": {
    "execution": {
     "iopub.execute_input": "2025-04-01T12:17:53.995599Z",
     "iopub.status.busy": "2025-04-01T12:17:53.995318Z",
     "iopub.status.idle": "2025-04-01T12:36:46.862840Z",
     "shell.execute_reply": "2025-04-01T12:36:46.861915Z",
     "shell.execute_reply.started": "2025-04-01T12:17:53.995578Z"
    },
    "trusted": true
   },
   "outputs": [
    {
     "name": "stderr",
     "output_type": "stream",
     "text": [
      "Epoch 1/10 [Train]: 100%|██████████| 938/938 [01:43<00:00,  9.06it/s]\n"
     ]
    },
    {
     "name": "stdout",
     "output_type": "stream",
     "text": [
      "Epoch 1: Train Loss 1.0799, Train Acc 0.3884, Train AUC 0.5751\n"
     ]
    },
    {
     "name": "stderr",
     "output_type": "stream",
     "text": [
      "Epoch 1/10 [Val]: 100%|██████████| 235/235 [00:09<00:00, 24.11it/s]\n"
     ]
    },
    {
     "name": "stdout",
     "output_type": "stream",
     "text": [
      "Epoch 1: Val Loss 0.8847, Val Acc 0.5620, Val AUC 0.7515\n"
     ]
    },
    {
     "name": "stderr",
     "output_type": "stream",
     "text": [
      "Epoch 2/10 [Train]: 100%|██████████| 938/938 [01:43<00:00,  9.07it/s]\n"
     ]
    },
    {
     "name": "stdout",
     "output_type": "stream",
     "text": [
      "Epoch 2: Train Loss 0.6993, Train Acc 0.6883, Train AUC 0.8553\n"
     ]
    },
    {
     "name": "stderr",
     "output_type": "stream",
     "text": [
      "Epoch 2/10 [Val]: 100%|██████████| 235/235 [00:09<00:00, 24.13it/s]\n"
     ]
    },
    {
     "name": "stdout",
     "output_type": "stream",
     "text": [
      "Epoch 2: Val Loss 0.6690, Val Acc 0.7543, Val AUC 0.9215\n"
     ]
    },
    {
     "name": "stderr",
     "output_type": "stream",
     "text": [
      "Epoch 3/10 [Train]: 100%|██████████| 938/938 [01:43<00:00,  9.05it/s]\n"
     ]
    },
    {
     "name": "stdout",
     "output_type": "stream",
     "text": [
      "Epoch 3: Train Loss 0.4110, Train Acc 0.8384, Train AUC 0.9503\n"
     ]
    },
    {
     "name": "stderr",
     "output_type": "stream",
     "text": [
      "Epoch 3/10 [Val]: 100%|██████████| 235/235 [00:09<00:00, 24.13it/s]\n"
     ]
    },
    {
     "name": "stdout",
     "output_type": "stream",
     "text": [
      "Epoch 3: Val Loss 0.3512, Val Acc 0.8673, Val AUC 0.9648\n"
     ]
    },
    {
     "name": "stderr",
     "output_type": "stream",
     "text": [
      "Epoch 4/10 [Train]: 100%|██████████| 938/938 [01:43<00:00,  9.05it/s]\n"
     ]
    },
    {
     "name": "stdout",
     "output_type": "stream",
     "text": [
      "Epoch 4: Train Loss 0.3245, Train Acc 0.8782, Train AUC 0.9678\n"
     ]
    },
    {
     "name": "stderr",
     "output_type": "stream",
     "text": [
      "Epoch 4/10 [Val]: 100%|██████████| 235/235 [00:09<00:00, 23.89it/s]\n"
     ]
    },
    {
     "name": "stdout",
     "output_type": "stream",
     "text": [
      "Epoch 4: Val Loss 0.3006, Val Acc 0.8924, Val AUC 0.9763\n"
     ]
    },
    {
     "name": "stderr",
     "output_type": "stream",
     "text": [
      "Epoch 5/10 [Train]: 100%|██████████| 938/938 [01:43<00:00,  9.05it/s]\n"
     ]
    },
    {
     "name": "stdout",
     "output_type": "stream",
     "text": [
      "Epoch 5: Train Loss 0.2764, Train Acc 0.8969, Train AUC 0.9762\n"
     ]
    },
    {
     "name": "stderr",
     "output_type": "stream",
     "text": [
      "Epoch 5/10 [Val]: 100%|██████████| 235/235 [00:09<00:00, 24.31it/s]\n"
     ]
    },
    {
     "name": "stdout",
     "output_type": "stream",
     "text": [
      "Epoch 5: Val Loss 0.2918, Val Acc 0.8960, Val AUC 0.9783\n"
     ]
    },
    {
     "name": "stderr",
     "output_type": "stream",
     "text": [
      "Epoch 6/10 [Train]: 100%|██████████| 938/938 [01:43<00:00,  9.09it/s]\n"
     ]
    },
    {
     "name": "stdout",
     "output_type": "stream",
     "text": [
      "Epoch 6: Train Loss 0.2433, Train Acc 0.9109, Train AUC 0.9812\n"
     ]
    },
    {
     "name": "stderr",
     "output_type": "stream",
     "text": [
      "Epoch 6/10 [Val]: 100%|██████████| 235/235 [00:09<00:00, 24.16it/s]\n"
     ]
    },
    {
     "name": "stdout",
     "output_type": "stream",
     "text": [
      "Epoch 6: Val Loss 0.2584, Val Acc 0.9035, Val AUC 0.9801\n"
     ]
    },
    {
     "name": "stderr",
     "output_type": "stream",
     "text": [
      "Epoch 7/10 [Train]: 100%|██████████| 938/938 [01:43<00:00,  9.10it/s]\n"
     ]
    },
    {
     "name": "stdout",
     "output_type": "stream",
     "text": [
      "Epoch 7: Train Loss 0.2155, Train Acc 0.9224, Train AUC 0.9849\n"
     ]
    },
    {
     "name": "stderr",
     "output_type": "stream",
     "text": [
      "Epoch 7/10 [Val]: 100%|██████████| 235/235 [00:09<00:00, 24.19it/s]\n"
     ]
    },
    {
     "name": "stdout",
     "output_type": "stream",
     "text": [
      "Epoch 7: Val Loss 0.2629, Val Acc 0.9019, Val AUC 0.9817\n"
     ]
    },
    {
     "name": "stderr",
     "output_type": "stream",
     "text": [
      "Epoch 8/10 [Train]: 100%|██████████| 938/938 [01:43<00:00,  9.07it/s]\n"
     ]
    },
    {
     "name": "stdout",
     "output_type": "stream",
     "text": [
      "Epoch 8: Train Loss 0.1978, Train Acc 0.9296, Train AUC 0.9871\n"
     ]
    },
    {
     "name": "stderr",
     "output_type": "stream",
     "text": [
      "Epoch 8/10 [Val]: 100%|██████████| 235/235 [00:09<00:00, 24.22it/s]\n"
     ]
    },
    {
     "name": "stdout",
     "output_type": "stream",
     "text": [
      "Epoch 8: Val Loss 0.2227, Val Acc 0.9165, Val AUC 0.9853\n"
     ]
    },
    {
     "name": "stderr",
     "output_type": "stream",
     "text": [
      "Epoch 9/10 [Train]: 100%|██████████| 938/938 [01:43<00:00,  9.05it/s]\n"
     ]
    },
    {
     "name": "stdout",
     "output_type": "stream",
     "text": [
      "Epoch 9: Train Loss 0.1841, Train Acc 0.9335, Train AUC 0.9887\n"
     ]
    },
    {
     "name": "stderr",
     "output_type": "stream",
     "text": [
      "Epoch 9/10 [Val]: 100%|██████████| 235/235 [00:09<00:00, 24.24it/s]\n"
     ]
    },
    {
     "name": "stdout",
     "output_type": "stream",
     "text": [
      "Epoch 9: Val Loss 0.2231, Val Acc 0.9172, Val AUC 0.9846\n"
     ]
    },
    {
     "name": "stderr",
     "output_type": "stream",
     "text": [
      "Epoch 10/10 [Train]: 100%|██████████| 938/938 [01:43<00:00,  9.07it/s]\n"
     ]
    },
    {
     "name": "stdout",
     "output_type": "stream",
     "text": [
      "Epoch 10: Train Loss 0.1676, Train Acc 0.9398, Train AUC 0.9906\n"
     ]
    },
    {
     "name": "stderr",
     "output_type": "stream",
     "text": [
      "Epoch 10/10 [Val]: 100%|██████████| 235/235 [00:09<00:00, 24.27it/s]"
     ]
    },
    {
     "name": "stdout",
     "output_type": "stream",
     "text": [
      "Epoch 10: Val Loss 0.2411, Val Acc 0.9173, Val AUC 0.9826\n"
     ]
    },
    {
     "name": "stderr",
     "output_type": "stream",
     "text": [
      "\n"
     ]
    }
   ],
   "source": [
    "model = train_aux_poisson('densenet121', train_loader, val_loader)"
   ]
  },
  {
   "cell_type": "code",
   "execution_count": 18,
   "id": "c41c0d3d-6c65-4405-9a51-ade5edc9dfd7",
   "metadata": {
    "execution": {
     "iopub.execute_input": "2025-04-01T12:39:54.839424Z",
     "iopub.status.busy": "2025-04-01T12:39:54.839099Z",
     "iopub.status.idle": "2025-04-01T12:39:54.939915Z",
     "shell.execute_reply": "2025-04-01T12:39:54.939043Z",
     "shell.execute_reply.started": "2025-04-01T12:39:54.839397Z"
    },
    "trusted": true
   },
   "outputs": [],
   "source": [
    "torch.save({'model_state_dict':model.state_dict()},'densenet121_poisson_loss.pth')"
   ]
  },
  {
   "cell_type": "code",
   "execution_count": 19,
   "id": "388b55f8-23af-4279-86ca-dd6728efcb24",
   "metadata": {
    "execution": {
     "iopub.execute_input": "2025-04-01T12:40:59.272212Z",
     "iopub.status.busy": "2025-04-01T12:40:59.271908Z",
     "iopub.status.idle": "2025-04-01T12:50:27.606309Z",
     "shell.execute_reply": "2025-04-01T12:50:27.605450Z",
     "shell.execute_reply.started": "2025-04-01T12:40:59.272187Z"
    },
    "trusted": true
   },
   "outputs": [
    {
     "data": {
      "application/vnd.jupyter.widget-view+json": {
       "model_id": "13d685103c2c439f90cd315a602ed6e2",
       "version_major": 2,
       "version_minor": 0
      },
      "text/plain": [
       "model.safetensors:   0%|          | 0.00/14.2M [00:00<?, ?B/s]"
      ]
     },
     "metadata": {},
     "output_type": "display_data"
    },
    {
     "name": "stderr",
     "output_type": "stream",
     "text": [
      "Epoch 1/10 [Train]: 100%|██████████| 938/938 [00:52<00:00, 17.97it/s]\n"
     ]
    },
    {
     "name": "stdout",
     "output_type": "stream",
     "text": [
      "Epoch 1: Train Loss 1.1110, Train Acc 0.4471, Train AUC 0.6345\n"
     ]
    },
    {
     "name": "stderr",
     "output_type": "stream",
     "text": [
      "Epoch 1/10 [Val]: 100%|██████████| 235/235 [00:04<00:00, 51.97it/s]\n"
     ]
    },
    {
     "name": "stdout",
     "output_type": "stream",
     "text": [
      "Epoch 1: Val Loss 0.9622, Val Acc 0.5000, Val AUC 0.7298\n"
     ]
    },
    {
     "name": "stderr",
     "output_type": "stream",
     "text": [
      "Epoch 2/10 [Train]: 100%|██████████| 938/938 [00:52<00:00, 18.01it/s]\n"
     ]
    },
    {
     "name": "stdout",
     "output_type": "stream",
     "text": [
      "Epoch 2: Train Loss 0.7767, Train Acc 0.6408, Train AUC 0.8197\n"
     ]
    },
    {
     "name": "stderr",
     "output_type": "stream",
     "text": [
      "Epoch 2/10 [Val]: 100%|██████████| 235/235 [00:04<00:00, 49.22it/s]\n"
     ]
    },
    {
     "name": "stdout",
     "output_type": "stream",
     "text": [
      "Epoch 2: Val Loss 0.7548, Val Acc 0.6691, Val AUC 0.8547\n"
     ]
    },
    {
     "name": "stderr",
     "output_type": "stream",
     "text": [
      "Epoch 3/10 [Train]: 100%|██████████| 938/938 [00:51<00:00, 18.05it/s]\n"
     ]
    },
    {
     "name": "stdout",
     "output_type": "stream",
     "text": [
      "Epoch 3: Train Loss 0.5670, Train Acc 0.7615, Train AUC 0.9073\n"
     ]
    },
    {
     "name": "stderr",
     "output_type": "stream",
     "text": [
      "Epoch 3/10 [Val]: 100%|██████████| 235/235 [00:04<00:00, 51.12it/s]\n"
     ]
    },
    {
     "name": "stdout",
     "output_type": "stream",
     "text": [
      "Epoch 3: Val Loss 0.5283, Val Acc 0.7853, Val AUC 0.9227\n"
     ]
    },
    {
     "name": "stderr",
     "output_type": "stream",
     "text": [
      "Epoch 4/10 [Train]: 100%|██████████| 938/938 [00:52<00:00, 17.98it/s]\n"
     ]
    },
    {
     "name": "stdout",
     "output_type": "stream",
     "text": [
      "Epoch 4: Train Loss 0.4364, Train Acc 0.8258, Train AUC 0.9450\n"
     ]
    },
    {
     "name": "stderr",
     "output_type": "stream",
     "text": [
      "Epoch 4/10 [Val]: 100%|██████████| 235/235 [00:04<00:00, 52.38it/s]\n"
     ]
    },
    {
     "name": "stdout",
     "output_type": "stream",
     "text": [
      "Epoch 4: Val Loss 0.4617, Val Acc 0.8119, Val AUC 0.9496\n"
     ]
    },
    {
     "name": "stderr",
     "output_type": "stream",
     "text": [
      "Epoch 5/10 [Train]: 100%|██████████| 938/938 [00:52<00:00, 17.98it/s]\n"
     ]
    },
    {
     "name": "stdout",
     "output_type": "stream",
     "text": [
      "Epoch 5: Train Loss 0.3631, Train Acc 0.8609, Train AUC 0.9614\n"
     ]
    },
    {
     "name": "stderr",
     "output_type": "stream",
     "text": [
      "Epoch 5/10 [Val]: 100%|██████████| 235/235 [00:04<00:00, 51.05it/s]\n"
     ]
    },
    {
     "name": "stdout",
     "output_type": "stream",
     "text": [
      "Epoch 5: Val Loss 0.3756, Val Acc 0.8616, Val AUC 0.9647\n"
     ]
    },
    {
     "name": "stderr",
     "output_type": "stream",
     "text": [
      "Epoch 6/10 [Train]: 100%|██████████| 938/938 [00:52<00:00, 18.03it/s]\n"
     ]
    },
    {
     "name": "stdout",
     "output_type": "stream",
     "text": [
      "Epoch 6: Train Loss 0.3112, Train Acc 0.8830, Train AUC 0.9711\n"
     ]
    },
    {
     "name": "stderr",
     "output_type": "stream",
     "text": [
      "Epoch 6/10 [Val]: 100%|██████████| 235/235 [00:04<00:00, 51.51it/s]\n"
     ]
    },
    {
     "name": "stdout",
     "output_type": "stream",
     "text": [
      "Epoch 6: Val Loss 0.3473, Val Acc 0.8691, Val AUC 0.9662\n"
     ]
    },
    {
     "name": "stderr",
     "output_type": "stream",
     "text": [
      "Epoch 7/10 [Train]: 100%|██████████| 938/938 [00:52<00:00, 18.04it/s]\n"
     ]
    },
    {
     "name": "stdout",
     "output_type": "stream",
     "text": [
      "Epoch 7: Train Loss 0.2733, Train Acc 0.8977, Train AUC 0.9774\n"
     ]
    },
    {
     "name": "stderr",
     "output_type": "stream",
     "text": [
      "Epoch 7/10 [Val]: 100%|██████████| 235/235 [00:04<00:00, 52.21it/s]\n"
     ]
    },
    {
     "name": "stdout",
     "output_type": "stream",
     "text": [
      "Epoch 7: Val Loss 0.4286, Val Acc 0.8569, Val AUC 0.9654\n"
     ]
    },
    {
     "name": "stderr",
     "output_type": "stream",
     "text": [
      "Epoch 8/10 [Train]: 100%|██████████| 938/938 [00:52<00:00, 18.01it/s]\n"
     ]
    },
    {
     "name": "stdout",
     "output_type": "stream",
     "text": [
      "Epoch 8: Train Loss 0.2465, Train Acc 0.9083, Train AUC 0.9813\n"
     ]
    },
    {
     "name": "stderr",
     "output_type": "stream",
     "text": [
      "Epoch 8/10 [Val]: 100%|██████████| 235/235 [00:04<00:00, 53.50it/s]\n"
     ]
    },
    {
     "name": "stdout",
     "output_type": "stream",
     "text": [
      "Epoch 8: Val Loss 0.2810, Val Acc 0.8968, Val AUC 0.9760\n"
     ]
    },
    {
     "name": "stderr",
     "output_type": "stream",
     "text": [
      "Epoch 9/10 [Train]: 100%|██████████| 938/938 [00:52<00:00, 17.94it/s]\n"
     ]
    },
    {
     "name": "stdout",
     "output_type": "stream",
     "text": [
      "Epoch 9: Train Loss 0.2280, Train Acc 0.9169, Train AUC 0.9838\n"
     ]
    },
    {
     "name": "stderr",
     "output_type": "stream",
     "text": [
      "Epoch 9/10 [Val]: 100%|██████████| 235/235 [00:04<00:00, 51.93it/s]\n"
     ]
    },
    {
     "name": "stdout",
     "output_type": "stream",
     "text": [
      "Epoch 9: Val Loss 0.2742, Val Acc 0.8999, Val AUC 0.9770\n"
     ]
    },
    {
     "name": "stderr",
     "output_type": "stream",
     "text": [
      "Epoch 10/10 [Train]: 100%|██████████| 938/938 [00:52<00:00, 17.79it/s]\n"
     ]
    },
    {
     "name": "stdout",
     "output_type": "stream",
     "text": [
      "Epoch 10: Train Loss 0.2043, Train Acc 0.9245, Train AUC 0.9869\n"
     ]
    },
    {
     "name": "stderr",
     "output_type": "stream",
     "text": [
      "Epoch 10/10 [Val]: 100%|██████████| 235/235 [00:04<00:00, 51.23it/s]"
     ]
    },
    {
     "name": "stdout",
     "output_type": "stream",
     "text": [
      "Epoch 10: Val Loss 0.3103, Val Acc 0.8859, Val AUC 0.9729\n"
     ]
    },
    {
     "name": "stderr",
     "output_type": "stream",
     "text": [
      "\n"
     ]
    }
   ],
   "source": [
    "model = train_aux_poisson('mobilenetv2_100', train_loader, val_loader)"
   ]
  },
  {
   "cell_type": "code",
   "execution_count": 20,
   "id": "58accf25-8be0-41c0-a260-86efdfe49913",
   "metadata": {
    "execution": {
     "iopub.execute_input": "2025-04-01T12:51:17.374220Z",
     "iopub.status.busy": "2025-04-01T12:51:17.373892Z",
     "iopub.status.idle": "2025-04-01T12:51:17.416511Z",
     "shell.execute_reply": "2025-04-01T12:51:17.415879Z",
     "shell.execute_reply.started": "2025-04-01T12:51:17.374192Z"
    },
    "trusted": true
   },
   "outputs": [],
   "source": [
    "torch.save({'model_state_dict':model.state_dict()},'mobilenetv2_poisson_loss.pth')"
   ]
  },
  {
   "cell_type": "code",
   "execution_count": null,
   "id": "14a4d55e-fe83-4745-aa0d-03b2812b413b",
   "metadata": {
    "trusted": true
   },
   "outputs": [],
   "source": []
  }
 ],
 "metadata": {
  "kaggle": {
   "accelerator": "gpu",
   "dataSources": [
    {
     "datasetId": 6759693,
     "sourceId": 10879292,
     "sourceType": "datasetVersion"
    }
   ],
   "dockerImageVersionId": 30919,
   "isGpuEnabled": true,
   "isInternetEnabled": true,
   "language": "python",
   "sourceType": "notebook"
  },
  "kernelspec": {
   "display_name": "Python 3",
   "language": "python",
   "name": "python3"
  },
  "language_info": {
   "codemirror_mode": {
    "name": "ipython",
    "version": 3
   },
   "file_extension": ".py",
   "mimetype": "text/x-python",
   "name": "python",
   "nbconvert_exporter": "python",
   "pygments_lexer": "ipython3",
   "version": "3.10.12"
  }
 },
 "nbformat": 4,
 "nbformat_minor": 5
}
