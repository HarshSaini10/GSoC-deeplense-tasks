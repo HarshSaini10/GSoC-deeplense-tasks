{
 "cells": [
  {
   "cell_type": "code",
   "execution_count": null,
   "id": "7efc0a5f-b0ba-408f-a94d-5f7b359d0728",
   "metadata": {},
   "outputs": [],
   "source": [
    "import h5py as h5\n",
    "import numpy as np\n",
    "import pandas as pd\n",
    "import polars as pl\n",
    "import matplotlib.pyplot as plt\n",
    "import torch\n",
    "import torch.nn as nn\n",
    "import torch.nn.functional as F\n",
    "import torch.optim as optim\n",
    "from torch.utils.data import DataLoader\n",
    "import torchvision.models as models\n",
    "import albumentations as A\n",
    "from albumentations.pytorch import ToTensorV2\n",
    "import os\n",
    "import csv\n",
    "import h5py\n",
    "from torchvision.models import resnet18\n",
    "from torch.optim.lr_scheduler import StepLR\n",
    "from tqdm import tqdm\n",
    "from sklearn.metrics import roc_auc_score\n",
    "from sklearn.model_selection import train_test_split\n",
    "from datasets import load_dataset\n",
    "from PIL import Image\n",
    "device = 'cuda' if torch.cuda.is_available() else 'cpu'\n",
    "import warnings \n",
    "warnings.filterwarnings(\"ignore\")"
   ]
  },
  {
   "cell_type": "code",
   "execution_count": 2,
   "id": "a3eb7cb7-85c5-4788-a5f0-faeba2b464a8",
   "metadata": {},
   "outputs": [
    {
     "name": "stdout",
     "output_type": "stream",
     "text": [
      "Path to dataset files: C:\\Users\\hs106\\.cache\\kagglehub\\datasets\\harshsaini10\\deeplense-task1\\versions\\1\n"
     ]
    }
   ],
   "source": [
    "import kagglehub\n",
    "path = kagglehub.dataset_download(\"harshsaini10/deeplense-task1\")\n",
    "print(\"Path to dataset files:\", path)"
   ]
  },
  {
   "cell_type": "code",
   "execution_count": 4,
   "id": "9429dff5-ca79-4222-a1aa-9757f5f4602f",
   "metadata": {},
   "outputs": [],
   "source": [
    "train_path = r\"C:\\Users\\hs106\\.cache\\kagglehub\\datasets\\harshsaini10\\deeplense-task1\\versions\\1\\dataset\\train\"\n",
    "train_imgs = {}\n",
    "for cat in os.listdir(train_path):\n",
    "    sub_path = os.path.join(train_path,cat)\n",
    "    imgs = []\n",
    "    for img_path in os.listdir(sub_path):\n",
    "        imgs.append(os.path.join(sub_path,img_path))\n",
    "    train_imgs[cat] = imgs"
   ]
  },
  {
   "cell_type": "code",
   "execution_count": 5,
   "id": "80116091-e4f0-419c-926c-6af36515c4a8",
   "metadata": {},
   "outputs": [],
   "source": [
    "val_path = r\"C:\\Users\\hs106\\.cache\\kagglehub\\datasets\\harshsaini10\\deeplense-task1\\versions\\1\\dataset\\val\"\n",
    "val_imgs = {}\n",
    "for cat in os.listdir(val_path):\n",
    "    sub_path = os.path.join(val_path,cat)\n",
    "    imgs = []\n",
    "    for img_path in os.listdir(sub_path):\n",
    "        imgs.append(os.path.join(sub_path,img_path))\n",
    "    val_imgs[cat] = imgs"
   ]
  },
  {
   "cell_type": "code",
   "execution_count": 6,
   "id": "a03b89e2-4d20-499f-881b-526260e76dea",
   "metadata": {},
   "outputs": [],
   "source": [
    "train_rows = [(img_path, label) for label, img_paths in train_imgs.items() for img_path in img_paths]\n",
    "val_rows = [(img_path, label) for label, img_paths in val_imgs.items() for img_path in img_paths]"
   ]
  },
  {
   "cell_type": "code",
   "execution_count": 7,
   "id": "47c005ff-8b31-4af1-aefa-be395156f8de",
   "metadata": {},
   "outputs": [],
   "source": [
    "df_train = pd.DataFrame(train_rows, columns = ['img_path','label'])\n",
    "df_val = pd.DataFrame(val_rows, columns = ['img_path','label'])"
   ]
  },
  {
   "cell_type": "code",
   "execution_count": 8,
   "id": "f8e0a1fd-cbc3-4d18-8088-8c572c46586b",
   "metadata": {},
   "outputs": [],
   "source": [
    "df_train['label'] = df_train['label'].map({'no':0, 'sphere':1, 'vort':2})\n",
    "df_val['label'] = df_val['label'].map({'no':0, 'sphere':1, 'vort':2})"
   ]
  },
  {
   "cell_type": "code",
   "execution_count": 9,
   "id": "93eb5713-d672-4be9-9f68-77ca22aac1a4",
   "metadata": {},
   "outputs": [],
   "source": [
    "class Dataset(nn.Module):\n",
    "    def __init__(self,data,transform = None, train = True):\n",
    "        self.data = data\n",
    "        self.imgs = [np.load(img_path) for img_path in self.data['img_path']]\n",
    "        self.y = torch.tensor(self.data['label'], dtype = torch.long)\n",
    "        self.transform = transform\n",
    "        self.train = train\n",
    "\n",
    "    def __len__(self):\n",
    "        return len(self.data)\n",
    "\n",
    "    def __getitem__(self, idx):\n",
    "        img = self.imgs[idx].squeeze()[:,:,np.newaxis]\n",
    "        label = self.y[idx]\n",
    "        img = np.tile(img,(1,1,3))\n",
    "        if self.transform != None:\n",
    "            img = self.transform(image = img)[\"image\"]\n",
    "\n",
    "        return img, label"
   ]
  },
  {
   "cell_type": "code",
   "execution_count": 10,
   "id": "f1a898f2-47a9-464e-865d-8109957ef338",
   "metadata": {},
   "outputs": [],
   "source": [
    "train_transform = A.Compose([\n",
    "    # A.RandomRotate90(p=0.5),\n",
    "    # A.HorizontalFlip(p=0.5),\n",
    "    # A.VerticalFlip(p=0.5),\n",
    "    # A.ShiftScaleRotate(shift_limit=0.0625, scale_limit=0.1, rotate_limit=45, p=0.5),\n",
    "    # A.Normalize(mean=(0.485, 0.456, 0.406), \n",
    "    #             std=(0.229, 0.224, 0.225)),\n",
    "    # A.Resize(28,28),\n",
    "    ToTensorV2()\n",
    "])\n",
    "\n",
    "val_transform = A.Compose([\n",
    "    # A.Resize(28,28),\n",
    "    ToTensorV2()\n",
    "])"
   ]
  },
  {
   "cell_type": "code",
   "execution_count": 12,
   "id": "463b3777-9471-4f33-a9ba-37d5cf50771b",
   "metadata": {},
   "outputs": [],
   "source": [
    "train_dataset = Dataset(df_train, train_transform)\n",
    "val_dataset = Dataset(df_val, val_transform)"
   ]
  },
  {
   "cell_type": "code",
   "execution_count": 13,
   "id": "07847dcd-b791-449a-b304-1be851fdd861",
   "metadata": {},
   "outputs": [],
   "source": [
    "train_loader = DataLoader(train_dataset, batch_size = 32, shuffle = True, num_workers = 0)\n",
    "val_loader = DataLoader(val_dataset, batch_size = 32, shuffle = False, num_workers = 0)"
   ]
  },
  {
   "cell_type": "code",
   "execution_count": null,
   "id": "ae4b3cd1-e0cc-4365-bdc6-ee4b540dcf01",
   "metadata": {},
   "outputs": [],
   "source": [
    "class AuxLaplacianCNN(nn.Module):\n",
    "    def __init__(self, num_classes=3):\n",
    "        super(AuxLaplacianCNN, self).__init__()\n",
    "        self.shared = nn.Sequential(\n",
    "            nn.Conv2d(3, 32, kernel_size=3, padding=1), \n",
    "            nn.ReLU(),\n",
    "            nn.MaxPool2d(2),\n",
    "            nn.Conv2d(32, 64, kernel_size=3, padding=1),\n",
    "            nn.ReLU(),\n",
    "            nn.MaxPool2d(2)\n",
    "        )\n",
    "        self.classifier = nn.Sequential(\n",
    "            nn.Flatten(),\n",
    "            nn.Linear(64 * 37 * 37, 256), \n",
    "            nn.ReLU(),\n",
    "            nn.Linear(256, num_classes)\n",
    "        )\n",
    "        self.potential_head = nn.Sequential(\n",
    "            nn.Conv2d(64, 32, kernel_size=3, padding=1),\n",
    "            nn.ReLU(),\n",
    "            nn.Conv2d(32, 1, kernel_size=3, padding=1)\n",
    "        )\n",
    "    \n",
    "    def forward(self, x):\n",
    "        features = self.shared(x)\n",
    "        class_out = self.classifier(features)\n",
    "        potential = self.potential_head(features)\n",
    "        return class_out, potential\n",
    "\n",
    "def laplacian_loss(potential):\n",
    "    laplace_kernel = torch.tensor([[0, 1, 0],\n",
    "                                   [1, -4, 1],\n",
    "                                   [0, 1, 0]], dtype=torch.float32, device=potential.device).unsqueeze(0).unsqueeze(0)\n",
    "    laplacian_pred = F.conv2d(potential, laplace_kernel, padding=1)\n",
    "    return F.mse_loss(laplacian_pred, torch.zeros_like(laplacian_pred))\n",
    "\n",
    "def get_pretrained_model(model_name, num_classes=3, pretrained=True):\n",
    "    if model_name.lower() == 'auxlaplaciancnn':\n",
    "        model = AuxLaplacianCNN(num_classes=num_classes)\n",
    "        return model\n",
    "    else:\n",
    "        try:\n",
    "            model = timm.create_model(model_name, pretrained=pretrained, num_classes=num_classes)\n",
    "            return model\n",
    "        except Exception as e:\n",
    "            raise ValueError(f\"Error creating model '{model_name}' with timm: {e}\")\n",
    "\n",
    "def train_aux_laplacian(model_name, train_dataloader, val_dataloader, num_epochs=10, device='cuda', lambda_lap=0.1):\n",
    "    model = get_pretrained_model(model_name, num_classes=3, pretrained=True)\n",
    "    device = torch.device(device if torch.cuda.is_available() else 'cpu')\n",
    "    model = model.to(device)\n",
    "    optimizer = optim.Adam(model.parameters(), lr=1e-3)\n",
    "\n",
    "    is_aux_model = hasattr(model, 'potential_head')\n",
    "    \n",
    "    criterion = nn.CrossEntropyLoss()\n",
    "    \n",
    "    for epoch in range(num_epochs):\n",
    "        torch.cuda.empty_cache()\n",
    "        model.train()\n",
    "        total_loss = 0.0\n",
    "        total_correct = 0\n",
    "        total_samples = 0\n",
    "        \n",
    "        epoch_true = []\n",
    "        epoch_preds = []\n",
    "        \n",
    "        for images, labels in tqdm(train_dataloader, desc=f\"Epoch {epoch+1}/{num_epochs} [Train]\"):\n",
    "            images = images.float().to(device)\n",
    "            labels = labels.to(device)\n",
    "            optimizer.zero_grad()\n",
    "            \n",
    "            if is_aux_model:\n",
    "                outputs, potential = model(images)\n",
    "                cls_loss = criterion(outputs, labels)\n",
    "                aux_loss = laplacian_loss(potential)\n",
    "                loss = cls_loss + lambda_lap * aux_loss\n",
    "                preds = F.softmax(outputs, dim=1)\n",
    "            else:\n",
    "                outputs = model(images)\n",
    "                loss = criterion(outputs, labels)\n",
    "                preds = F.softmax(outputs, dim=1)\n",
    "            \n",
    "            loss.backward()\n",
    "            optimizer.step()\n",
    "            \n",
    "            total_loss += loss.item() * images.size(0)\n",
    "            total_samples += labels.size(0)\n",
    "            _, predicted = (outputs.max(1) if is_aux_model else torch.max(outputs, 1))\n",
    "            total_correct += predicted.eq(labels).sum().item()\n",
    "\n",
    "            epoch_true.extend(labels.cpu().numpy())\n",
    "            epoch_preds.extend(preds.cpu().detach().numpy())\n",
    "\n",
    "            del images, labels, outputs, preds\n",
    "            if is_aux_model:\n",
    "                del potential, aux_loss, cls_loss\n",
    "        \n",
    "        try:\n",
    "            auc = roc_auc_score(epoch_true, epoch_preds, multi_class='ovr')\n",
    "        except Exception as e:\n",
    "            auc = float('nan')\n",
    "            print(\"AUC calculation error:\", e)\n",
    "        \n",
    "        print(f\"Epoch {epoch+1}: Train Loss {total_loss/total_samples:.4f}, Train Acc {total_correct/total_samples:.4f}, Train AUC {auc:.4f}\")\n",
    "        \n",
    "        model.eval()\n",
    "        val_loss = 0.0\n",
    "        val_correct = 0\n",
    "        total_val = 0\n",
    "        val_true = []\n",
    "        val_preds = []\n",
    "        with torch.no_grad():\n",
    "            for images, labels in tqdm(val_dataloader, desc=f\"Epoch {epoch+1}/{num_epochs} [Val]\"):\n",
    "                images = images.float().to(device)\n",
    "                labels = labels.to(device)\n",
    "                if is_aux_model:\n",
    "                    outputs, potential = model(images)\n",
    "                    cls_loss = criterion(outputs, labels)\n",
    "                    aux_loss = laplacian_loss(potential)\n",
    "                    loss = cls_loss + lambda_lap * aux_loss\n",
    "                    preds = F.softmax(outputs, dim=1)\n",
    "                else:\n",
    "                    outputs = model(images)\n",
    "                    loss = criterion(outputs, labels)\n",
    "                    preds = F.softmax(outputs, dim=1)\n",
    "                val_loss += loss.item() * images.size(0)\n",
    "                total_val += labels.size(0)\n",
    "                _, predicted = (outputs.max(1) if is_aux_model else torch.max(outputs, 1))\n",
    "                val_correct += predicted.eq(labels).sum().item()\n",
    "                val_true.extend(labels.cpu().numpy())\n",
    "                val_preds.extend(preds.cpu().detach().numpy())\n",
    "\n",
    "                del images, labels, outputs, preds\n",
    "                if is_aux_model:\n",
    "                    del potential, aux_loss, cls_loss\n",
    "                torch.cuda.empty_cache()\n",
    "                gc.collect()\n",
    "                \n",
    "        try:\n",
    "            val_auc = roc_auc_score(val_true, val_preds, multi_class='ovr')\n",
    "        except Exception as e:\n",
    "            val_auc = float('nan')\n",
    "            print(\"Validation AUC calculation error:\", e)\n",
    "        \n",
    "        print(f\"Epoch {epoch+1}: Val Loss {val_loss/total_val:.4f}, Val Acc {val_correct/total_val:.4f}, Val AUC {val_auc:.4f}\")\n",
    "    return model"
   ]
  },
  {
   "cell_type": "code",
   "execution_count": 36,
   "id": "1a464258-3c91-44f8-9caa-4a2736957e46",
   "metadata": {},
   "outputs": [
    {
     "name": "stderr",
     "output_type": "stream",
     "text": [
      "INFO:timm.models._builder:Loading pretrained weights from Hugging Face hub (timm/efficientnet_b0.ra_in1k)\n",
      "INFO:timm.models._hub:[timm/efficientnet_b0.ra_in1k] Safe alternative available for 'pytorch_model.bin' (as 'model.safetensors'). Loading weights using safetensors.\n",
      "INFO:timm.models._builder:Missing keys (classifier.weight, classifier.bias) discovered while loading pretrained weights. This is expected if model is being adapted.\n",
      "Epoch 1/10 [Train]: 100%|████████████████████████████████████████████████████████████| 938/938 [01:56<00:00,  8.09it/s]\n"
     ]
    },
    {
     "name": "stdout",
     "output_type": "stream",
     "text": [
      "Epoch 1: Train Loss 1.1295, Train Acc 0.4571, Train AUC 0.6458\n"
     ]
    },
    {
     "name": "stderr",
     "output_type": "stream",
     "text": [
      "Epoch 1/10 [Val]: 100%|██████████████████████████████████████████████████████████████| 235/235 [01:14<00:00,  3.17it/s]\n"
     ]
    },
    {
     "name": "stdout",
     "output_type": "stream",
     "text": [
      "Epoch 1: Val Loss 0.7934, Val Acc 0.6301, Val AUC 0.8133\n"
     ]
    },
    {
     "name": "stderr",
     "output_type": "stream",
     "text": [
      "Epoch 2/10 [Train]: 100%|████████████████████████████████████████████████████████████| 938/938 [01:54<00:00,  8.21it/s]\n"
     ]
    },
    {
     "name": "stdout",
     "output_type": "stream",
     "text": [
      "Epoch 2: Train Loss 0.6559, Train Acc 0.7184, Train AUC 0.8746\n"
     ]
    },
    {
     "name": "stderr",
     "output_type": "stream",
     "text": [
      "Epoch 2/10 [Val]: 100%|██████████████████████████████████████████████████████████████| 235/235 [01:13<00:00,  3.19it/s]\n"
     ]
    },
    {
     "name": "stdout",
     "output_type": "stream",
     "text": [
      "Epoch 2: Val Loss 0.5576, Val Acc 0.7699, Val AUC 0.9163\n"
     ]
    },
    {
     "name": "stderr",
     "output_type": "stream",
     "text": [
      "Epoch 3/10 [Train]: 100%|████████████████████████████████████████████████████████████| 938/938 [02:00<00:00,  7.77it/s]\n"
     ]
    },
    {
     "name": "stdout",
     "output_type": "stream",
     "text": [
      "Epoch 3: Train Loss 0.4513, Train Acc 0.8203, Train AUC 0.9411\n"
     ]
    },
    {
     "name": "stderr",
     "output_type": "stream",
     "text": [
      "Epoch 3/10 [Val]: 100%|██████████████████████████████████████████████████████████████| 235/235 [01:13<00:00,  3.18it/s]\n"
     ]
    },
    {
     "name": "stdout",
     "output_type": "stream",
     "text": [
      "Epoch 3: Val Loss 0.3845, Val Acc 0.8508, Val AUC 0.9605\n"
     ]
    },
    {
     "name": "stderr",
     "output_type": "stream",
     "text": [
      "Epoch 4/10 [Train]: 100%|████████████████████████████████████████████████████████████| 938/938 [02:13<00:00,  7.01it/s]\n"
     ]
    },
    {
     "name": "stdout",
     "output_type": "stream",
     "text": [
      "Epoch 4: Train Loss 0.3465, Train Acc 0.8683, Train AUC 0.9648\n"
     ]
    },
    {
     "name": "stderr",
     "output_type": "stream",
     "text": [
      "Epoch 4/10 [Val]: 100%|██████████████████████████████████████████████████████████████| 235/235 [01:13<00:00,  3.20it/s]\n"
     ]
    },
    {
     "name": "stdout",
     "output_type": "stream",
     "text": [
      "Epoch 4: Val Loss 0.3609, Val Acc 0.8737, Val AUC 0.9721\n"
     ]
    },
    {
     "name": "stderr",
     "output_type": "stream",
     "text": [
      "Epoch 5/10 [Train]: 100%|████████████████████████████████████████████████████████████| 938/938 [02:03<00:00,  7.59it/s]\n"
     ]
    },
    {
     "name": "stdout",
     "output_type": "stream",
     "text": [
      "Epoch 5: Train Loss 0.2965, Train Acc 0.8906, Train AUC 0.9736\n"
     ]
    },
    {
     "name": "stderr",
     "output_type": "stream",
     "text": [
      "Epoch 5/10 [Val]: 100%|██████████████████████████████████████████████████████████████| 235/235 [01:13<00:00,  3.22it/s]\n"
     ]
    },
    {
     "name": "stdout",
     "output_type": "stream",
     "text": [
      "Epoch 5: Val Loss 0.4050, Val Acc 0.8395, Val AUC 0.9677\n"
     ]
    },
    {
     "name": "stderr",
     "output_type": "stream",
     "text": [
      "Epoch 6/10 [Train]: 100%|████████████████████████████████████████████████████████████| 938/938 [02:07<00:00,  7.38it/s]\n"
     ]
    },
    {
     "name": "stdout",
     "output_type": "stream",
     "text": [
      "Epoch 6: Train Loss 0.2586, Train Acc 0.9055, Train AUC 0.9792\n"
     ]
    },
    {
     "name": "stderr",
     "output_type": "stream",
     "text": [
      "Epoch 6/10 [Val]: 100%|██████████████████████████████████████████████████████████████| 235/235 [01:18<00:00,  3.00it/s]\n"
     ]
    },
    {
     "name": "stdout",
     "output_type": "stream",
     "text": [
      "Epoch 6: Val Loss 0.3105, Val Acc 0.8781, Val AUC 0.9774\n"
     ]
    },
    {
     "name": "stderr",
     "output_type": "stream",
     "text": [
      "Epoch 7/10 [Train]: 100%|████████████████████████████████████████████████████████████| 938/938 [02:03<00:00,  7.59it/s]\n"
     ]
    },
    {
     "name": "stdout",
     "output_type": "stream",
     "text": [
      "Epoch 7: Train Loss 0.2225, Train Acc 0.9195, Train AUC 0.9843\n"
     ]
    },
    {
     "name": "stderr",
     "output_type": "stream",
     "text": [
      "Epoch 7/10 [Val]: 100%|██████████████████████████████████████████████████████████████| 235/235 [01:18<00:00,  3.00it/s]\n"
     ]
    },
    {
     "name": "stdout",
     "output_type": "stream",
     "text": [
      "Epoch 7: Val Loss 0.2592, Val Acc 0.9083, Val AUC 0.9814\n"
     ]
    },
    {
     "name": "stderr",
     "output_type": "stream",
     "text": [
      "Epoch 8/10 [Train]: 100%|████████████████████████████████████████████████████████████| 938/938 [02:00<00:00,  7.76it/s]\n"
     ]
    },
    {
     "name": "stdout",
     "output_type": "stream",
     "text": [
      "Epoch 8: Train Loss 0.1947, Train Acc 0.9301, Train AUC 0.9878\n"
     ]
    },
    {
     "name": "stderr",
     "output_type": "stream",
     "text": [
      "Epoch 8/10 [Val]: 100%|██████████████████████████████████████████████████████████████| 235/235 [01:13<00:00,  3.19it/s]\n"
     ]
    },
    {
     "name": "stdout",
     "output_type": "stream",
     "text": [
      "Epoch 8: Val Loss 0.2899, Val Acc 0.8968, Val AUC 0.9768\n"
     ]
    },
    {
     "name": "stderr",
     "output_type": "stream",
     "text": [
      "Epoch 9/10 [Train]: 100%|████████████████████████████████████████████████████████████| 938/938 [02:01<00:00,  7.72it/s]\n"
     ]
    },
    {
     "name": "stdout",
     "output_type": "stream",
     "text": [
      "Epoch 9: Train Loss 0.1828, Train Acc 0.9354, Train AUC 0.9893\n"
     ]
    },
    {
     "name": "stderr",
     "output_type": "stream",
     "text": [
      "Epoch 9/10 [Val]: 100%|██████████████████████████████████████████████████████████████| 235/235 [01:14<00:00,  3.17it/s]\n"
     ]
    },
    {
     "name": "stdout",
     "output_type": "stream",
     "text": [
      "Epoch 9: Val Loss 0.2568, Val Acc 0.9116, Val AUC 0.9831\n"
     ]
    },
    {
     "name": "stderr",
     "output_type": "stream",
     "text": [
      "Epoch 10/10 [Train]: 100%|███████████████████████████████████████████████████████████| 938/938 [01:55<00:00,  8.12it/s]\n"
     ]
    },
    {
     "name": "stdout",
     "output_type": "stream",
     "text": [
      "Epoch 10: Train Loss 0.1629, Train Acc 0.9435, Train AUC 0.9912\n"
     ]
    },
    {
     "name": "stderr",
     "output_type": "stream",
     "text": [
      "Epoch 10/10 [Val]: 100%|█████████████████████████████████████████████████████████████| 235/235 [01:12<00:00,  3.23it/s]"
     ]
    },
    {
     "name": "stdout",
     "output_type": "stream",
     "text": [
      "Epoch 10: Val Loss 0.4393, Val Acc 0.8223, Val AUC 0.9744\n"
     ]
    },
    {
     "name": "stderr",
     "output_type": "stream",
     "text": [
      "\n"
     ]
    }
   ],
   "source": [
    "train_aux_laplacian('efficientnet_b0', train_loader, val_loader)"
   ]
  },
  {
   "cell_type": "code",
   "execution_count": 38,
   "id": "944e0987-8239-41c9-9954-ea9a8e748d5d",
   "metadata": {},
   "outputs": [
    {
     "name": "stderr",
     "output_type": "stream",
     "text": [
      "INFO:timm.models._builder:Loading pretrained weights from Hugging Face hub (timm/efficientnet_b1.ft_in1k)\n",
      "INFO:timm.models._hub:[timm/efficientnet_b1.ft_in1k] Safe alternative available for 'pytorch_model.bin' (as 'model.safetensors'). Loading weights using safetensors.\n",
      "INFO:timm.models._builder:Missing keys (classifier.weight, classifier.bias) discovered while loading pretrained weights. This is expected if model is being adapted.\n",
      "Epoch 1/10 [Train]: 100%|████████████████████████████████████████████████████████████| 938/938 [02:36<00:00,  6.00it/s]\n"
     ]
    },
    {
     "name": "stdout",
     "output_type": "stream",
     "text": [
      "Epoch 1: Train Loss 1.0777, Train Acc 0.4987, Train AUC 0.6868\n"
     ]
    },
    {
     "name": "stderr",
     "output_type": "stream",
     "text": [
      "Epoch 1/10 [Val]: 100%|██████████████████████████████████████████████████████████████| 235/235 [01:24<00:00,  2.78it/s]\n"
     ]
    },
    {
     "name": "stdout",
     "output_type": "stream",
     "text": [
      "Epoch 1: Val Loss 0.6824, Val Acc 0.6916, Val AUC 0.8761\n"
     ]
    },
    {
     "name": "stderr",
     "output_type": "stream",
     "text": [
      "Epoch 2/10 [Train]: 100%|████████████████████████████████████████████████████████████| 938/938 [02:28<00:00,  6.33it/s]\n"
     ]
    },
    {
     "name": "stdout",
     "output_type": "stream",
     "text": [
      "Epoch 2: Train Loss 0.5138, Train Acc 0.7905, Train AUC 0.9227\n"
     ]
    },
    {
     "name": "stderr",
     "output_type": "stream",
     "text": [
      "Epoch 2/10 [Val]: 100%|██████████████████████████████████████████████████████████████| 235/235 [01:20<00:00,  2.94it/s]\n"
     ]
    },
    {
     "name": "stdout",
     "output_type": "stream",
     "text": [
      "Epoch 2: Val Loss 0.4196, Val Acc 0.8312, Val AUC 0.9495\n"
     ]
    },
    {
     "name": "stderr",
     "output_type": "stream",
     "text": [
      "Epoch 3/10 [Train]: 100%|████████████████████████████████████████████████████████████| 938/938 [02:30<00:00,  6.23it/s]\n"
     ]
    },
    {
     "name": "stdout",
     "output_type": "stream",
     "text": [
      "Epoch 3: Train Loss 0.3467, Train Acc 0.8685, Train AUC 0.9643\n"
     ]
    },
    {
     "name": "stderr",
     "output_type": "stream",
     "text": [
      "Epoch 3/10 [Val]: 100%|██████████████████████████████████████████████████████████████| 235/235 [01:17<00:00,  3.04it/s]\n"
     ]
    },
    {
     "name": "stdout",
     "output_type": "stream",
     "text": [
      "Epoch 3: Val Loss 0.4077, Val Acc 0.8655, Val AUC 0.9711\n"
     ]
    },
    {
     "name": "stderr",
     "output_type": "stream",
     "text": [
      "Epoch 4/10 [Train]: 100%|████████████████████████████████████████████████████████████| 938/938 [02:33<00:00,  6.10it/s]\n"
     ]
    },
    {
     "name": "stdout",
     "output_type": "stream",
     "text": [
      "Epoch 4: Train Loss 0.2741, Train Acc 0.8984, Train AUC 0.9772\n"
     ]
    },
    {
     "name": "stderr",
     "output_type": "stream",
     "text": [
      "Epoch 4/10 [Val]: 100%|██████████████████████████████████████████████████████████████| 235/235 [01:19<00:00,  2.95it/s]\n"
     ]
    },
    {
     "name": "stdout",
     "output_type": "stream",
     "text": [
      "Epoch 4: Val Loss 0.2702, Val Acc 0.9043, Val AUC 0.9778\n"
     ]
    },
    {
     "name": "stderr",
     "output_type": "stream",
     "text": [
      "Epoch 5/10 [Train]: 100%|████████████████████████████████████████████████████████████| 938/938 [02:27<00:00,  6.34it/s]\n"
     ]
    },
    {
     "name": "stdout",
     "output_type": "stream",
     "text": [
      "Epoch 5: Train Loss 0.2225, Train Acc 0.9177, Train AUC 0.9844\n"
     ]
    },
    {
     "name": "stderr",
     "output_type": "stream",
     "text": [
      "Epoch 5/10 [Val]: 100%|██████████████████████████████████████████████████████████████| 235/235 [01:22<00:00,  2.86it/s]\n"
     ]
    },
    {
     "name": "stdout",
     "output_type": "stream",
     "text": [
      "Epoch 5: Val Loss 0.2680, Val Acc 0.9081, Val AUC 0.9815\n"
     ]
    },
    {
     "name": "stderr",
     "output_type": "stream",
     "text": [
      "Epoch 6/10 [Train]: 100%|████████████████████████████████████████████████████████████| 938/938 [02:34<00:00,  6.09it/s]\n"
     ]
    },
    {
     "name": "stdout",
     "output_type": "stream",
     "text": [
      "Epoch 6: Train Loss 0.1963, Train Acc 0.9304, Train AUC 0.9876\n"
     ]
    },
    {
     "name": "stderr",
     "output_type": "stream",
     "text": [
      "Epoch 6/10 [Val]: 100%|██████████████████████████████████████████████████████████████| 235/235 [01:19<00:00,  2.94it/s]\n"
     ]
    },
    {
     "name": "stdout",
     "output_type": "stream",
     "text": [
      "Epoch 6: Val Loss 0.2641, Val Acc 0.9064, Val AUC 0.9790\n"
     ]
    },
    {
     "name": "stderr",
     "output_type": "stream",
     "text": [
      "Epoch 7/10 [Train]: 100%|████████████████████████████████████████████████████████████| 938/938 [02:20<00:00,  6.70it/s]\n"
     ]
    },
    {
     "name": "stdout",
     "output_type": "stream",
     "text": [
      "Epoch 7: Train Loss 0.1707, Train Acc 0.9384, Train AUC 0.9905\n"
     ]
    },
    {
     "name": "stderr",
     "output_type": "stream",
     "text": [
      "Epoch 7/10 [Val]: 100%|██████████████████████████████████████████████████████████████| 235/235 [01:17<00:00,  3.03it/s]\n"
     ]
    },
    {
     "name": "stdout",
     "output_type": "stream",
     "text": [
      "Epoch 7: Val Loss 0.2493, Val Acc 0.9157, Val AUC 0.9834\n"
     ]
    },
    {
     "name": "stderr",
     "output_type": "stream",
     "text": [
      "Epoch 8/10 [Train]: 100%|████████████████████████████████████████████████████████████| 938/938 [02:13<00:00,  7.01it/s]\n"
     ]
    },
    {
     "name": "stdout",
     "output_type": "stream",
     "text": [
      "Epoch 8: Train Loss 0.1546, Train Acc 0.9465, Train AUC 0.9920\n"
     ]
    },
    {
     "name": "stderr",
     "output_type": "stream",
     "text": [
      "Epoch 8/10 [Val]: 100%|██████████████████████████████████████████████████████████████| 235/235 [01:12<00:00,  3.24it/s]\n"
     ]
    },
    {
     "name": "stdout",
     "output_type": "stream",
     "text": [
      "Epoch 8: Val Loss 0.2202, Val Acc 0.9235, Val AUC 0.9854\n"
     ]
    },
    {
     "name": "stderr",
     "output_type": "stream",
     "text": [
      "Epoch 9/10 [Train]: 100%|████████████████████████████████████████████████████████████| 938/938 [01:56<00:00,  8.02it/s]\n"
     ]
    },
    {
     "name": "stdout",
     "output_type": "stream",
     "text": [
      "Epoch 9: Train Loss 0.1327, Train Acc 0.9531, Train AUC 0.9942\n"
     ]
    },
    {
     "name": "stderr",
     "output_type": "stream",
     "text": [
      "Epoch 9/10 [Val]: 100%|██████████████████████████████████████████████████████████████| 235/235 [01:14<00:00,  3.14it/s]\n"
     ]
    },
    {
     "name": "stdout",
     "output_type": "stream",
     "text": [
      "Epoch 9: Val Loss 0.2290, Val Acc 0.9201, Val AUC 0.9832\n"
     ]
    },
    {
     "name": "stderr",
     "output_type": "stream",
     "text": [
      "Epoch 10/10 [Train]: 100%|███████████████████████████████████████████████████████████| 938/938 [01:52<00:00,  8.31it/s]\n"
     ]
    },
    {
     "name": "stdout",
     "output_type": "stream",
     "text": [
      "Epoch 10: Train Loss 0.1189, Train Acc 0.9585, Train AUC 0.9952\n"
     ]
    },
    {
     "name": "stderr",
     "output_type": "stream",
     "text": [
      "Epoch 10/10 [Val]: 100%|█████████████████████████████████████████████████████████████| 235/235 [01:15<00:00,  3.12it/s]"
     ]
    },
    {
     "name": "stdout",
     "output_type": "stream",
     "text": [
      "Epoch 10: Val Loss 0.2661, Val Acc 0.9100, Val AUC 0.9812\n"
     ]
    },
    {
     "name": "stderr",
     "output_type": "stream",
     "text": [
      "\n"
     ]
    }
   ],
   "source": [
    "model = train_aux_laplacian('efficientnet_b1', train_loader, val_loader)"
   ]
  },
  {
   "cell_type": "code",
   "execution_count": 39,
   "id": "0eee7462-2802-4810-a8d2-ead622fbc098",
   "metadata": {},
   "outputs": [
    {
     "name": "stderr",
     "output_type": "stream",
     "text": [
      "INFO:timm.models._builder:Loading pretrained weights from Hugging Face hub (timm/resnet18.a1_in1k)\n",
      "INFO:timm.models._hub:[timm/resnet18.a1_in1k] Safe alternative available for 'pytorch_model.bin' (as 'model.safetensors'). Loading weights using safetensors.\n",
      "INFO:timm.models._builder:Missing keys (fc.weight, fc.bias) discovered while loading pretrained weights. This is expected if model is being adapted.\n",
      "Epoch 1/10 [Train]: 100%|████████████████████████████████████████████████████████████| 938/938 [01:40<00:00,  9.34it/s]\n"
     ]
    },
    {
     "name": "stdout",
     "output_type": "stream",
     "text": [
      "Epoch 1: Train Loss 0.9957, Train Acc 0.4518, Train AUC 0.6595\n"
     ]
    },
    {
     "name": "stderr",
     "output_type": "stream",
     "text": [
      "Epoch 1/10 [Val]: 100%|██████████████████████████████████████████████████████████████| 235/235 [01:17<00:00,  3.02it/s]\n"
     ]
    },
    {
     "name": "stdout",
     "output_type": "stream",
     "text": [
      "Epoch 1: Val Loss 1.9285, Val Acc 0.4305, Val AUC 0.7423\n"
     ]
    },
    {
     "name": "stderr",
     "output_type": "stream",
     "text": [
      "Epoch 2/10 [Train]: 100%|████████████████████████████████████████████████████████████| 938/938 [01:30<00:00, 10.35it/s]\n"
     ]
    },
    {
     "name": "stdout",
     "output_type": "stream",
     "text": [
      "Epoch 2: Train Loss 0.5451, Train Acc 0.7730, Train AUC 0.9130\n"
     ]
    },
    {
     "name": "stderr",
     "output_type": "stream",
     "text": [
      "Epoch 2/10 [Val]: 100%|██████████████████████████████████████████████████████████████| 235/235 [01:16<00:00,  3.06it/s]\n"
     ]
    },
    {
     "name": "stdout",
     "output_type": "stream",
     "text": [
      "Epoch 2: Val Loss 0.6333, Val Acc 0.7713, Val AUC 0.9295\n"
     ]
    },
    {
     "name": "stderr",
     "output_type": "stream",
     "text": [
      "Epoch 3/10 [Train]: 100%|████████████████████████████████████████████████████████████| 938/938 [01:32<00:00, 10.11it/s]\n"
     ]
    },
    {
     "name": "stdout",
     "output_type": "stream",
     "text": [
      "Epoch 3: Train Loss 0.3766, Train Acc 0.8514, Train AUC 0.9579\n"
     ]
    },
    {
     "name": "stderr",
     "output_type": "stream",
     "text": [
      "Epoch 3/10 [Val]: 100%|██████████████████████████████████████████████████████████████| 235/235 [01:21<00:00,  2.88it/s]\n"
     ]
    },
    {
     "name": "stdout",
     "output_type": "stream",
     "text": [
      "Epoch 3: Val Loss 0.4155, Val Acc 0.8465, Val AUC 0.9577\n"
     ]
    },
    {
     "name": "stderr",
     "output_type": "stream",
     "text": [
      "Epoch 4/10 [Train]: 100%|████████████████████████████████████████████████████████████| 938/938 [01:32<00:00, 10.09it/s]\n"
     ]
    },
    {
     "name": "stdout",
     "output_type": "stream",
     "text": [
      "Epoch 4: Train Loss 0.3070, Train Acc 0.8848, Train AUC 0.9710\n"
     ]
    },
    {
     "name": "stderr",
     "output_type": "stream",
     "text": [
      "Epoch 4/10 [Val]: 100%|██████████████████████████████████████████████████████████████| 235/235 [01:16<00:00,  3.07it/s]\n"
     ]
    },
    {
     "name": "stdout",
     "output_type": "stream",
     "text": [
      "Epoch 4: Val Loss 0.2988, Val Acc 0.8872, Val AUC 0.9732\n"
     ]
    },
    {
     "name": "stderr",
     "output_type": "stream",
     "text": [
      "Epoch 5/10 [Train]: 100%|████████████████████████████████████████████████████████████| 938/938 [01:28<00:00, 10.57it/s]\n"
     ]
    },
    {
     "name": "stdout",
     "output_type": "stream",
     "text": [
      "Epoch 5: Train Loss 0.2607, Train Acc 0.9009, Train AUC 0.9790\n"
     ]
    },
    {
     "name": "stderr",
     "output_type": "stream",
     "text": [
      "Epoch 5/10 [Val]: 100%|██████████████████████████████████████████████████████████████| 235/235 [01:13<00:00,  3.19it/s]\n"
     ]
    },
    {
     "name": "stdout",
     "output_type": "stream",
     "text": [
      "Epoch 5: Val Loss 0.3034, Val Acc 0.8933, Val AUC 0.9738\n"
     ]
    },
    {
     "name": "stderr",
     "output_type": "stream",
     "text": [
      "Epoch 6/10 [Train]: 100%|████████████████████████████████████████████████████████████| 938/938 [01:33<00:00, 10.05it/s]\n"
     ]
    },
    {
     "name": "stdout",
     "output_type": "stream",
     "text": [
      "Epoch 6: Train Loss 0.2287, Train Acc 0.9140, Train AUC 0.9833\n"
     ]
    },
    {
     "name": "stderr",
     "output_type": "stream",
     "text": [
      "Epoch 6/10 [Val]: 100%|██████████████████████████████████████████████████████████████| 235/235 [01:18<00:00,  3.00it/s]\n"
     ]
    },
    {
     "name": "stdout",
     "output_type": "stream",
     "text": [
      "Epoch 6: Val Loss 0.2802, Val Acc 0.8947, Val AUC 0.9761\n"
     ]
    },
    {
     "name": "stderr",
     "output_type": "stream",
     "text": [
      "Epoch 7/10 [Train]: 100%|████████████████████████████████████████████████████████████| 938/938 [01:32<00:00, 10.19it/s]\n"
     ]
    },
    {
     "name": "stdout",
     "output_type": "stream",
     "text": [
      "Epoch 7: Train Loss 0.1960, Train Acc 0.9282, Train AUC 0.9876\n"
     ]
    },
    {
     "name": "stderr",
     "output_type": "stream",
     "text": [
      "Epoch 7/10 [Val]: 100%|██████████████████████████████████████████████████████████████| 235/235 [01:18<00:00,  2.99it/s]\n"
     ]
    },
    {
     "name": "stdout",
     "output_type": "stream",
     "text": [
      "Epoch 7: Val Loss 0.2822, Val Acc 0.9011, Val AUC 0.9775\n"
     ]
    },
    {
     "name": "stderr",
     "output_type": "stream",
     "text": [
      "Epoch 8/10 [Train]: 100%|████████████████████████████████████████████████████████████| 938/938 [01:27<00:00, 10.68it/s]\n"
     ]
    },
    {
     "name": "stdout",
     "output_type": "stream",
     "text": [
      "Epoch 8: Train Loss 0.1796, Train Acc 0.9340, Train AUC 0.9895\n"
     ]
    },
    {
     "name": "stderr",
     "output_type": "stream",
     "text": [
      "Epoch 8/10 [Val]: 100%|██████████████████████████████████████████████████████████████| 235/235 [01:18<00:00,  3.00it/s]\n"
     ]
    },
    {
     "name": "stdout",
     "output_type": "stream",
     "text": [
      "Epoch 8: Val Loss 0.2604, Val Acc 0.9052, Val AUC 0.9795\n"
     ]
    },
    {
     "name": "stderr",
     "output_type": "stream",
     "text": [
      "Epoch 9/10 [Train]: 100%|████████████████████████████████████████████████████████████| 938/938 [01:31<00:00, 10.21it/s]\n"
     ]
    },
    {
     "name": "stdout",
     "output_type": "stream",
     "text": [
      "Epoch 9: Train Loss 0.1571, Train Acc 0.9420, Train AUC 0.9918\n"
     ]
    },
    {
     "name": "stderr",
     "output_type": "stream",
     "text": [
      "Epoch 9/10 [Val]: 100%|██████████████████████████████████████████████████████████████| 235/235 [01:18<00:00,  2.98it/s]\n"
     ]
    },
    {
     "name": "stdout",
     "output_type": "stream",
     "text": [
      "Epoch 9: Val Loss 0.2513, Val Acc 0.9107, Val AUC 0.9816\n"
     ]
    },
    {
     "name": "stderr",
     "output_type": "stream",
     "text": [
      "Epoch 10/10 [Train]: 100%|███████████████████████████████████████████████████████████| 938/938 [01:25<00:00, 11.02it/s]\n"
     ]
    },
    {
     "name": "stdout",
     "output_type": "stream",
     "text": [
      "Epoch 10: Train Loss 0.1403, Train Acc 0.9489, Train AUC 0.9933\n"
     ]
    },
    {
     "name": "stderr",
     "output_type": "stream",
     "text": [
      "Epoch 10/10 [Val]: 100%|█████████████████████████████████████████████████████████████| 235/235 [01:14<00:00,  3.14it/s]"
     ]
    },
    {
     "name": "stdout",
     "output_type": "stream",
     "text": [
      "Epoch 10: Val Loss 0.2661, Val Acc 0.9100, Val AUC 0.9811\n"
     ]
    },
    {
     "name": "stderr",
     "output_type": "stream",
     "text": [
      "\n"
     ]
    }
   ],
   "source": [
    "model = train_aux_laplacian('resnet18', train_loader, val_loader)"
   ]
  },
  {
   "cell_type": "code",
   "execution_count": 40,
   "id": "2ebe74e7-5341-4b40-9475-afeaebf2e7bc",
   "metadata": {},
   "outputs": [],
   "source": [
    "torch.save({'model_state_dict':model.state_dict()},'resnet18_laplacian_loss.pth')"
   ]
  },
  {
   "cell_type": "code",
   "execution_count": 41,
   "id": "f565ac86-f357-4ba5-80a0-1ea994a35c59",
   "metadata": {},
   "outputs": [
    {
     "name": "stderr",
     "output_type": "stream",
     "text": [
      "INFO:timm.models._builder:Loading pretrained weights from Hugging Face hub (timm/densenet121.ra_in1k)\n"
     ]
    },
    {
     "data": {
      "application/vnd.jupyter.widget-view+json": {
       "model_id": "2ef26b96202d40668ea74a1bdbd8d211",
       "version_major": 2,
       "version_minor": 0
      },
      "text/plain": [
       "model.safetensors:   0%|          | 0.00/32.3M [00:00<?, ?B/s]"
      ]
     },
     "metadata": {},
     "output_type": "display_data"
    },
    {
     "name": "stderr",
     "output_type": "stream",
     "text": [
      "C:\\Users\\hs106\\AppData\\Local\\Programs\\Python\\Python311\\Lib\\site-packages\\huggingface_hub\\file_download.py:159: UserWarning: `huggingface_hub` cache-system uses symlinks by default to efficiently store duplicated files but your machine does not support them in C:\\Users\\hs106\\.cache\\huggingface\\hub\\models--timm--densenet121.ra_in1k. Caching files will still work but in a degraded version that might require more space on your disk. This warning can be disabled by setting the `HF_HUB_DISABLE_SYMLINKS_WARNING` environment variable. For more details, see https://huggingface.co/docs/huggingface_hub/how-to-cache#limitations.\n",
      "To support symlinks on Windows, you either need to activate Developer Mode or to run Python as an administrator. In order to see activate developer mode, see this article: https://docs.microsoft.com/en-us/windows/apps/get-started/enable-your-device-for-development\n",
      "  warnings.warn(message)\n",
      "INFO:timm.models._hub:[timm/densenet121.ra_in1k] Safe alternative available for 'pytorch_model.bin' (as 'model.safetensors'). Loading weights using safetensors.\n",
      "INFO:timm.models._builder:Missing keys (classifier.weight, classifier.bias) discovered while loading pretrained weights. This is expected if model is being adapted.\n",
      "Epoch 1/10 [Train]: 100%|████████████████████████████████████████████████████████████| 938/938 [03:27<00:00,  4.52it/s]\n"
     ]
    },
    {
     "name": "stdout",
     "output_type": "stream",
     "text": [
      "Epoch 1: Train Loss 1.0992, Train Acc 0.3653, Train AUC 0.5403\n"
     ]
    },
    {
     "name": "stderr",
     "output_type": "stream",
     "text": [
      "Epoch 1/10 [Val]: 100%|██████████████████████████████████████████████████████████████| 235/235 [01:23<00:00,  2.80it/s]\n"
     ]
    },
    {
     "name": "stdout",
     "output_type": "stream",
     "text": [
      "Epoch 1: Val Loss 1.1504, Val Acc 0.4237, Val AUC 0.6770\n"
     ]
    },
    {
     "name": "stderr",
     "output_type": "stream",
     "text": [
      "Epoch 2/10 [Train]: 100%|████████████████████████████████████████████████████████████| 938/938 [03:07<00:00,  5.00it/s]\n"
     ]
    },
    {
     "name": "stdout",
     "output_type": "stream",
     "text": [
      "Epoch 2: Train Loss 0.7153, Train Acc 0.6709, Train AUC 0.8482\n"
     ]
    },
    {
     "name": "stderr",
     "output_type": "stream",
     "text": [
      "Epoch 2/10 [Val]: 100%|██████████████████████████████████████████████████████████████| 235/235 [01:18<00:00,  3.01it/s]\n"
     ]
    },
    {
     "name": "stdout",
     "output_type": "stream",
     "text": [
      "Epoch 2: Val Loss 0.5969, Val Acc 0.7676, Val AUC 0.9206\n"
     ]
    },
    {
     "name": "stderr",
     "output_type": "stream",
     "text": [
      "Epoch 3/10 [Train]: 100%|████████████████████████████████████████████████████████████| 938/938 [03:02<00:00,  5.15it/s]\n"
     ]
    },
    {
     "name": "stdout",
     "output_type": "stream",
     "text": [
      "Epoch 3: Train Loss 0.4111, Train Acc 0.8393, Train AUC 0.9502\n"
     ]
    },
    {
     "name": "stderr",
     "output_type": "stream",
     "text": [
      "Epoch 3/10 [Val]: 100%|██████████████████████████████████████████████████████████████| 235/235 [01:17<00:00,  3.02it/s]\n"
     ]
    },
    {
     "name": "stdout",
     "output_type": "stream",
     "text": [
      "Epoch 3: Val Loss 0.3425, Val Acc 0.8715, Val AUC 0.9673\n"
     ]
    },
    {
     "name": "stderr",
     "output_type": "stream",
     "text": [
      "Epoch 4/10 [Train]: 100%|████████████████████████████████████████████████████████████| 938/938 [03:17<00:00,  4.76it/s]\n"
     ]
    },
    {
     "name": "stdout",
     "output_type": "stream",
     "text": [
      "Epoch 4: Train Loss 0.3273, Train Acc 0.8766, Train AUC 0.9673\n"
     ]
    },
    {
     "name": "stderr",
     "output_type": "stream",
     "text": [
      "Epoch 4/10 [Val]: 100%|██████████████████████████████████████████████████████████████| 235/235 [01:20<00:00,  2.90it/s]\n"
     ]
    },
    {
     "name": "stdout",
     "output_type": "stream",
     "text": [
      "Epoch 4: Val Loss 0.2965, Val Acc 0.8931, Val AUC 0.9732\n"
     ]
    },
    {
     "name": "stderr",
     "output_type": "stream",
     "text": [
      "Epoch 5/10 [Train]: 100%|████████████████████████████████████████████████████████████| 938/938 [03:11<00:00,  4.90it/s]\n"
     ]
    },
    {
     "name": "stdout",
     "output_type": "stream",
     "text": [
      "Epoch 5: Train Loss 0.2826, Train Acc 0.8946, Train AUC 0.9753\n"
     ]
    },
    {
     "name": "stderr",
     "output_type": "stream",
     "text": [
      "Epoch 5/10 [Val]: 100%|██████████████████████████████████████████████████████████████| 235/235 [01:15<00:00,  3.12it/s]\n"
     ]
    },
    {
     "name": "stdout",
     "output_type": "stream",
     "text": [
      "Epoch 5: Val Loss 0.2780, Val Acc 0.8977, Val AUC 0.9764\n"
     ]
    },
    {
     "name": "stderr",
     "output_type": "stream",
     "text": [
      "Epoch 6/10 [Train]: 100%|████████████████████████████████████████████████████████████| 938/938 [03:11<00:00,  4.91it/s]\n"
     ]
    },
    {
     "name": "stdout",
     "output_type": "stream",
     "text": [
      "Epoch 6: Train Loss 0.2477, Train Acc 0.9105, Train AUC 0.9804\n"
     ]
    },
    {
     "name": "stderr",
     "output_type": "stream",
     "text": [
      "Epoch 6/10 [Val]: 100%|██████████████████████████████████████████████████████████████| 235/235 [01:20<00:00,  2.91it/s]\n"
     ]
    },
    {
     "name": "stdout",
     "output_type": "stream",
     "text": [
      "Epoch 6: Val Loss 0.2697, Val Acc 0.9015, Val AUC 0.9788\n"
     ]
    },
    {
     "name": "stderr",
     "output_type": "stream",
     "text": [
      "Epoch 7/10 [Train]: 100%|████████████████████████████████████████████████████████████| 938/938 [03:16<00:00,  4.78it/s]\n"
     ]
    },
    {
     "name": "stdout",
     "output_type": "stream",
     "text": [
      "Epoch 7: Train Loss 0.2223, Train Acc 0.9185, Train AUC 0.9842\n"
     ]
    },
    {
     "name": "stderr",
     "output_type": "stream",
     "text": [
      "Epoch 7/10 [Val]: 100%|██████████████████████████████████████████████████████████████| 235/235 [01:22<00:00,  2.85it/s]\n"
     ]
    },
    {
     "name": "stdout",
     "output_type": "stream",
     "text": [
      "Epoch 7: Val Loss 0.2291, Val Acc 0.9133, Val AUC 0.9836\n"
     ]
    },
    {
     "name": "stderr",
     "output_type": "stream",
     "text": [
      "Epoch 8/10 [Train]: 100%|████████████████████████████████████████████████████████████| 938/938 [03:15<00:00,  4.79it/s]\n"
     ]
    },
    {
     "name": "stdout",
     "output_type": "stream",
     "text": [
      "Epoch 8: Train Loss 0.2057, Train Acc 0.9264, Train AUC 0.9860\n"
     ]
    },
    {
     "name": "stderr",
     "output_type": "stream",
     "text": [
      "Epoch 8/10 [Val]: 100%|██████████████████████████████████████████████████████████████| 235/235 [01:22<00:00,  2.83it/s]\n"
     ]
    },
    {
     "name": "stdout",
     "output_type": "stream",
     "text": [
      "Epoch 8: Val Loss 0.2424, Val Acc 0.9116, Val AUC 0.9822\n"
     ]
    },
    {
     "name": "stderr",
     "output_type": "stream",
     "text": [
      "Epoch 9/10 [Train]: 100%|████████████████████████████████████████████████████████████| 938/938 [03:07<00:00,  5.02it/s]\n"
     ]
    },
    {
     "name": "stdout",
     "output_type": "stream",
     "text": [
      "Epoch 9: Train Loss 0.1914, Train Acc 0.9316, Train AUC 0.9879\n"
     ]
    },
    {
     "name": "stderr",
     "output_type": "stream",
     "text": [
      "Epoch 9/10 [Val]: 100%|██████████████████████████████████████████████████████████████| 235/235 [01:20<00:00,  2.92it/s]\n"
     ]
    },
    {
     "name": "stdout",
     "output_type": "stream",
     "text": [
      "Epoch 9: Val Loss 0.2178, Val Acc 0.9208, Val AUC 0.9848\n"
     ]
    },
    {
     "name": "stderr",
     "output_type": "stream",
     "text": [
      "Epoch 10/10 [Train]: 100%|███████████████████████████████████████████████████████████| 938/938 [02:56<00:00,  5.32it/s]\n"
     ]
    },
    {
     "name": "stdout",
     "output_type": "stream",
     "text": [
      "Epoch 10: Train Loss 0.1798, Train Acc 0.9349, Train AUC 0.9893\n"
     ]
    },
    {
     "name": "stderr",
     "output_type": "stream",
     "text": [
      "Epoch 10/10 [Val]: 100%|█████████████████████████████████████████████████████████████| 235/235 [01:20<00:00,  2.94it/s]"
     ]
    },
    {
     "name": "stdout",
     "output_type": "stream",
     "text": [
      "Epoch 10: Val Loss 0.2332, Val Acc 0.9212, Val AUC 0.9838\n"
     ]
    },
    {
     "name": "stderr",
     "output_type": "stream",
     "text": [
      "\n"
     ]
    }
   ],
   "source": [
    "model = train_aux_laplacian('densenet121', train_loader, val_loader)"
   ]
  },
  {
   "cell_type": "code",
   "execution_count": 42,
   "id": "7f9d3547-a07d-4f83-a538-ed1d7673ca54",
   "metadata": {},
   "outputs": [],
   "source": [
    "torch.save({'model_state_dict':model.state_dict()},'densenet121_laplacian_loss.pth')"
   ]
  },
  {
   "cell_type": "code",
   "execution_count": 44,
   "id": "9f2a893b-fc0c-46bd-94a2-14dfa28139fe",
   "metadata": {},
   "outputs": [
    {
     "name": "stderr",
     "output_type": "stream",
     "text": [
      "INFO:timm.models._builder:Loading pretrained weights from Hugging Face hub (timm/mobilenetv2_100.ra_in1k)\n",
      "INFO:timm.models._hub:[timm/mobilenetv2_100.ra_in1k] Safe alternative available for 'pytorch_model.bin' (as 'model.safetensors'). Loading weights using safetensors.\n",
      "INFO:timm.models._builder:Missing keys (classifier.weight, classifier.bias) discovered while loading pretrained weights. This is expected if model is being adapted.\n",
      "Epoch 1/10 [Train]: 100%|████████████████████████████████████████████████████████████| 938/938 [01:34<00:00,  9.94it/s]\n"
     ]
    },
    {
     "name": "stdout",
     "output_type": "stream",
     "text": [
      "Epoch 1: Train Loss 1.1553, Train Acc 0.4328, Train AUC 0.6147\n"
     ]
    },
    {
     "name": "stderr",
     "output_type": "stream",
     "text": [
      "Epoch 1/10 [Val]: 100%|██████████████████████████████████████████████████████████████| 235/235 [01:19<00:00,  2.95it/s]\n"
     ]
    },
    {
     "name": "stdout",
     "output_type": "stream",
     "text": [
      "Epoch 1: Val Loss 0.9949, Val Acc 0.5009, Val AUC 0.7025\n"
     ]
    },
    {
     "name": "stderr",
     "output_type": "stream",
     "text": [
      "Epoch 2/10 [Train]: 100%|████████████████████████████████████████████████████████████| 938/938 [01:58<00:00,  7.93it/s]\n"
     ]
    },
    {
     "name": "stdout",
     "output_type": "stream",
     "text": [
      "Epoch 2: Train Loss 0.8122, Train Acc 0.6189, Train AUC 0.8005\n"
     ]
    },
    {
     "name": "stderr",
     "output_type": "stream",
     "text": [
      "Epoch 2/10 [Val]: 100%|██████████████████████████████████████████████████████████████| 235/235 [01:22<00:00,  2.85it/s]\n"
     ]
    },
    {
     "name": "stdout",
     "output_type": "stream",
     "text": [
      "Epoch 2: Val Loss 0.7482, Val Acc 0.6585, Val AUC 0.8537\n"
     ]
    },
    {
     "name": "stderr",
     "output_type": "stream",
     "text": [
      "Epoch 3/10 [Train]: 100%|████████████████████████████████████████████████████████████| 938/938 [01:45<00:00,  8.87it/s]\n"
     ]
    },
    {
     "name": "stdout",
     "output_type": "stream",
     "text": [
      "Epoch 3: Train Loss 0.5912, Train Acc 0.7466, Train AUC 0.8984\n"
     ]
    },
    {
     "name": "stderr",
     "output_type": "stream",
     "text": [
      "Epoch 3/10 [Val]: 100%|██████████████████████████████████████████████████████████████| 235/235 [01:18<00:00,  3.00it/s]\n"
     ]
    },
    {
     "name": "stdout",
     "output_type": "stream",
     "text": [
      "Epoch 3: Val Loss 0.5864, Val Acc 0.7504, Val AUC 0.9208\n"
     ]
    },
    {
     "name": "stderr",
     "output_type": "stream",
     "text": [
      "Epoch 4/10 [Train]: 100%|████████████████████████████████████████████████████████████| 938/938 [01:46<00:00,  8.80it/s]\n"
     ]
    },
    {
     "name": "stdout",
     "output_type": "stream",
     "text": [
      "Epoch 4: Train Loss 0.4466, Train Acc 0.8217, Train AUC 0.9420\n"
     ]
    },
    {
     "name": "stderr",
     "output_type": "stream",
     "text": [
      "Epoch 4/10 [Val]: 100%|██████████████████████████████████████████████████████████████| 235/235 [01:16<00:00,  3.06it/s]\n"
     ]
    },
    {
     "name": "stdout",
     "output_type": "stream",
     "text": [
      "Epoch 4: Val Loss 0.4070, Val Acc 0.8437, Val AUC 0.9523\n"
     ]
    },
    {
     "name": "stderr",
     "output_type": "stream",
     "text": [
      "Epoch 5/10 [Train]: 100%|████████████████████████████████████████████████████████████| 938/938 [01:39<00:00,  9.41it/s]\n"
     ]
    },
    {
     "name": "stdout",
     "output_type": "stream",
     "text": [
      "Epoch 5: Train Loss 0.3680, Train Acc 0.8571, Train AUC 0.9604\n"
     ]
    },
    {
     "name": "stderr",
     "output_type": "stream",
     "text": [
      "Epoch 5/10 [Val]: 100%|██████████████████████████████████████████████████████████████| 235/235 [01:14<00:00,  3.13it/s]\n"
     ]
    },
    {
     "name": "stdout",
     "output_type": "stream",
     "text": [
      "Epoch 5: Val Loss 0.3592, Val Acc 0.8620, Val AUC 0.9620\n"
     ]
    },
    {
     "name": "stderr",
     "output_type": "stream",
     "text": [
      "Epoch 6/10 [Train]: 100%|████████████████████████████████████████████████████████████| 938/938 [01:43<00:00,  9.05it/s]\n"
     ]
    },
    {
     "name": "stdout",
     "output_type": "stream",
     "text": [
      "Epoch 6: Train Loss 0.3151, Train Acc 0.8804, Train AUC 0.9706\n"
     ]
    },
    {
     "name": "stderr",
     "output_type": "stream",
     "text": [
      "Epoch 6/10 [Val]: 100%|██████████████████████████████████████████████████████████████| 235/235 [01:11<00:00,  3.30it/s]\n"
     ]
    },
    {
     "name": "stdout",
     "output_type": "stream",
     "text": [
      "Epoch 6: Val Loss 0.3673, Val Acc 0.8559, Val AUC 0.9609\n"
     ]
    },
    {
     "name": "stderr",
     "output_type": "stream",
     "text": [
      "Epoch 7/10 [Train]: 100%|████████████████████████████████████████████████████████████| 938/938 [01:38<00:00,  9.48it/s]\n"
     ]
    },
    {
     "name": "stdout",
     "output_type": "stream",
     "text": [
      "Epoch 7: Train Loss 0.2717, Train Acc 0.8990, Train AUC 0.9777\n"
     ]
    },
    {
     "name": "stderr",
     "output_type": "stream",
     "text": [
      "Epoch 7/10 [Val]: 100%|██████████████████████████████████████████████████████████████| 235/235 [01:17<00:00,  3.04it/s]\n"
     ]
    },
    {
     "name": "stdout",
     "output_type": "stream",
     "text": [
      "Epoch 7: Val Loss 0.3141, Val Acc 0.8779, Val AUC 0.9727\n"
     ]
    },
    {
     "name": "stderr",
     "output_type": "stream",
     "text": [
      "Epoch 8/10 [Train]: 100%|████████████████████████████████████████████████████████████| 938/938 [01:26<00:00, 10.84it/s]\n"
     ]
    },
    {
     "name": "stdout",
     "output_type": "stream",
     "text": [
      "Epoch 8: Train Loss 0.2483, Train Acc 0.9077, Train AUC 0.9812\n"
     ]
    },
    {
     "name": "stderr",
     "output_type": "stream",
     "text": [
      "Epoch 8/10 [Val]: 100%|██████████████████████████████████████████████████████████████| 235/235 [01:11<00:00,  3.31it/s]\n"
     ]
    },
    {
     "name": "stdout",
     "output_type": "stream",
     "text": [
      "Epoch 8: Val Loss 0.3094, Val Acc 0.8868, Val AUC 0.9742\n"
     ]
    },
    {
     "name": "stderr",
     "output_type": "stream",
     "text": [
      "Epoch 9/10 [Train]: 100%|████████████████████████████████████████████████████████████| 938/938 [01:35<00:00,  9.80it/s]\n"
     ]
    },
    {
     "name": "stdout",
     "output_type": "stream",
     "text": [
      "Epoch 9: Train Loss 0.2213, Train Acc 0.9189, Train AUC 0.9848\n"
     ]
    },
    {
     "name": "stderr",
     "output_type": "stream",
     "text": [
      "Epoch 9/10 [Val]: 100%|██████████████████████████████████████████████████████████████| 235/235 [01:17<00:00,  3.05it/s]\n"
     ]
    },
    {
     "name": "stdout",
     "output_type": "stream",
     "text": [
      "Epoch 9: Val Loss 0.3188, Val Acc 0.8821, Val AUC 0.9730\n"
     ]
    },
    {
     "name": "stderr",
     "output_type": "stream",
     "text": [
      "Epoch 10/10 [Train]: 100%|███████████████████████████████████████████████████████████| 938/938 [01:35<00:00,  9.81it/s]\n"
     ]
    },
    {
     "name": "stdout",
     "output_type": "stream",
     "text": [
      "Epoch 10: Train Loss 0.2042, Train Acc 0.9249, Train AUC 0.9869\n"
     ]
    },
    {
     "name": "stderr",
     "output_type": "stream",
     "text": [
      "Epoch 10/10 [Val]: 100%|█████████████████████████████████████████████████████████████| 235/235 [01:18<00:00,  2.99it/s]"
     ]
    },
    {
     "name": "stdout",
     "output_type": "stream",
     "text": [
      "Epoch 10: Val Loss 0.2939, Val Acc 0.8960, Val AUC 0.9758\n"
     ]
    },
    {
     "name": "stderr",
     "output_type": "stream",
     "text": [
      "\n"
     ]
    }
   ],
   "source": [
    "model = train_aux_laplacian('mobilenetv2_100', train_loader, val_loader)"
   ]
  },
  {
   "cell_type": "code",
   "execution_count": 45,
   "id": "feb12684-431e-47f8-83eb-51a2a7fc76a4",
   "metadata": {},
   "outputs": [],
   "source": [
    "torch.save({'model_state_dict':model.state_dict()},'mobilenetv2_laplacian_loss.pth')"
   ]
  },
  {
   "cell_type": "code",
   "execution_count": null,
   "id": "073ccb4e-7f7e-4d8a-ad32-9a46d2794ec9",
   "metadata": {},
   "outputs": [],
   "source": []
  }
 ],
 "metadata": {
  "kernelspec": {
   "display_name": "Python 3 (ipykernel)",
   "language": "python",
   "name": "python3"
  },
  "language_info": {
   "codemirror_mode": {
    "name": "ipython",
    "version": 3
   },
   "file_extension": ".py",
   "mimetype": "text/x-python",
   "name": "python",
   "nbconvert_exporter": "python",
   "pygments_lexer": "ipython3",
   "version": "3.11.5"
  }
 },
 "nbformat": 4,
 "nbformat_minor": 5
}
