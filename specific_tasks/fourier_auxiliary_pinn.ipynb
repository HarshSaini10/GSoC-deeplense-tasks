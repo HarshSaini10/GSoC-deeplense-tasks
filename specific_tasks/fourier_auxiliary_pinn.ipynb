{
 "cells": [
  {
   "cell_type": "code",
   "execution_count": null,
   "id": "7efc0a5f-b0ba-408f-a94d-5f7b359d0728",
   "metadata": {
    "execution": {
     "iopub.execute_input": "2025-04-01T11:23:08.513261Z",
     "iopub.status.busy": "2025-04-01T11:23:08.512938Z",
     "iopub.status.idle": "2025-04-01T11:23:14.921501Z",
     "shell.execute_reply": "2025-04-01T11:23:14.920795Z",
     "shell.execute_reply.started": "2025-04-01T11:23:08.513236Z"
    },
    "trusted": true
   },
   "outputs": [
    {
     "name": "stderr",
     "output_type": "stream",
     "text": [
      "/usr/local/lib/python3.10/dist-packages/albumentations/__init__.py:24: UserWarning: A new version of Albumentations is available: 2.0.5 (you have 1.4.20). Upgrade using: pip install -U albumentations. To disable automatic update checks, set the environment variable NO_ALBUMENTATIONS_UPDATE to 1.\n",
      "  check_for_updates()\n"
     ]
    }
   ],
   "source": [
    "import h5py as h5\n",
    "import numpy as np\n",
    "import pandas as pd\n",
    "import polars as pl\n",
    "import matplotlib.pyplot as plt\n",
    "import torch\n",
    "import torch.nn as nn\n",
    "import torch.nn.functional as F\n",
    "import torch.optim as optim\n",
    "from torch.utils.data import DataLoader\n",
    "import torchvision.models as models\n",
    "import albumentations as A\n",
    "from albumentations.pytorch import ToTensorV2\n",
    "import os\n",
    "import csv\n",
    "import h5py\n",
    "from torchvision.models import resnet18\n",
    "from torch.optim.lr_scheduler import StepLR\n",
    "from tqdm import tqdm\n",
    "from sklearn.metrics import roc_auc_score\n",
    "from sklearn.model_selection import train_test_split\n",
    "from datasets import load_dataset\n",
    "from PIL import Image\n",
    "device = 'cuda' if torch.cuda.is_available() else 'cpu'\n",
    "import warnings \n",
    "warnings.filterwarnings(\"ignore\")"
   ]
  },
  {
   "cell_type": "code",
   "execution_count": 2,
   "id": "9429dff5-ca79-4222-a1aa-9757f5f4602f",
   "metadata": {
    "execution": {
     "iopub.execute_input": "2025-04-01T11:23:14.922738Z",
     "iopub.status.busy": "2025-04-01T11:23:14.922375Z",
     "iopub.status.idle": "2025-04-01T11:23:15.121154Z",
     "shell.execute_reply": "2025-04-01T11:23:15.120491Z",
     "shell.execute_reply.started": "2025-04-01T11:23:14.922718Z"
    },
    "trusted": true
   },
   "outputs": [],
   "source": [
    "train_path = \"/kaggle/input/deeplense-task1/dataset/train\"\n",
    "train_imgs = {}\n",
    "for cat in os.listdir(train_path):\n",
    "    sub_path = os.path.join(train_path,cat)\n",
    "    imgs = []\n",
    "    for img_path in os.listdir(sub_path):\n",
    "        imgs.append(os.path.join(sub_path,img_path))\n",
    "    train_imgs[cat] = imgs"
   ]
  },
  {
   "cell_type": "code",
   "execution_count": 3,
   "id": "80116091-e4f0-419c-926c-6af36515c4a8",
   "metadata": {
    "execution": {
     "iopub.execute_input": "2025-04-01T11:23:15.122660Z",
     "iopub.status.busy": "2025-04-01T11:23:15.122368Z",
     "iopub.status.idle": "2025-04-01T11:23:15.195662Z",
     "shell.execute_reply": "2025-04-01T11:23:15.195094Z",
     "shell.execute_reply.started": "2025-04-01T11:23:15.122639Z"
    },
    "trusted": true
   },
   "outputs": [],
   "source": [
    "val_path = \"/kaggle/input/deeplense-task1/dataset/val\"\n",
    "val_imgs = {}\n",
    "for cat in os.listdir(val_path):\n",
    "    sub_path = os.path.join(val_path,cat)\n",
    "    imgs = []\n",
    "    for img_path in os.listdir(sub_path):\n",
    "        imgs.append(os.path.join(sub_path,img_path))\n",
    "    val_imgs[cat] = imgs"
   ]
  },
  {
   "cell_type": "code",
   "execution_count": 4,
   "id": "a03b89e2-4d20-499f-881b-526260e76dea",
   "metadata": {
    "execution": {
     "iopub.execute_input": "2025-04-01T11:23:15.197019Z",
     "iopub.status.busy": "2025-04-01T11:23:15.196742Z",
     "iopub.status.idle": "2025-04-01T11:23:15.206984Z",
     "shell.execute_reply": "2025-04-01T11:23:15.206274Z",
     "shell.execute_reply.started": "2025-04-01T11:23:15.196989Z"
    },
    "trusted": true
   },
   "outputs": [],
   "source": [
    "train_rows = [(img_path, label) for label, img_paths in train_imgs.items() for img_path in img_paths]\n",
    "val_rows = [(img_path, label) for label, img_paths in val_imgs.items() for img_path in img_paths]"
   ]
  },
  {
   "cell_type": "code",
   "execution_count": 5,
   "id": "47c005ff-8b31-4af1-aefa-be395156f8de",
   "metadata": {
    "execution": {
     "iopub.execute_input": "2025-04-01T11:23:15.207754Z",
     "iopub.status.busy": "2025-04-01T11:23:15.207568Z",
     "iopub.status.idle": "2025-04-01T11:23:15.227747Z",
     "shell.execute_reply": "2025-04-01T11:23:15.227176Z",
     "shell.execute_reply.started": "2025-04-01T11:23:15.207738Z"
    },
    "trusted": true
   },
   "outputs": [],
   "source": [
    "df_train = pd.DataFrame(train_rows, columns = ['img_path','label'])\n",
    "df_val = pd.DataFrame(val_rows, columns = ['img_path','label'])"
   ]
  },
  {
   "cell_type": "code",
   "execution_count": 6,
   "id": "f8e0a1fd-cbc3-4d18-8088-8c572c46586b",
   "metadata": {
    "execution": {
     "iopub.execute_input": "2025-04-01T11:23:15.228640Z",
     "iopub.status.busy": "2025-04-01T11:23:15.228446Z",
     "iopub.status.idle": "2025-04-01T11:23:15.252195Z",
     "shell.execute_reply": "2025-04-01T11:23:15.251404Z",
     "shell.execute_reply.started": "2025-04-01T11:23:15.228623Z"
    },
    "trusted": true
   },
   "outputs": [],
   "source": [
    "df_train['label'] = df_train['label'].map({'no':0, 'sphere':1, 'vort':2})\n",
    "df_val['label'] = df_val['label'].map({'no':0, 'sphere':1, 'vort':2})"
   ]
  },
  {
   "cell_type": "code",
   "execution_count": 7,
   "id": "93eb5713-d672-4be9-9f68-77ca22aac1a4",
   "metadata": {
    "execution": {
     "iopub.execute_input": "2025-04-01T11:23:15.253274Z",
     "iopub.status.busy": "2025-04-01T11:23:15.253002Z",
     "iopub.status.idle": "2025-04-01T11:23:15.259066Z",
     "shell.execute_reply": "2025-04-01T11:23:15.258425Z",
     "shell.execute_reply.started": "2025-04-01T11:23:15.253244Z"
    },
    "trusted": true
   },
   "outputs": [],
   "source": [
    "class Dataset(nn.Module):\n",
    "    def __init__(self,data,transform = None, train = True):\n",
    "        self.data = data\n",
    "        self.imgs = [np.load(img_path) for img_path in self.data['img_path']]\n",
    "        self.y = torch.tensor(self.data['label'], dtype = torch.long)\n",
    "        self.transform = transform\n",
    "        self.train = train\n",
    "\n",
    "    def __len__(self):\n",
    "        return len(self.data)\n",
    "\n",
    "    def __getitem__(self, idx):\n",
    "        img = self.imgs[idx].squeeze()[:,:,np.newaxis]\n",
    "        label = self.y[idx]\n",
    "        img = np.tile(img,(1,1,3))\n",
    "        if self.transform != None:\n",
    "            img = self.transform(image = img)[\"image\"]\n",
    "\n",
    "        return img, label"
   ]
  },
  {
   "cell_type": "code",
   "execution_count": 8,
   "id": "f1a898f2-47a9-464e-865d-8109957ef338",
   "metadata": {
    "execution": {
     "iopub.execute_input": "2025-04-01T11:23:15.910199Z",
     "iopub.status.busy": "2025-04-01T11:23:15.909859Z",
     "iopub.status.idle": "2025-04-01T11:23:15.915614Z",
     "shell.execute_reply": "2025-04-01T11:23:15.914766Z",
     "shell.execute_reply.started": "2025-04-01T11:23:15.910173Z"
    },
    "trusted": true
   },
   "outputs": [],
   "source": [
    "train_transform = A.Compose([\n",
    "    # A.RandomRotate90(p=0.5),\n",
    "    # A.HorizontalFlip(p=0.5),\n",
    "    # A.VerticalFlip(p=0.5),\n",
    "    # A.ShiftScaleRotate(shift_limit=0.0625, scale_limit=0.1, rotate_limit=45, p=0.5),\n",
    "    # A.Normalize(mean=(0.485, 0.456, 0.406), \n",
    "    #             std=(0.229, 0.224, 0.225)),\n",
    "    # A.Resize(28,28),\n",
    "    ToTensorV2()\n",
    "])\n",
    "\n",
    "val_transform = A.Compose([\n",
    "    # A.Resize(28,28),\n",
    "    ToTensorV2()\n",
    "])"
   ]
  },
  {
   "cell_type": "code",
   "execution_count": 9,
   "id": "463b3777-9471-4f33-a9ba-37d5cf50771b",
   "metadata": {
    "execution": {
     "iopub.execute_input": "2025-04-01T11:23:16.180302Z",
     "iopub.status.busy": "2025-04-01T11:23:16.180025Z",
     "iopub.status.idle": "2025-04-01T11:26:49.094308Z",
     "shell.execute_reply": "2025-04-01T11:26:49.093609Z",
     "shell.execute_reply.started": "2025-04-01T11:23:16.180281Z"
    },
    "trusted": true
   },
   "outputs": [],
   "source": [
    "train_dataset = Dataset(df_train, train_transform)\n",
    "val_dataset = Dataset(df_val, val_transform)"
   ]
  },
  {
   "cell_type": "code",
   "execution_count": 10,
   "id": "07847dcd-b791-449a-b304-1be851fdd861",
   "metadata": {
    "execution": {
     "iopub.execute_input": "2025-04-01T11:26:49.095566Z",
     "iopub.status.busy": "2025-04-01T11:26:49.095284Z",
     "iopub.status.idle": "2025-04-01T11:26:49.099553Z",
     "shell.execute_reply": "2025-04-01T11:26:49.098704Z",
     "shell.execute_reply.started": "2025-04-01T11:26:49.095532Z"
    },
    "trusted": true
   },
   "outputs": [],
   "source": [
    "train_loader = DataLoader(train_dataset, batch_size = 32, shuffle = True, num_workers = 0)\n",
    "val_loader = DataLoader(val_dataset, batch_size = 32, shuffle = False, num_workers = 0)"
   ]
  },
  {
   "cell_type": "code",
   "execution_count": null,
   "id": "ae4b3cd1-e0cc-4365-bdc6-ee4b540dcf01",
   "metadata": {
    "execution": {
     "iopub.execute_input": "2025-04-01T11:26:49.100815Z",
     "iopub.status.busy": "2025-04-01T11:26:49.100535Z",
     "iopub.status.idle": "2025-04-01T11:26:51.516555Z",
     "shell.execute_reply": "2025-04-01T11:26:51.515921Z",
     "shell.execute_reply.started": "2025-04-01T11:26:49.100796Z"
    },
    "trusted": true
   },
   "outputs": [],
   "source": [
    "class FourierAuxCNN(nn.Module):\n",
    "    def __init__(self, num_classes=3):\n",
    "        super(FourierAuxCNN, self).__init__()\n",
    "        self.shared = nn.Sequential(\n",
    "            nn.Conv2d(3, 32, kernel_size=3, padding=1),\n",
    "            nn.ReLU(),\n",
    "            nn.MaxPool2d(2),\n",
    "            nn.Conv2d(32, 64, kernel_size=3, padding=1),\n",
    "            nn.ReLU(),\n",
    "            nn.MaxPool2d(2)\n",
    "        )\n",
    "        self.classifier = nn.Sequential(\n",
    "            nn.Flatten(),\n",
    "            nn.Linear(64 * 37 * 37, 256),\n",
    "            nn.ReLU(),\n",
    "            nn.Linear(256, num_classes)\n",
    "        )\n",
    "        self.fourier_head = nn.Sequential(\n",
    "            nn.Conv2d(64, 32, kernel_size=3, padding=1),\n",
    "            nn.ReLU(),\n",
    "            nn.Conv2d(32, 2, kernel_size=3, padding=1)\n",
    "        )\n",
    "    \n",
    "    def forward(self, x):\n",
    "        features = self.shared(x)\n",
    "        class_out = self.classifier(features)\n",
    "        fourier_pred = self.fourier_head(features)\n",
    "        return class_out, fourier_pred\n",
    "\n",
    "def fourier_loss(predicted, x):\n",
    "    x_gray = x.mean(dim=1, keepdim=True)\n",
    "    x_fft = fft.fft2(x_gray) \n",
    "    pred_complex = torch.complex(predicted[:,0:1], predicted[:,1:2])\n",
    "    loss = F.mse_loss(torch.abs(pred_complex), torch.abs(x_fft))\n",
    "    return loss\n",
    "\n",
    "def get_pretrained_model(model_name, num_classes=3, pretrained=True):\n",
    "    if model_name.lower() == 'fourierauxcnn':\n",
    "        model = FourierAuxCNN(num_classes=num_classes)\n",
    "        return model\n",
    "    else:\n",
    "        try:\n",
    "            model = timm.create_model(model_name, pretrained=pretrained, num_classes=num_classes)\n",
    "            return model\n",
    "        except Exception as e:\n",
    "            raise ValueError(f\"Error creating model '{model_name}' with timm: {e}\")\n",
    "\n",
    "def train_fourier_aux(model_name, train_dataloader, val_dataloader, num_epochs=10, device='cuda', lambda_fourier=0.1):\n",
    "    model = get_pretrained_model(model_name, num_classes=3, pretrained=True)\n",
    "    device = torch.device(device if torch.cuda.is_available() else 'cpu')\n",
    "    model = model.to(device)\n",
    "    optimizer = optim.Adam(model.parameters(), lr=1e-3)\n",
    "    criterion = nn.CrossEntropyLoss()\n",
    "\n",
    "    is_aux_model = hasattr(model, 'fourier_head')\n",
    "    \n",
    "    for epoch in range(num_epochs):\n",
    "        model.train()\n",
    "        total_loss = 0.0\n",
    "        correct = 0\n",
    "        total = 0\n",
    "        \n",
    "        epoch_true = []\n",
    "        epoch_preds = []\n",
    "        \n",
    "        for images, labels in tqdm(train_dataloader, desc=f\"Epoch {epoch+1}/{num_epochs} [Train]\"):\n",
    "            images = images.float().to(device)\n",
    "            labels = labels.to(device)\n",
    "            optimizer.zero_grad()\n",
    "            \n",
    "            if is_aux_model:\n",
    "                outputs, fourier_pred = model(images)\n",
    "                cls_loss = criterion(outputs, labels)\n",
    "                aux_loss = fourier_loss(fourier_pred, images)\n",
    "                loss = cls_loss + lambda_fourier * aux_loss\n",
    "                preds = F.softmax(outputs, dim=1)\n",
    "            else:\n",
    "                outputs = model(images)\n",
    "                loss = criterion(outputs, labels)\n",
    "                preds = F.softmax(outputs, dim=1)\n",
    "            \n",
    "            loss.backward()\n",
    "            optimizer.step()\n",
    "            \n",
    "            total_loss += loss.item() * images.size(0)\n",
    "            total += labels.size(0)\n",
    "            _, predicted = (outputs.max(1) if is_aux_model else torch.max(outputs, 1))\n",
    "            correct += predicted.eq(labels).sum().item()\n",
    "            \n",
    "            epoch_true.extend(labels.cpu().numpy())\n",
    "            epoch_preds.extend(preds.cpu().detach().numpy())\n",
    "\n",
    "            del images, labels, outputs, preds\n",
    "            if is_aux_model:\n",
    "                del fourier_pred, cls_loss, aux_loss\n",
    "        \n",
    "        try:\n",
    "            auc = roc_auc_score(epoch_true, epoch_preds, multi_class='ovr')\n",
    "        except Exception as e:\n",
    "            auc = float('nan')\n",
    "            print(\"AUC calculation error:\", e)\n",
    "        \n",
    "        print(f\"Epoch {epoch+1}: Train Loss {total_loss/total:.4f}, Train Acc {correct/total:.4f}, Train AUC {auc:.4f}\")\n",
    "        \n",
    "        model.eval()\n",
    "        val_loss = 0.0\n",
    "        val_correct = 0\n",
    "        total_val = 0\n",
    "        val_true = []\n",
    "        val_preds = []\n",
    "        with torch.no_grad():\n",
    "            for images, labels in tqdm(val_dataloader, desc=f\"Epoch {epoch+1}/{num_epochs} [Val]\"):\n",
    "                images = images.float().to(device)\n",
    "                labels = labels.to(device)\n",
    "                if is_aux_model:\n",
    "                    outputs, fourier_pred = model(images)\n",
    "                    cls_loss = criterion(outputs, labels)\n",
    "                    aux_loss = fourier_loss(fourier_pred, images)\n",
    "                    loss = cls_loss + lambda_fourier * aux_loss\n",
    "                    preds = F.softmax(outputs, dim=1)\n",
    "                else:\n",
    "                    outputs = model(images)\n",
    "                    loss = criterion(outputs, labels)\n",
    "                    preds = F.softmax(outputs, dim=1)\n",
    "                val_loss += loss.item() * images.size(0)\n",
    "                total_val += labels.size(0)\n",
    "                _, predicted = (outputs.max(1) if is_aux_model else torch.max(outputs, 1))\n",
    "                val_correct += predicted.eq(labels).sum().item()\n",
    "                \n",
    "                val_true.extend(labels.cpu().numpy())\n",
    "                val_preds.extend(preds.cpu().detach().numpy())\n",
    "                \n",
    "                del images, labels, outputs, preds\n",
    "                if is_aux_model:\n",
    "                    del fourier_pred, cls_loss, aux_loss\n",
    "                \n",
    "        try:\n",
    "            val_auc = roc_auc_score(val_true, val_preds, multi_class='ovr')\n",
    "        except Exception as e:\n",
    "            val_auc = float('nan')\n",
    "            print(\"Validation AUC calculation error:\", e)\n",
    "        \n",
    "        print(f\"Epoch {epoch+1}: Val Loss {val_loss/total_val:.4f}, Val Acc {val_correct/total_val:.4f}, Val AUC {val_auc:.4f}\")\n",
    "    return model"
   ]
  },
  {
   "cell_type": "code",
   "execution_count": 12,
   "id": "1a464258-3c91-44f8-9caa-4a2736957e46",
   "metadata": {
    "execution": {
     "iopub.execute_input": "2025-04-01T08:48:41.446644Z",
     "iopub.status.busy": "2025-04-01T08:48:41.446353Z",
     "iopub.status.idle": "2025-04-01T09:01:28.119165Z",
     "shell.execute_reply": "2025-04-01T09:01:28.118380Z",
     "shell.execute_reply.started": "2025-04-01T08:48:41.446621Z"
    },
    "trusted": true
   },
   "outputs": [
    {
     "data": {
      "application/vnd.jupyter.widget-view+json": {
       "model_id": "e44aa2a30aef464fb5ef3ea7151c3441",
       "version_major": 2,
       "version_minor": 0
      },
      "text/plain": [
       "model.safetensors:   0%|          | 0.00/21.4M [00:00<?, ?B/s]"
      ]
     },
     "metadata": {},
     "output_type": "display_data"
    },
    {
     "name": "stderr",
     "output_type": "stream",
     "text": [
      "Epoch 1/10 [Train]: 100%|██████████| 938/938 [01:12<00:00, 12.99it/s]\n"
     ]
    },
    {
     "name": "stdout",
     "output_type": "stream",
     "text": [
      "Epoch 1: Train Loss 1.1433, Train Acc 0.4664, Train AUC 0.6554\n"
     ]
    },
    {
     "name": "stderr",
     "output_type": "stream",
     "text": [
      "Epoch 1/10 [Val]: 100%|██████████| 235/235 [00:06<00:00, 38.91it/s]\n"
     ]
    },
    {
     "name": "stdout",
     "output_type": "stream",
     "text": [
      "Epoch 1: Val Loss 0.9016, Val Acc 0.5647, Val AUC 0.8095\n"
     ]
    },
    {
     "name": "stderr",
     "output_type": "stream",
     "text": [
      "Epoch 2/10 [Train]: 100%|██████████| 938/938 [01:10<00:00, 13.30it/s]\n"
     ]
    },
    {
     "name": "stdout",
     "output_type": "stream",
     "text": [
      "Epoch 2: Train Loss 0.6315, Train Acc 0.7293, Train AUC 0.8839\n"
     ]
    },
    {
     "name": "stderr",
     "output_type": "stream",
     "text": [
      "Epoch 2/10 [Val]: 100%|██████████| 235/235 [00:05<00:00, 43.29it/s]\n"
     ]
    },
    {
     "name": "stdout",
     "output_type": "stream",
     "text": [
      "Epoch 2: Val Loss 0.4881, Val Acc 0.7951, Val AUC 0.9347\n"
     ]
    },
    {
     "name": "stderr",
     "output_type": "stream",
     "text": [
      "Epoch 3/10 [Train]: 100%|██████████| 938/938 [01:10<00:00, 13.29it/s]\n"
     ]
    },
    {
     "name": "stdout",
     "output_type": "stream",
     "text": [
      "Epoch 3: Train Loss 0.4249, Train Acc 0.8325, Train AUC 0.9473\n"
     ]
    },
    {
     "name": "stderr",
     "output_type": "stream",
     "text": [
      "Epoch 3/10 [Val]: 100%|██████████| 235/235 [00:05<00:00, 39.85it/s]\n"
     ]
    },
    {
     "name": "stdout",
     "output_type": "stream",
     "text": [
      "Epoch 3: Val Loss 0.4191, Val Acc 0.8408, Val AUC 0.9564\n"
     ]
    },
    {
     "name": "stderr",
     "output_type": "stream",
     "text": [
      "Epoch 4/10 [Train]: 100%|██████████| 938/938 [01:10<00:00, 13.26it/s]\n"
     ]
    },
    {
     "name": "stdout",
     "output_type": "stream",
     "text": [
      "Epoch 4: Train Loss 0.3327, Train Acc 0.8746, Train AUC 0.9672\n"
     ]
    },
    {
     "name": "stderr",
     "output_type": "stream",
     "text": [
      "Epoch 4/10 [Val]: 100%|██████████| 235/235 [00:05<00:00, 42.59it/s]\n"
     ]
    },
    {
     "name": "stdout",
     "output_type": "stream",
     "text": [
      "Epoch 4: Val Loss 0.3615, Val Acc 0.8565, Val AUC 0.9668\n"
     ]
    },
    {
     "name": "stderr",
     "output_type": "stream",
     "text": [
      "Epoch 5/10 [Train]: 100%|██████████| 938/938 [01:10<00:00, 13.29it/s]\n"
     ]
    },
    {
     "name": "stdout",
     "output_type": "stream",
     "text": [
      "Epoch 5: Train Loss 0.2773, Train Acc 0.8971, Train AUC 0.9764\n"
     ]
    },
    {
     "name": "stderr",
     "output_type": "stream",
     "text": [
      "Epoch 5/10 [Val]: 100%|██████████| 235/235 [00:05<00:00, 39.75it/s]\n"
     ]
    },
    {
     "name": "stdout",
     "output_type": "stream",
     "text": [
      "Epoch 5: Val Loss 0.4672, Val Acc 0.8541, Val AUC 0.9693\n"
     ]
    },
    {
     "name": "stderr",
     "output_type": "stream",
     "text": [
      "Epoch 6/10 [Train]: 100%|██████████| 938/938 [01:10<00:00, 13.24it/s]\n"
     ]
    },
    {
     "name": "stdout",
     "output_type": "stream",
     "text": [
      "Epoch 6: Train Loss 0.2404, Train Acc 0.9124, Train AUC 0.9819\n"
     ]
    },
    {
     "name": "stderr",
     "output_type": "stream",
     "text": [
      "Epoch 6/10 [Val]: 100%|██████████| 235/235 [00:05<00:00, 41.32it/s]\n"
     ]
    },
    {
     "name": "stdout",
     "output_type": "stream",
     "text": [
      "Epoch 6: Val Loss 0.4085, Val Acc 0.8784, Val AUC 0.9763\n"
     ]
    },
    {
     "name": "stderr",
     "output_type": "stream",
     "text": [
      "Epoch 7/10 [Train]: 100%|██████████| 938/938 [01:10<00:00, 13.29it/s]\n"
     ]
    },
    {
     "name": "stdout",
     "output_type": "stream",
     "text": [
      "Epoch 7: Train Loss 0.2155, Train Acc 0.9220, Train AUC 0.9855\n"
     ]
    },
    {
     "name": "stderr",
     "output_type": "stream",
     "text": [
      "Epoch 7/10 [Val]: 100%|██████████| 235/235 [00:05<00:00, 39.85it/s]\n"
     ]
    },
    {
     "name": "stdout",
     "output_type": "stream",
     "text": [
      "Epoch 7: Val Loss 0.2579, Val Acc 0.9084, Val AUC 0.9806\n"
     ]
    },
    {
     "name": "stderr",
     "output_type": "stream",
     "text": [
      "Epoch 8/10 [Train]: 100%|██████████| 938/938 [01:10<00:00, 13.28it/s]\n"
     ]
    },
    {
     "name": "stdout",
     "output_type": "stream",
     "text": [
      "Epoch 8: Train Loss 0.1879, Train Acc 0.9315, Train AUC 0.9889\n"
     ]
    },
    {
     "name": "stderr",
     "output_type": "stream",
     "text": [
      "Epoch 8/10 [Val]: 100%|██████████| 235/235 [00:05<00:00, 42.78it/s]\n"
     ]
    },
    {
     "name": "stdout",
     "output_type": "stream",
     "text": [
      "Epoch 8: Val Loss 0.3400, Val Acc 0.8877, Val AUC 0.9743\n"
     ]
    },
    {
     "name": "stderr",
     "output_type": "stream",
     "text": [
      "Epoch 9/10 [Train]: 100%|██████████| 938/938 [01:10<00:00, 13.29it/s]\n"
     ]
    },
    {
     "name": "stdout",
     "output_type": "stream",
     "text": [
      "Epoch 9: Train Loss 0.1685, Train Acc 0.9392, Train AUC 0.9908\n"
     ]
    },
    {
     "name": "stderr",
     "output_type": "stream",
     "text": [
      "Epoch 9/10 [Val]: 100%|██████████| 235/235 [00:06<00:00, 38.89it/s]\n"
     ]
    },
    {
     "name": "stdout",
     "output_type": "stream",
     "text": [
      "Epoch 9: Val Loss 0.2931, Val Acc 0.8920, Val AUC 0.9806\n"
     ]
    },
    {
     "name": "stderr",
     "output_type": "stream",
     "text": [
      "Epoch 10/10 [Train]: 100%|██████████| 938/938 [01:10<00:00, 13.28it/s]\n"
     ]
    },
    {
     "name": "stdout",
     "output_type": "stream",
     "text": [
      "Epoch 10: Train Loss 0.1540, Train Acc 0.9446, Train AUC 0.9922\n"
     ]
    },
    {
     "name": "stderr",
     "output_type": "stream",
     "text": [
      "Epoch 10/10 [Val]: 100%|██████████| 235/235 [00:05<00:00, 42.80it/s]"
     ]
    },
    {
     "name": "stdout",
     "output_type": "stream",
     "text": [
      "Epoch 10: Val Loss 0.2190, Val Acc 0.9216, Val AUC 0.9844\n"
     ]
    },
    {
     "name": "stderr",
     "output_type": "stream",
     "text": [
      "\n"
     ]
    }
   ],
   "source": [
    "train_fourier_aux('efficientnet_b0', train_loader, val_loader)"
   ]
  },
  {
   "cell_type": "code",
   "execution_count": 16,
   "id": "f7f69f27-7dce-4cb0-8f59-709c24bc1340",
   "metadata": {
    "execution": {
     "iopub.execute_input": "2025-04-01T09:04:51.637904Z",
     "iopub.status.busy": "2025-04-01T09:04:51.637508Z",
     "iopub.status.idle": "2025-04-01T09:22:20.015228Z",
     "shell.execute_reply": "2025-04-01T09:22:20.014386Z",
     "shell.execute_reply.started": "2025-04-01T09:04:51.637784Z"
    },
    "trusted": true
   },
   "outputs": [
    {
     "name": "stderr",
     "output_type": "stream",
     "text": [
      "Epoch 1/10 [Train]: 100%|██████████| 938/938 [01:37<00:00,  9.62it/s]\n"
     ]
    },
    {
     "name": "stdout",
     "output_type": "stream",
     "text": [
      "Epoch 1: Train Loss 1.1820, Train Acc 0.3528, Train AUC 0.5231\n"
     ]
    },
    {
     "name": "stderr",
     "output_type": "stream",
     "text": [
      "Epoch 1/10 [Val]: 100%|██████████| 235/235 [00:07<00:00, 32.65it/s]\n"
     ]
    },
    {
     "name": "stdout",
     "output_type": "stream",
     "text": [
      "Epoch 1: Val Loss 1.0684, Val Acc 0.3767, Val AUC 0.5901\n"
     ]
    },
    {
     "name": "stderr",
     "output_type": "stream",
     "text": [
      "Epoch 2/10 [Train]: 100%|██████████| 938/938 [01:37<00:00,  9.59it/s]\n"
     ]
    },
    {
     "name": "stdout",
     "output_type": "stream",
     "text": [
      "Epoch 2: Train Loss 0.8041, Train Acc 0.6165, Train AUC 0.8071\n"
     ]
    },
    {
     "name": "stderr",
     "output_type": "stream",
     "text": [
      "Epoch 2/10 [Val]: 100%|██████████| 235/235 [00:07<00:00, 33.47it/s]\n"
     ]
    },
    {
     "name": "stdout",
     "output_type": "stream",
     "text": [
      "Epoch 2: Val Loss 0.5942, Val Acc 0.7584, Val AUC 0.9114\n"
     ]
    },
    {
     "name": "stderr",
     "output_type": "stream",
     "text": [
      "Epoch 3/10 [Train]: 100%|██████████| 938/938 [01:37<00:00,  9.58it/s]\n"
     ]
    },
    {
     "name": "stdout",
     "output_type": "stream",
     "text": [
      "Epoch 3: Train Loss 0.4230, Train Acc 0.8391, Train AUC 0.9483\n"
     ]
    },
    {
     "name": "stderr",
     "output_type": "stream",
     "text": [
      "Epoch 3/10 [Val]: 100%|██████████| 235/235 [00:07<00:00, 32.56it/s]\n"
     ]
    },
    {
     "name": "stdout",
     "output_type": "stream",
     "text": [
      "Epoch 3: Val Loss 0.3586, Val Acc 0.8695, Val AUC 0.9658\n"
     ]
    },
    {
     "name": "stderr",
     "output_type": "stream",
     "text": [
      "Epoch 4/10 [Train]: 100%|██████████| 938/938 [01:37<00:00,  9.59it/s]\n"
     ]
    },
    {
     "name": "stdout",
     "output_type": "stream",
     "text": [
      "Epoch 4: Train Loss 0.3236, Train Acc 0.8803, Train AUC 0.9689\n"
     ]
    },
    {
     "name": "stderr",
     "output_type": "stream",
     "text": [
      "Epoch 4/10 [Val]: 100%|██████████| 235/235 [00:07<00:00, 32.94it/s]\n"
     ]
    },
    {
     "name": "stdout",
     "output_type": "stream",
     "text": [
      "Epoch 4: Val Loss 0.5386, Val Acc 0.7693, Val AUC 0.9721\n"
     ]
    },
    {
     "name": "stderr",
     "output_type": "stream",
     "text": [
      "Epoch 5/10 [Train]: 100%|██████████| 938/938 [01:37<00:00,  9.61it/s]\n"
     ]
    },
    {
     "name": "stdout",
     "output_type": "stream",
     "text": [
      "Epoch 5: Train Loss 0.2927, Train Acc 0.8933, Train AUC 0.9740\n"
     ]
    },
    {
     "name": "stderr",
     "output_type": "stream",
     "text": [
      "Epoch 5/10 [Val]: 100%|██████████| 235/235 [00:07<00:00, 33.01it/s]\n"
     ]
    },
    {
     "name": "stdout",
     "output_type": "stream",
     "text": [
      "Epoch 5: Val Loss 0.5110, Val Acc 0.7996, Val AUC 0.9422\n"
     ]
    },
    {
     "name": "stderr",
     "output_type": "stream",
     "text": [
      "Epoch 6/10 [Train]: 100%|██████████| 938/938 [01:37<00:00,  9.62it/s]\n"
     ]
    },
    {
     "name": "stdout",
     "output_type": "stream",
     "text": [
      "Epoch 6: Train Loss 0.2662, Train Acc 0.9035, Train AUC 0.9781\n"
     ]
    },
    {
     "name": "stderr",
     "output_type": "stream",
     "text": [
      "Epoch 6/10 [Val]: 100%|██████████| 235/235 [00:07<00:00, 32.97it/s]\n"
     ]
    },
    {
     "name": "stdout",
     "output_type": "stream",
     "text": [
      "Epoch 6: Val Loss 0.4105, Val Acc 0.8393, Val AUC 0.9649\n"
     ]
    },
    {
     "name": "stderr",
     "output_type": "stream",
     "text": [
      "Epoch 7/10 [Train]: 100%|██████████| 938/938 [01:37<00:00,  9.58it/s]\n"
     ]
    },
    {
     "name": "stdout",
     "output_type": "stream",
     "text": [
      "Epoch 7: Train Loss 0.2481, Train Acc 0.9115, Train AUC 0.9809\n"
     ]
    },
    {
     "name": "stderr",
     "output_type": "stream",
     "text": [
      "Epoch 7/10 [Val]: 100%|██████████| 235/235 [00:07<00:00, 32.86it/s]\n"
     ]
    },
    {
     "name": "stdout",
     "output_type": "stream",
     "text": [
      "Epoch 7: Val Loss 0.3407, Val Acc 0.8719, Val AUC 0.9797\n"
     ]
    },
    {
     "name": "stderr",
     "output_type": "stream",
     "text": [
      "Epoch 8/10 [Train]: 100%|██████████| 938/938 [01:36<00:00,  9.67it/s]\n"
     ]
    },
    {
     "name": "stdout",
     "output_type": "stream",
     "text": [
      "Epoch 8: Train Loss 0.2241, Train Acc 0.9219, Train AUC 0.9839\n"
     ]
    },
    {
     "name": "stderr",
     "output_type": "stream",
     "text": [
      "Epoch 8/10 [Val]: 100%|██████████| 235/235 [00:07<00:00, 33.22it/s]\n"
     ]
    },
    {
     "name": "stdout",
     "output_type": "stream",
     "text": [
      "Epoch 8: Val Loss 0.6999, Val Acc 0.7713, Val AUC 0.9344\n"
     ]
    },
    {
     "name": "stderr",
     "output_type": "stream",
     "text": [
      "Epoch 9/10 [Train]: 100%|██████████| 938/938 [01:37<00:00,  9.65it/s]\n"
     ]
    },
    {
     "name": "stdout",
     "output_type": "stream",
     "text": [
      "Epoch 9: Train Loss 0.2221, Train Acc 0.9214, Train AUC 0.9842\n"
     ]
    },
    {
     "name": "stderr",
     "output_type": "stream",
     "text": [
      "Epoch 9/10 [Val]: 100%|██████████| 235/235 [00:07<00:00, 32.91it/s]\n"
     ]
    },
    {
     "name": "stdout",
     "output_type": "stream",
     "text": [
      "Epoch 9: Val Loss 0.2291, Val Acc 0.9223, Val AUC 0.9835\n"
     ]
    },
    {
     "name": "stderr",
     "output_type": "stream",
     "text": [
      "Epoch 10/10 [Train]: 100%|██████████| 938/938 [01:37<00:00,  9.60it/s]\n"
     ]
    },
    {
     "name": "stdout",
     "output_type": "stream",
     "text": [
      "Epoch 10: Train Loss 0.1909, Train Acc 0.9331, Train AUC 0.9881\n"
     ]
    },
    {
     "name": "stderr",
     "output_type": "stream",
     "text": [
      "Epoch 10/10 [Val]: 100%|██████████| 235/235 [00:07<00:00, 32.80it/s]"
     ]
    },
    {
     "name": "stdout",
     "output_type": "stream",
     "text": [
      "Epoch 10: Val Loss 0.2690, Val Acc 0.9037, Val AUC 0.9807\n"
     ]
    },
    {
     "name": "stderr",
     "output_type": "stream",
     "text": [
      "\n"
     ]
    }
   ],
   "source": [
    "model = train_fourier_aux('efficientnet_b1', train_loader, val_loader)"
   ]
  },
  {
   "cell_type": "code",
   "execution_count": 17,
   "id": "d8184958-e176-4479-8ef7-e4330dcb2287",
   "metadata": {
    "execution": {
     "iopub.execute_input": "2025-04-01T09:22:53.324434Z",
     "iopub.status.busy": "2025-04-01T09:22:53.324134Z",
     "iopub.status.idle": "2025-04-01T09:22:53.407040Z",
     "shell.execute_reply": "2025-04-01T09:22:53.406363Z",
     "shell.execute_reply.started": "2025-04-01T09:22:53.324411Z"
    },
    "trusted": true
   },
   "outputs": [],
   "source": [
    "torch.save({'model_state_dict':model.state_dict()},'effnet_b1_fourier_loss.pth')"
   ]
  },
  {
   "cell_type": "code",
   "execution_count": 13,
   "id": "0ba5c92a-14d7-494d-876f-4245f9b80cc4",
   "metadata": {
    "execution": {
     "iopub.execute_input": "2025-04-01T11:34:47.000817Z",
     "iopub.status.busy": "2025-04-01T11:34:47.000509Z",
     "iopub.status.idle": "2025-04-01T11:42:09.506746Z",
     "shell.execute_reply": "2025-04-01T11:42:09.505855Z",
     "shell.execute_reply.started": "2025-04-01T11:34:47.000795Z"
    },
    "trusted": true
   },
   "outputs": [
    {
     "name": "stderr",
     "output_type": "stream",
     "text": [
      "Epoch 1/10 [Train]: 100%|██████████| 938/938 [00:39<00:00, 23.55it/s]\n"
     ]
    },
    {
     "name": "stdout",
     "output_type": "stream",
     "text": [
      "Epoch 1: Train Loss 0.9759, Train Acc 0.4717, Train AUC 0.6783\n"
     ]
    },
    {
     "name": "stderr",
     "output_type": "stream",
     "text": [
      "Epoch 1/10 [Val]: 100%|██████████| 235/235 [00:04<00:00, 53.73it/s]\n"
     ]
    },
    {
     "name": "stdout",
     "output_type": "stream",
     "text": [
      "Epoch 1: Val Loss 1.2352, Val Acc 0.4991, Val AUC 0.7834\n"
     ]
    },
    {
     "name": "stderr",
     "output_type": "stream",
     "text": [
      "Epoch 2/10 [Train]: 100%|██████████| 938/938 [00:39<00:00, 23.62it/s]\n"
     ]
    },
    {
     "name": "stdout",
     "output_type": "stream",
     "text": [
      "Epoch 2: Train Loss 0.5570, Train Acc 0.7646, Train AUC 0.9083\n"
     ]
    },
    {
     "name": "stderr",
     "output_type": "stream",
     "text": [
      "Epoch 2/10 [Val]: 100%|██████████| 235/235 [00:04<00:00, 55.00it/s]\n"
     ]
    },
    {
     "name": "stdout",
     "output_type": "stream",
     "text": [
      "Epoch 2: Val Loss 0.4976, Val Acc 0.7904, Val AUC 0.9351\n"
     ]
    },
    {
     "name": "stderr",
     "output_type": "stream",
     "text": [
      "Epoch 3/10 [Train]: 100%|██████████| 938/938 [00:39<00:00, 23.74it/s]\n"
     ]
    },
    {
     "name": "stdout",
     "output_type": "stream",
     "text": [
      "Epoch 3: Train Loss 0.3879, Train Acc 0.8492, Train AUC 0.9552\n"
     ]
    },
    {
     "name": "stderr",
     "output_type": "stream",
     "text": [
      "Epoch 3/10 [Val]: 100%|██████████| 235/235 [00:04<00:00, 53.85it/s]\n"
     ]
    },
    {
     "name": "stdout",
     "output_type": "stream",
     "text": [
      "Epoch 3: Val Loss 0.3398, Val Acc 0.8697, Val AUC 0.9653\n"
     ]
    },
    {
     "name": "stderr",
     "output_type": "stream",
     "text": [
      "Epoch 4/10 [Train]: 100%|██████████| 938/938 [00:39<00:00, 23.50it/s]\n"
     ]
    },
    {
     "name": "stdout",
     "output_type": "stream",
     "text": [
      "Epoch 4: Train Loss 0.3129, Train Acc 0.8794, Train AUC 0.9705\n"
     ]
    },
    {
     "name": "stderr",
     "output_type": "stream",
     "text": [
      "Epoch 4/10 [Val]: 100%|██████████| 235/235 [00:04<00:00, 54.45it/s]\n"
     ]
    },
    {
     "name": "stdout",
     "output_type": "stream",
     "text": [
      "Epoch 4: Val Loss 0.3634, Val Acc 0.8689, Val AUC 0.9683\n"
     ]
    },
    {
     "name": "stderr",
     "output_type": "stream",
     "text": [
      "Epoch 5/10 [Train]: 100%|██████████| 938/938 [00:39<00:00, 23.67it/s]\n"
     ]
    },
    {
     "name": "stdout",
     "output_type": "stream",
     "text": [
      "Epoch 5: Train Loss 0.2670, Train Acc 0.8989, Train AUC 0.9779\n"
     ]
    },
    {
     "name": "stderr",
     "output_type": "stream",
     "text": [
      "Epoch 5/10 [Val]: 100%|██████████| 235/235 [00:04<00:00, 53.13it/s]\n"
     ]
    },
    {
     "name": "stdout",
     "output_type": "stream",
     "text": [
      "Epoch 5: Val Loss 0.2988, Val Acc 0.8889, Val AUC 0.9755\n"
     ]
    },
    {
     "name": "stderr",
     "output_type": "stream",
     "text": [
      "Epoch 6/10 [Train]: 100%|██████████| 938/938 [00:39<00:00, 23.49it/s]\n"
     ]
    },
    {
     "name": "stdout",
     "output_type": "stream",
     "text": [
      "Epoch 6: Train Loss 0.2358, Train Acc 0.9121, Train AUC 0.9825\n"
     ]
    },
    {
     "name": "stderr",
     "output_type": "stream",
     "text": [
      "Epoch 6/10 [Val]: 100%|██████████| 235/235 [00:04<00:00, 52.91it/s]\n"
     ]
    },
    {
     "name": "stdout",
     "output_type": "stream",
     "text": [
      "Epoch 6: Val Loss 0.2537, Val Acc 0.9035, Val AUC 0.9800\n"
     ]
    },
    {
     "name": "stderr",
     "output_type": "stream",
     "text": [
      "Epoch 7/10 [Train]: 100%|██████████| 938/938 [00:39<00:00, 23.50it/s]\n"
     ]
    },
    {
     "name": "stdout",
     "output_type": "stream",
     "text": [
      "Epoch 7: Train Loss 0.2024, Train Acc 0.9248, Train AUC 0.9868\n"
     ]
    },
    {
     "name": "stderr",
     "output_type": "stream",
     "text": [
      "Epoch 7/10 [Val]: 100%|██████████| 235/235 [00:04<00:00, 52.03it/s]\n"
     ]
    },
    {
     "name": "stdout",
     "output_type": "stream",
     "text": [
      "Epoch 7: Val Loss 0.3710, Val Acc 0.8508, Val AUC 0.9738\n"
     ]
    },
    {
     "name": "stderr",
     "output_type": "stream",
     "text": [
      "Epoch 8/10 [Train]: 100%|██████████| 938/938 [00:39<00:00, 23.52it/s]\n"
     ]
    },
    {
     "name": "stdout",
     "output_type": "stream",
     "text": [
      "Epoch 8: Train Loss 0.1794, Train Acc 0.9331, Train AUC 0.9896\n"
     ]
    },
    {
     "name": "stderr",
     "output_type": "stream",
     "text": [
      "Epoch 8/10 [Val]: 100%|██████████| 235/235 [00:04<00:00, 53.93it/s]\n"
     ]
    },
    {
     "name": "stdout",
     "output_type": "stream",
     "text": [
      "Epoch 8: Val Loss 0.3037, Val Acc 0.9029, Val AUC 0.9811\n"
     ]
    },
    {
     "name": "stderr",
     "output_type": "stream",
     "text": [
      "Epoch 9/10 [Train]: 100%|██████████| 938/938 [00:39<00:00, 23.56it/s]\n"
     ]
    },
    {
     "name": "stdout",
     "output_type": "stream",
     "text": [
      "Epoch 9: Train Loss 0.1645, Train Acc 0.9398, Train AUC 0.9910\n"
     ]
    },
    {
     "name": "stderr",
     "output_type": "stream",
     "text": [
      "Epoch 9/10 [Val]: 100%|██████████| 235/235 [00:04<00:00, 54.06it/s]\n"
     ]
    },
    {
     "name": "stdout",
     "output_type": "stream",
     "text": [
      "Epoch 9: Val Loss 0.3315, Val Acc 0.8896, Val AUC 0.9806\n"
     ]
    },
    {
     "name": "stderr",
     "output_type": "stream",
     "text": [
      "Epoch 10/10 [Train]: 100%|██████████| 938/938 [00:39<00:00, 23.76it/s]\n"
     ]
    },
    {
     "name": "stdout",
     "output_type": "stream",
     "text": [
      "Epoch 10: Train Loss 0.1483, Train Acc 0.9475, Train AUC 0.9926\n"
     ]
    },
    {
     "name": "stderr",
     "output_type": "stream",
     "text": [
      "Epoch 10/10 [Val]: 100%|██████████| 235/235 [00:04<00:00, 52.59it/s]"
     ]
    },
    {
     "name": "stdout",
     "output_type": "stream",
     "text": [
      "Epoch 10: Val Loss 0.3296, Val Acc 0.9001, Val AUC 0.9815\n"
     ]
    },
    {
     "name": "stderr",
     "output_type": "stream",
     "text": [
      "\n"
     ]
    }
   ],
   "source": [
    "model = train_fourier_aux('resnet18', train_loader, val_loader)"
   ]
  },
  {
   "cell_type": "code",
   "execution_count": 14,
   "id": "f453765e-4bda-40ec-adc3-650c288cb7ae",
   "metadata": {
    "execution": {
     "iopub.execute_input": "2025-04-01T11:42:36.063633Z",
     "iopub.status.busy": "2025-04-01T11:42:36.063320Z",
     "iopub.status.idle": "2025-04-01T11:42:36.144226Z",
     "shell.execute_reply": "2025-04-01T11:42:36.143310Z",
     "shell.execute_reply.started": "2025-04-01T11:42:36.063611Z"
    },
    "trusted": true
   },
   "outputs": [],
   "source": [
    "torch.save({'model_state_dict':model.state_dict()},'resnet18_fourier_loss.pth')"
   ]
  },
  {
   "cell_type": "code",
   "execution_count": 15,
   "id": "cc9473d3-4a4c-4cb8-9780-603fa21b1013",
   "metadata": {
    "execution": {
     "iopub.execute_input": "2025-04-01T11:43:03.112612Z",
     "iopub.status.busy": "2025-04-01T11:43:03.112294Z",
     "iopub.status.idle": "2025-04-01T12:01:45.248518Z",
     "shell.execute_reply": "2025-04-01T12:01:45.247588Z",
     "shell.execute_reply.started": "2025-04-01T11:43:03.112584Z"
    },
    "trusted": true
   },
   "outputs": [
    {
     "data": {
      "application/vnd.jupyter.widget-view+json": {
       "model_id": "eb98ef2c9866447c84bd559e6ee38b35",
       "version_major": 2,
       "version_minor": 0
      },
      "text/plain": [
       "model.safetensors:   0%|          | 0.00/32.3M [00:00<?, ?B/s]"
      ]
     },
     "metadata": {},
     "output_type": "display_data"
    },
    {
     "name": "stderr",
     "output_type": "stream",
     "text": [
      "Epoch 1/10 [Train]: 100%|██████████| 938/938 [01:42<00:00,  9.15it/s]\n"
     ]
    },
    {
     "name": "stdout",
     "output_type": "stream",
     "text": [
      "Epoch 1: Train Loss 1.1055, Train Acc 0.3553, Train AUC 0.5301\n"
     ]
    },
    {
     "name": "stderr",
     "output_type": "stream",
     "text": [
      "Epoch 1/10 [Val]: 100%|██████████| 235/235 [00:09<00:00, 24.47it/s]\n"
     ]
    },
    {
     "name": "stdout",
     "output_type": "stream",
     "text": [
      "Epoch 1: Val Loss 1.0395, Val Acc 0.4352, Val AUC 0.6331\n"
     ]
    },
    {
     "name": "stderr",
     "output_type": "stream",
     "text": [
      "Epoch 2/10 [Train]: 100%|██████████| 938/938 [01:42<00:00,  9.16it/s]\n"
     ]
    },
    {
     "name": "stdout",
     "output_type": "stream",
     "text": [
      "Epoch 2: Train Loss 0.7840, Train Acc 0.6306, Train AUC 0.8151\n"
     ]
    },
    {
     "name": "stderr",
     "output_type": "stream",
     "text": [
      "Epoch 2/10 [Val]: 100%|██████████| 235/235 [00:09<00:00, 24.57it/s]\n"
     ]
    },
    {
     "name": "stdout",
     "output_type": "stream",
     "text": [
      "Epoch 2: Val Loss 0.5221, Val Acc 0.7872, Val AUC 0.9262\n"
     ]
    },
    {
     "name": "stderr",
     "output_type": "stream",
     "text": [
      "Epoch 3/10 [Train]: 100%|██████████| 938/938 [01:42<00:00,  9.15it/s]\n"
     ]
    },
    {
     "name": "stdout",
     "output_type": "stream",
     "text": [
      "Epoch 3: Train Loss 0.4417, Train Acc 0.8247, Train AUC 0.9425\n"
     ]
    },
    {
     "name": "stderr",
     "output_type": "stream",
     "text": [
      "Epoch 3/10 [Val]: 100%|██████████| 235/235 [00:09<00:00, 24.58it/s]\n"
     ]
    },
    {
     "name": "stdout",
     "output_type": "stream",
     "text": [
      "Epoch 3: Val Loss 0.4423, Val Acc 0.8184, Val AUC 0.9447\n"
     ]
    },
    {
     "name": "stderr",
     "output_type": "stream",
     "text": [
      "Epoch 4/10 [Train]: 100%|██████████| 938/938 [01:42<00:00,  9.16it/s]\n"
     ]
    },
    {
     "name": "stdout",
     "output_type": "stream",
     "text": [
      "Epoch 4: Train Loss 0.3334, Train Acc 0.8717, Train AUC 0.9666\n"
     ]
    },
    {
     "name": "stderr",
     "output_type": "stream",
     "text": [
      "Epoch 4/10 [Val]: 100%|██████████| 235/235 [00:09<00:00, 24.50it/s]\n"
     ]
    },
    {
     "name": "stdout",
     "output_type": "stream",
     "text": [
      "Epoch 4: Val Loss 0.3181, Val Acc 0.8787, Val AUC 0.9716\n"
     ]
    },
    {
     "name": "stderr",
     "output_type": "stream",
     "text": [
      "Epoch 5/10 [Train]: 100%|██████████| 938/938 [01:42<00:00,  9.15it/s]\n"
     ]
    },
    {
     "name": "stdout",
     "output_type": "stream",
     "text": [
      "Epoch 5: Train Loss 0.2855, Train Acc 0.8940, Train AUC 0.9747\n"
     ]
    },
    {
     "name": "stderr",
     "output_type": "stream",
     "text": [
      "Epoch 5/10 [Val]: 100%|██████████| 235/235 [00:09<00:00, 24.26it/s]\n"
     ]
    },
    {
     "name": "stdout",
     "output_type": "stream",
     "text": [
      "Epoch 5: Val Loss 0.3144, Val Acc 0.8825, Val AUC 0.9750\n"
     ]
    },
    {
     "name": "stderr",
     "output_type": "stream",
     "text": [
      "Epoch 6/10 [Train]: 100%|██████████| 938/938 [01:42<00:00,  9.16it/s]\n"
     ]
    },
    {
     "name": "stdout",
     "output_type": "stream",
     "text": [
      "Epoch 6: Train Loss 0.2539, Train Acc 0.9058, Train AUC 0.9799\n"
     ]
    },
    {
     "name": "stderr",
     "output_type": "stream",
     "text": [
      "Epoch 6/10 [Val]: 100%|██████████| 235/235 [00:09<00:00, 24.56it/s]\n"
     ]
    },
    {
     "name": "stdout",
     "output_type": "stream",
     "text": [
      "Epoch 6: Val Loss 0.2893, Val Acc 0.8911, Val AUC 0.9785\n"
     ]
    },
    {
     "name": "stderr",
     "output_type": "stream",
     "text": [
      "Epoch 7/10 [Train]: 100%|██████████| 938/938 [01:42<00:00,  9.16it/s]\n"
     ]
    },
    {
     "name": "stdout",
     "output_type": "stream",
     "text": [
      "Epoch 7: Train Loss 0.2257, Train Acc 0.9159, Train AUC 0.9836\n"
     ]
    },
    {
     "name": "stderr",
     "output_type": "stream",
     "text": [
      "Epoch 7/10 [Val]: 100%|██████████| 235/235 [00:09<00:00, 24.36it/s]\n"
     ]
    },
    {
     "name": "stdout",
     "output_type": "stream",
     "text": [
      "Epoch 7: Val Loss 0.2384, Val Acc 0.9151, Val AUC 0.9814\n"
     ]
    },
    {
     "name": "stderr",
     "output_type": "stream",
     "text": [
      "Epoch 8/10 [Train]: 100%|██████████| 938/938 [01:42<00:00,  9.13it/s]\n"
     ]
    },
    {
     "name": "stdout",
     "output_type": "stream",
     "text": [
      "Epoch 8: Train Loss 0.2039, Train Acc 0.9259, Train AUC 0.9865\n"
     ]
    },
    {
     "name": "stderr",
     "output_type": "stream",
     "text": [
      "Epoch 8/10 [Val]: 100%|██████████| 235/235 [00:09<00:00, 24.57it/s]\n"
     ]
    },
    {
     "name": "stdout",
     "output_type": "stream",
     "text": [
      "Epoch 8: Val Loss 0.2442, Val Acc 0.9096, Val AUC 0.9832\n"
     ]
    },
    {
     "name": "stderr",
     "output_type": "stream",
     "text": [
      "Epoch 9/10 [Train]: 100%|██████████| 938/938 [01:42<00:00,  9.16it/s]\n"
     ]
    },
    {
     "name": "stdout",
     "output_type": "stream",
     "text": [
      "Epoch 9: Train Loss 0.1950, Train Acc 0.9284, Train AUC 0.9875\n"
     ]
    },
    {
     "name": "stderr",
     "output_type": "stream",
     "text": [
      "Epoch 9/10 [Val]: 100%|██████████| 235/235 [00:09<00:00, 24.43it/s]\n"
     ]
    },
    {
     "name": "stdout",
     "output_type": "stream",
     "text": [
      "Epoch 9: Val Loss 0.2158, Val Acc 0.9193, Val AUC 0.9845\n"
     ]
    },
    {
     "name": "stderr",
     "output_type": "stream",
     "text": [
      "Epoch 10/10 [Train]: 100%|██████████| 938/938 [01:42<00:00,  9.15it/s]\n"
     ]
    },
    {
     "name": "stdout",
     "output_type": "stream",
     "text": [
      "Epoch 10: Train Loss 0.1745, Train Acc 0.9383, Train AUC 0.9897\n"
     ]
    },
    {
     "name": "stderr",
     "output_type": "stream",
     "text": [
      "Epoch 10/10 [Val]: 100%|██████████| 235/235 [00:09<00:00, 24.56it/s]"
     ]
    },
    {
     "name": "stdout",
     "output_type": "stream",
     "text": [
      "Epoch 10: Val Loss 0.2250, Val Acc 0.9192, Val AUC 0.9853\n"
     ]
    },
    {
     "name": "stderr",
     "output_type": "stream",
     "text": [
      "\n"
     ]
    }
   ],
   "source": [
    "model = train_fourier_aux('densenet121', train_loader, val_loader)"
   ]
  },
  {
   "cell_type": "code",
   "execution_count": 16,
   "id": "139c7b0d-aa3f-4216-97b4-bccf05c81474",
   "metadata": {
    "execution": {
     "iopub.execute_input": "2025-04-01T12:16:58.492858Z",
     "iopub.status.busy": "2025-04-01T12:16:58.492540Z",
     "iopub.status.idle": "2025-04-01T12:16:58.593656Z",
     "shell.execute_reply": "2025-04-01T12:16:58.593032Z",
     "shell.execute_reply.started": "2025-04-01T12:16:58.492836Z"
    },
    "trusted": true
   },
   "outputs": [],
   "source": [
    "torch.save({'model_state_dict':model.state_dict()},'densenet121_fourier_loss.pth')"
   ]
  },
  {
   "cell_type": "code",
   "execution_count": 20,
   "id": "0d8ee581-983a-4f0a-a782-9bdb13ca1bb6",
   "metadata": {
    "execution": {
     "iopub.execute_input": "2025-04-01T12:40:33.552049Z",
     "iopub.status.busy": "2025-04-01T12:40:33.551682Z",
     "iopub.status.idle": "2025-04-01T12:49:59.844692Z",
     "shell.execute_reply": "2025-04-01T12:49:59.843771Z",
     "shell.execute_reply.started": "2025-04-01T12:40:33.552022Z"
    },
    "trusted": true
   },
   "outputs": [
    {
     "data": {
      "application/vnd.jupyter.widget-view+json": {
       "model_id": "c2ced0a13c5f4c8284d1560e5ec27d03",
       "version_major": 2,
       "version_minor": 0
      },
      "text/plain": [
       "model.safetensors:   0%|          | 0.00/14.2M [00:00<?, ?B/s]"
      ]
     },
     "metadata": {},
     "output_type": "display_data"
    },
    {
     "name": "stderr",
     "output_type": "stream",
     "text": [
      "Epoch 1/10 [Train]: 100%|██████████| 938/938 [00:52<00:00, 18.04it/s]\n"
     ]
    },
    {
     "name": "stdout",
     "output_type": "stream",
     "text": [
      "Epoch 1: Train Loss 1.1048, Train Acc 0.4352, Train AUC 0.6219\n"
     ]
    },
    {
     "name": "stderr",
     "output_type": "stream",
     "text": [
      "Epoch 1/10 [Val]: 100%|██████████| 235/235 [00:04<00:00, 53.03it/s]\n"
     ]
    },
    {
     "name": "stdout",
     "output_type": "stream",
     "text": [
      "Epoch 1: Val Loss 0.9180, Val Acc 0.5400, Val AUC 0.7357\n"
     ]
    },
    {
     "name": "stderr",
     "output_type": "stream",
     "text": [
      "Epoch 2/10 [Train]: 100%|██████████| 938/938 [00:51<00:00, 18.12it/s]\n"
     ]
    },
    {
     "name": "stdout",
     "output_type": "stream",
     "text": [
      "Epoch 2: Train Loss 0.7987, Train Acc 0.6255, Train AUC 0.8081\n"
     ]
    },
    {
     "name": "stderr",
     "output_type": "stream",
     "text": [
      "Epoch 2/10 [Val]: 100%|██████████| 235/235 [00:04<00:00, 53.30it/s]\n"
     ]
    },
    {
     "name": "stdout",
     "output_type": "stream",
     "text": [
      "Epoch 2: Val Loss 0.6776, Val Acc 0.7031, Val AUC 0.8694\n"
     ]
    },
    {
     "name": "stderr",
     "output_type": "stream",
     "text": [
      "Epoch 3/10 [Train]: 100%|██████████| 938/938 [00:51<00:00, 18.13it/s]\n"
     ]
    },
    {
     "name": "stdout",
     "output_type": "stream",
     "text": [
      "Epoch 3: Train Loss 0.5611, Train Acc 0.7633, Train AUC 0.9095\n"
     ]
    },
    {
     "name": "stderr",
     "output_type": "stream",
     "text": [
      "Epoch 3/10 [Val]: 100%|██████████| 235/235 [00:04<00:00, 51.54it/s]\n"
     ]
    },
    {
     "name": "stdout",
     "output_type": "stream",
     "text": [
      "Epoch 3: Val Loss 0.6406, Val Acc 0.7244, Val AUC 0.9088\n"
     ]
    },
    {
     "name": "stderr",
     "output_type": "stream",
     "text": [
      "Epoch 4/10 [Train]: 100%|██████████| 938/938 [00:51<00:00, 18.04it/s]\n"
     ]
    },
    {
     "name": "stdout",
     "output_type": "stream",
     "text": [
      "Epoch 4: Train Loss 0.4216, Train Acc 0.8328, Train AUC 0.9482\n"
     ]
    },
    {
     "name": "stderr",
     "output_type": "stream",
     "text": [
      "Epoch 4/10 [Val]: 100%|██████████| 235/235 [00:04<00:00, 53.39it/s]\n"
     ]
    },
    {
     "name": "stdout",
     "output_type": "stream",
     "text": [
      "Epoch 4: Val Loss 0.4468, Val Acc 0.8255, Val AUC 0.9510\n"
     ]
    },
    {
     "name": "stderr",
     "output_type": "stream",
     "text": [
      "Epoch 5/10 [Train]: 100%|██████████| 938/938 [00:52<00:00, 18.04it/s]\n"
     ]
    },
    {
     "name": "stdout",
     "output_type": "stream",
     "text": [
      "Epoch 5: Train Loss 0.3480, Train Acc 0.8667, Train AUC 0.9644\n"
     ]
    },
    {
     "name": "stderr",
     "output_type": "stream",
     "text": [
      "Epoch 5/10 [Val]: 100%|██████████| 235/235 [00:04<00:00, 53.85it/s]\n"
     ]
    },
    {
     "name": "stdout",
     "output_type": "stream",
     "text": [
      "Epoch 5: Val Loss 0.3495, Val Acc 0.8689, Val AUC 0.9642\n"
     ]
    },
    {
     "name": "stderr",
     "output_type": "stream",
     "text": [
      "Epoch 6/10 [Train]: 100%|██████████| 938/938 [00:52<00:00, 17.97it/s]\n"
     ]
    },
    {
     "name": "stdout",
     "output_type": "stream",
     "text": [
      "Epoch 6: Train Loss 0.3007, Train Acc 0.8876, Train AUC 0.9728\n"
     ]
    },
    {
     "name": "stderr",
     "output_type": "stream",
     "text": [
      "Epoch 6/10 [Val]: 100%|██████████| 235/235 [00:04<00:00, 53.04it/s]\n"
     ]
    },
    {
     "name": "stdout",
     "output_type": "stream",
     "text": [
      "Epoch 6: Val Loss 0.3059, Val Acc 0.8861, Val AUC 0.9738\n"
     ]
    },
    {
     "name": "stderr",
     "output_type": "stream",
     "text": [
      "Epoch 7/10 [Train]: 100%|██████████| 938/938 [00:51<00:00, 18.09it/s]\n"
     ]
    },
    {
     "name": "stdout",
     "output_type": "stream",
     "text": [
      "Epoch 7: Train Loss 0.2654, Train Acc 0.9022, Train AUC 0.9785\n"
     ]
    },
    {
     "name": "stderr",
     "output_type": "stream",
     "text": [
      "Epoch 7/10 [Val]: 100%|██████████| 235/235 [00:04<00:00, 52.96it/s]\n"
     ]
    },
    {
     "name": "stdout",
     "output_type": "stream",
     "text": [
      "Epoch 7: Val Loss 0.3651, Val Acc 0.8695, Val AUC 0.9686\n"
     ]
    },
    {
     "name": "stderr",
     "output_type": "stream",
     "text": [
      "Epoch 8/10 [Train]: 100%|██████████| 938/938 [00:51<00:00, 18.05it/s]\n"
     ]
    },
    {
     "name": "stdout",
     "output_type": "stream",
     "text": [
      "Epoch 8: Train Loss 0.2451, Train Acc 0.9094, Train AUC 0.9816\n"
     ]
    },
    {
     "name": "stderr",
     "output_type": "stream",
     "text": [
      "Epoch 8/10 [Val]: 100%|██████████| 235/235 [00:04<00:00, 50.62it/s]\n"
     ]
    },
    {
     "name": "stdout",
     "output_type": "stream",
     "text": [
      "Epoch 8: Val Loss 0.3155, Val Acc 0.8809, Val AUC 0.9705\n"
     ]
    },
    {
     "name": "stderr",
     "output_type": "stream",
     "text": [
      "Epoch 9/10 [Train]: 100%|██████████| 938/938 [00:52<00:00, 17.88it/s]\n"
     ]
    },
    {
     "name": "stdout",
     "output_type": "stream",
     "text": [
      "Epoch 9: Train Loss 0.2204, Train Acc 0.9179, Train AUC 0.9848\n"
     ]
    },
    {
     "name": "stderr",
     "output_type": "stream",
     "text": [
      "Epoch 9/10 [Val]: 100%|██████████| 235/235 [00:04<00:00, 52.67it/s]\n"
     ]
    },
    {
     "name": "stdout",
     "output_type": "stream",
     "text": [
      "Epoch 9: Val Loss 0.2819, Val Acc 0.9003, Val AUC 0.9766\n"
     ]
    },
    {
     "name": "stderr",
     "output_type": "stream",
     "text": [
      "Epoch 10/10 [Train]: 100%|██████████| 938/938 [00:52<00:00, 17.83it/s]\n"
     ]
    },
    {
     "name": "stdout",
     "output_type": "stream",
     "text": [
      "Epoch 10: Train Loss 0.2041, Train Acc 0.9257, Train AUC 0.9869\n"
     ]
    },
    {
     "name": "stderr",
     "output_type": "stream",
     "text": [
      "Epoch 10/10 [Val]: 100%|██████████| 235/235 [00:04<00:00, 52.04it/s]"
     ]
    },
    {
     "name": "stdout",
     "output_type": "stream",
     "text": [
      "Epoch 10: Val Loss 0.3424, Val Acc 0.8879, Val AUC 0.9768\n"
     ]
    },
    {
     "name": "stderr",
     "output_type": "stream",
     "text": [
      "\n"
     ]
    }
   ],
   "source": [
    "model = train_fourier_aux('mobilenetv2_100', train_loader, val_loader)"
   ]
  },
  {
   "cell_type": "code",
   "execution_count": 21,
   "id": "358ceba0-829f-49f8-bc9a-c3d3d2251cf3",
   "metadata": {
    "execution": {
     "iopub.execute_input": "2025-04-01T12:51:39.242624Z",
     "iopub.status.busy": "2025-04-01T12:51:39.242275Z",
     "iopub.status.idle": "2025-04-01T12:51:39.285820Z",
     "shell.execute_reply": "2025-04-01T12:51:39.285191Z",
     "shell.execute_reply.started": "2025-04-01T12:51:39.242597Z"
    },
    "trusted": true
   },
   "outputs": [],
   "source": [
    "torch.save({'model_state_dict':model.state_dict()},'mobilenetv2_fourier_loss.pth')"
   ]
  },
  {
   "cell_type": "code",
   "execution_count": null,
   "id": "ffabe6d3-0286-4542-95ba-c4f091f91cb9",
   "metadata": {
    "trusted": true
   },
   "outputs": [],
   "source": []
  }
 ],
 "metadata": {
  "kaggle": {
   "accelerator": "gpu",
   "dataSources": [
    {
     "datasetId": 6759693,
     "sourceId": 10879292,
     "sourceType": "datasetVersion"
    }
   ],
   "dockerImageVersionId": 30919,
   "isGpuEnabled": true,
   "isInternetEnabled": true,
   "language": "python",
   "sourceType": "notebook"
  },
  "kernelspec": {
   "display_name": "Python 3",
   "language": "python",
   "name": "python3"
  },
  "language_info": {
   "codemirror_mode": {
    "name": "ipython",
    "version": 3
   },
   "file_extension": ".py",
   "mimetype": "text/x-python",
   "name": "python",
   "nbconvert_exporter": "python",
   "pygments_lexer": "ipython3",
   "version": "3.10.12"
  }
 },
 "nbformat": 4,
 "nbformat_minor": 5
}
